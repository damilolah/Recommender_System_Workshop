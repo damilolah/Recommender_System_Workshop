{
 "cells": [
  {
   "cell_type": "markdown",
   "metadata": {
    "slideshow": {
     "slide_type": "slide"
    }
   },
   "source": [
    "<h1><p style=\"display: block; text-align: center;\">AI of the 21st Century!</p></h1>\n",
    "\n",
    "<h3><p style=\"display: block; text-align: center;\">Intro to Recommender Systems</p></h3>\n",
    "\n",
    "<h5><p style=\"display: block; text-align: center;\">Ruth Okoilu Akintunde</p></h5>"
   ]
  },
  {
   "cell_type": "markdown",
   "metadata": {
    "slideshow": {
     "slide_type": "subslide"
    }
   },
   "source": [
    "<h1><p style=\"display: block; text-align: center;\">About me</p></h1>"
   ]
  },
  {
   "cell_type": "markdown",
   "metadata": {
    "slideshow": {
     "slide_type": "subslide"
    }
   },
   "source": [
    "![title](img2/bio.PNG) "
   ]
  },
  {
   "cell_type": "markdown",
   "metadata": {
    "slideshow": {
     "slide_type": "subslide"
    }
   },
   "source": [
    "<center><img src=img2/Figs2.png></center>\n"
   ]
  },
  {
   "cell_type": "markdown",
   "metadata": {
    "slideshow": {
     "slide_type": "notes"
    }
   },
   "source": [
    "\n",
    "#### I've worked on detecting critical moments in students’ learning processes \n",
    "#### and tracing factors that contribute to \n",
    "#### knowledge gain especially in areas of STEM. \n",
    "#### Leveraging the power of deep learning architectures \n",
    "#### for multi-modal data streams including logs, \n",
    "#### and eye tracking.  The study which is yet \n",
    "#### to be published tries to predict if learning can be detected using eye movement patterns and eye actions alone. The result of the study shows that eye movement can tell a lot about whether is student is learning or not while studying on a Intelligent tutoring system\n",
    "#### my goal is to create advanced\n",
    "#### personalized learning tools for easy mastery of STEM subjects. \n",
    "#### I am also interested in designing and improving personalized \n",
    "#### learning on virtual and augmented reality (VR/AR) \n",
    "#### based learning platforms."
   ]
  },
  {
   "cell_type": "markdown",
   "metadata": {
    "slideshow": {
     "slide_type": "slide"
    }
   },
   "source": [
    "<h1><p style=\"display: block; text-align: center;\">This presentation is running inside of a Jupyter Notebook</p></h1>\n",
    "\n"
   ]
  },
  {
   "cell_type": "code",
   "execution_count": 19,
   "metadata": {
    "slideshow": {
     "slide_type": "fragment"
    }
   },
   "outputs": [
    {
     "name": "stdout",
     "output_type": "stream",
     "text": [
      "Using Python version 3.6.8\n"
     ]
    }
   ],
   "source": [
    "import platform\n",
    "print('Using Python version', platform.python_version())"
   ]
  },
  {
   "cell_type": "markdown",
   "metadata": {
    "slideshow": {
     "slide_type": "slide"
    }
   },
   "source": [
    "<h1>Outline</h1>\n",
    "\n",
    " * <h2 style=\"color:red\">Let's talk about AI today</h2> \n",
    " * <h2 style=\"color:gray\">Privacy vs Convenience</h2> \n",
    " * <h2 style=\"color:gray\">Overview of Recommender Systems</h2> \n",
    " * <h2 style=\"color:gray\">Methods for Building a Recommender System</h2> \n",
    " * <h2 style=\"color:gray\">Implementing a Recommender System</h2> \n",
    "\n"
   ]
  },
  {
   "cell_type": "markdown",
   "metadata": {
    "slideshow": {
     "slide_type": "slide"
    }
   },
   "source": [
    "<h1>Let's talk about AI today</h1>"
   ]
  },
  {
   "cell_type": "markdown",
   "metadata": {
    "slideshow": {
     "slide_type": "subslide"
    }
   },
   "source": [
    "<center><img src=img2/tech.gif></center>"
   ]
  },
  {
   "cell_type": "markdown",
   "metadata": {
    "slideshow": {
     "slide_type": "notes"
    }
   },
   "source": [
    "Amazon, Google, Microsoft, Facebook! All big tech firms are currently in an AI talent battle and you should join in as well. \n",
    "One reason is the ginomous gold mine this happens to be. Especially in the world of personalized advertising. "
   ]
  },
  {
   "cell_type": "markdown",
   "metadata": {
    "slideshow": {
     "slide_type": "subslide"
    }
   },
   "source": [
    "![title](img2/AI.jpg) "
   ]
  },
  {
   "cell_type": "markdown",
   "metadata": {
    "slideshow": {
     "slide_type": "notes"
    }
   },
   "source": [
    "These days there are APIs that can provide information about user's location and whatever is going on around these users. Particular when these users tend to rely absolutly on technology. \n"
   ]
  },
  {
   "cell_type": "markdown",
   "metadata": {
    "slideshow": {
     "slide_type": "subslide"
    }
   },
   "source": [
    "<center><img src=img2/alexa.jpg></center>"
   ]
  },
  {
   "cell_type": "markdown",
   "metadata": {
    "slideshow": {
     "slide_type": "notes"
    }
   },
   "source": [
    "You have Alexa powered homes, your conversations being analyzed, your shopping preference garnered to give the machine an idea of who you are. All these APIs collect data that can be used for more effective personalization. \n",
    "\n"
   ]
  },
  {
   "cell_type": "markdown",
   "metadata": {
    "slideshow": {
     "slide_type": "slide"
    }
   },
   "source": [
    "<h1>Outline</h1>\n",
    "\n",
    " * <h2 style=\"color:green\">Let's talk about AI today</h2> \n",
    " * <h2 style=\"color:red\">Privacy vs Convenience</h2> \n",
    " * <h2 style=\"color:gray\">Overview of Recommender Systems</h2> \n",
    " * <h2 style=\"color:gray\">Methods for Building a Recommender System</h2> \n",
    " * <h2 style=\"color:gray\">Implementing a Recommender System</h2> \n",
    "\n"
   ]
  },
  {
   "cell_type": "markdown",
   "metadata": {
    "slideshow": {
     "slide_type": "subslide"
    }
   },
   "source": [
    "<center><img src=img2/pii.jpg></center>"
   ]
  },
  {
   "cell_type": "markdown",
   "metadata": {
    "slideshow": {
     "slide_type": "notes"
    }
   },
   "source": [
    "But, wait a minute, I have a question. This is my data! What's it doing out there?\n",
    "The answer isL it's an unconscious trade by barter where you exchange your privacy for tailored technology which most of us enjoy. We enjoy Walmart's reminders to re-order items, Netflix useful movie suggestions, Ok Google's advise to put on an extra of clothing because it will be freezing cold today. We don't have to type anymore. We can simply speak the word.\n",
    "\n",
    "Although they claim that technology has advanced to a point where it is possible to anonymoize data and run this complex AI algorithms without actually knowing any personally identifiable information (PII) about these users.\n",
    "But is that really the case.\n",
    "\n",
    "Some people got uncomfortable with this and put Facebook founder Mark Zuckerberg on the hot seat and so it's not surprizing that the first statement he made in the famous Facebook F8 conference 2019 had the word privacy in it.\n",
    "\n",
    "Listen:\n",
    "\n",
    "\n",
    "https://www.youtube.com/watch?v=UtxPdezclYw"
   ]
  },
  {
   "cell_type": "markdown",
   "metadata": {
    "slideshow": {
     "slide_type": "slide"
    }
   },
   "source": [
    "![title](img2/fbm.png) "
   ]
  },
  {
   "cell_type": "markdown",
   "metadata": {
    "slideshow": {
     "slide_type": "notes"
    }
   },
   "source": [
    "Okay, thank you Mark. \n",
    "But let's wait and see how that model works for Facebook!"
   ]
  },
  {
   "cell_type": "markdown",
   "metadata": {
    "slideshow": {
     "slide_type": "slide"
    }
   },
   "source": [
    "<h1><p style=\"display: block; text-align: center;\">How Do They Know What I Like?</p></h1>\n",
    "\n",
    "\n"
   ]
  },
  {
   "cell_type": "markdown",
   "metadata": {
    "slideshow": {
     "slide_type": "subslide"
    }
   },
   "source": [
    "<center><img src=img2/napi.jpg></center>"
   ]
  },
  {
   "cell_type": "markdown",
   "metadata": {
    "slideshow": {
     "slide_type": "notes"
    }
   },
   "source": [
    "\n",
    "\n",
    "Today, we'll learn how Netflix knows that I will like \"Nappily Ever After\", you know I didn't tell them, I'm a black girl or I love Romantic movies. They didn't make me fill any form about that. So how did they know?\n",
    "\n"
   ]
  },
  {
   "cell_type": "markdown",
   "metadata": {
    "slideshow": {
     "slide_type": "subslide"
    }
   },
   "source": [
    "<center><img src=img2/fb.jpg></center>"
   ]
  },
  {
   "cell_type": "markdown",
   "metadata": {
    "slideshow": {
     "slide_type": "notes"
    }
   },
   "source": [
    "How does Facebook know I need new mattress? Why do I keep seeing this ad to purchase what I talked to myself about buying last night. How does Amazon know that this is the perfect Father's day gift for my Dad?"
   ]
  },
  {
   "cell_type": "markdown",
   "metadata": {
    "slideshow": {
     "slide_type": "slide"
    }
   },
   "source": [
    "<h1><p style=\"display: block; text-align: center;\">Recommender Systems!</p></h1>\n",
    "\n",
    "\n"
   ]
  },
  {
   "cell_type": "markdown",
   "metadata": {
    "slideshow": {
     "slide_type": "notes"
    }
   },
   "source": [
    "Recommender systems have become extremely popular and irreplacable in the world of data science. Recommenders system a.k.a recommendation engine, framework etc. can   predict your preference and what rating you would give to a product. All big tech giants will pay you a torn to improve their recommendation engines because there in lies revenue. The right produc to the right person at the right time guarantees a purchase, engagement etc. and what business doesn't like an addicted customer. "
   ]
  },
  {
   "cell_type": "markdown",
   "metadata": {
    "slideshow": {
     "slide_type": "subslide"
    }
   },
   "source": [
    "<center><img src=img2/netflix_rec.jpg></center>\n",
    "\n",
    "Source: [NewyorkTimes](https://bits.blogs.nytimes.com/2009/09/21/netflix-awards-1-million-prize-and-starts-a-new-contest/)"
   ]
  },
  {
   "cell_type": "markdown",
   "metadata": {
    "slideshow": {
     "slide_type": "skip"
    }
   },
   "source": [
    "https://bits.blogs.nytimes.com/2009/09/21/netflix-awards-1-million-prize-and-starts-a-new-contest/"
   ]
  },
  {
   "cell_type": "markdown",
   "metadata": {
    "slideshow": {
     "slide_type": "notes"
    }
   },
   "source": [
    "In fact, Netflix even offered a million dollars in 2009 to anyone who could improve its system by 10%.\n"
   ]
  },
  {
   "cell_type": "markdown",
   "metadata": {
    "slideshow": {
     "slide_type": "subslide"
    }
   },
   "source": [
    "<h2><p style=\"display: block; text-align: center;\">How does Diapers and Beers go together?</p></h2>"
   ]
  },
  {
   "cell_type": "markdown",
   "metadata": {
    "slideshow": {
     "slide_type": "notes"
    }
   },
   "source": [
    "The first time I heard about recommenders system was in 2010 when my college professor told me that AI guru's recommended that retailers stock beers and diapers together. This was an inference from static recommendation analysis.\n",
    "\n",
    "Which is this!\n",
    "\n",
    "Listen and tell me if it's true. Fathers in the house listen:\n",
    "\n",
    "Men between the ages of 30-40 years shopping betwen 5-7pm on Fridays who purchase diapers were most likely to also have beer in their carts. \n",
    "\n",
    "Source: [Reference](http://www.dssresources.com/newsletters/66.php)\n",
    "\n"
   ]
  },
  {
   "cell_type": "markdown",
   "metadata": {},
   "source": [
    "<center><img src=img2/bezos.jpg></center>"
   ]
  },
  {
   "cell_type": "markdown",
   "metadata": {
    "slideshow": {
     "slide_type": "notes"
    }
   },
   "source": [
    "AI did it for this guys right here. Knowing how to make th most of the Black Friday Sales using Recommender System. Amazon Jeff Bezos rose up the ranks because AI could help predict what products to place a discount on and hoe much discount. Also, recommending the right products to you with a discount that ensures purchase."
   ]
  },
  {
   "cell_type": "markdown",
   "metadata": {
    "slideshow": {
     "slide_type": "subslide"
    }
   },
   "source": [
    "<center><img src=img2/now.gif></center>\n"
   ]
  },
  {
   "cell_type": "markdown",
   "metadata": {
    "slideshow": {
     "slide_type": "notes"
    }
   },
   "source": [
    "Nobody's got time for old news. Recommendation engines today are real time, precise with respect to timing amd tailored to the whatever is currently going on aroud you.\n",
    "\n",
    "Target was able to predict the pregnancy of a teen girl before the father realized it.\n"
   ]
  },
  {
   "cell_type": "markdown",
   "metadata": {
    "slideshow": {
     "slide_type": "slide"
    }
   },
   "source": [
    "<h1>Outline</h1>\n",
    "\n",
    " * <h2 style=\"color:green\">Let's talk about AI today</h2> \n",
    " * <h2 style=\"color:green\">Privacy vs Convenience</h2> \n",
    " * <h2 style=\"color:green\">Overview of Recommender Systems</h2> \n",
    " * <h2 style=\"color:red\">Methods for Building a Recommender System</h2> \n",
    " * <h2 style=\"color:gray\">Implementing a Recommender System</h2> \n",
    "\n",
    "\n"
   ]
  },
  {
   "cell_type": "markdown",
   "metadata": {
    "slideshow": {
     "slide_type": "slide"
    }
   },
   "source": [
    "### There are 2 Most Popular Methods Behind These Genius Systems"
   ]
  },
  {
   "cell_type": "markdown",
   "metadata": {
    "slideshow": {
     "slide_type": "fragment"
    }
   },
   "source": [
    "* Content-based"
   ]
  },
  {
   "cell_type": "markdown",
   "metadata": {
    "slideshow": {
     "slide_type": "fragment"
    }
   },
   "source": [
    "* Collaborative Filtering"
   ]
  },
  {
   "cell_type": "markdown",
   "metadata": {
    "slideshow": {
     "slide_type": "fragment"
    }
   },
   "source": [
    "* Hybrid of Content-based and Collaborative Filtering"
   ]
  },
  {
   "cell_type": "markdown",
   "metadata": {
    "slideshow": {
     "slide_type": "notes"
    }
   },
   "source": [
    "The Hybrid method is also worth mentioning. This is simply an approach that combines collaborative filtering and content-based filtering into a unified system.\n",
    "\n",
    "Clearly, using both types of information together can potentially yield a more powerful recommendation system, which is why model-based hybrid recommender systems were developed \n"
   ]
  },
  {
   "cell_type": "markdown",
   "metadata": {
    "slideshow": {
     "slide_type": "slide"
    }
   },
   "source": [
    "<h2><p style=\"display: block; text-align: center;\">Content Based Method</p></h2>\n",
    "\n",
    "\n"
   ]
  },
  {
   "cell_type": "markdown",
   "metadata": {
    "slideshow": {
     "slide_type": "fragment"
    }
   },
   "source": [
    "* Recommend product based on historical product features"
   ]
  },
  {
   "cell_type": "markdown",
   "metadata": {
    "slideshow": {
     "slide_type": "notes"
    }
   },
   "source": [
    "A user is recommended a product based on historical product features. You search for sneakers or even purchased a pair of sneakers and you are recommneded other brands, other types of foot wear or even socks, shoe polish etc.  \n"
   ]
  },
  {
   "cell_type": "markdown",
   "metadata": {
    "slideshow": {
     "slide_type": "fragment"
    }
   },
   "source": [
    "* Exploits semantic relationships between historical purchases"
   ]
  },
  {
   "cell_type": "markdown",
   "metadata": {
    "slideshow": {
     "slide_type": "notes"
    }
   },
   "source": [
    "This exploits the semantic relations between historically searches e.g. jobs you previously applied to, you then get a recommendation of a job with a similar salary range or job discription etc. These features are usually derived from textual information and semantic meaning of the products involved. "
   ]
  },
  {
   "cell_type": "markdown",
   "metadata": {
    "slideshow": {
     "slide_type": "subslide"
    }
   },
   "source": [
    "![title](img2/linked.png) "
   ]
  },
  {
   "cell_type": "markdown",
   "metadata": {
    "slideshow": {
     "slide_type": "notes"
    }
   },
   "source": [
    "Think of it as a linked graph of items, such that when you order one item, they recommend items on the branches of the graph to you. You watched You've got mail and they recommend sleeples because it's a Tom Hanks movie. "
   ]
  },
  {
   "cell_type": "markdown",
   "metadata": {
    "slideshow": {
     "slide_type": "subslide"
    }
   },
   "source": [
    "#### Downside to Content-Based Approaches"
   ]
  },
  {
   "cell_type": "markdown",
   "metadata": {
    "slideshow": {
     "slide_type": "fragment"
    }
   },
   "source": [
    "* Not refreshing"
   ]
  },
  {
   "cell_type": "markdown",
   "metadata": {
    "slideshow": {
     "slide_type": "notes"
    }
   },
   "source": [
    "The downside to this approach is that the recommendations are not always refreshing. It revolves around a particular theme. It's mostly capable of suggesting movies which are close to a certain movie. It might not capture tastes and provide suggestions across genres.\n"
   ]
  },
  {
   "cell_type": "markdown",
   "metadata": {
    "slideshow": {
     "slide_type": "fragment"
    }
   },
   "source": [
    "* Not personal"
   ]
  },
  {
   "cell_type": "markdown",
   "metadata": {
    "slideshow": {
     "slide_type": "notes"
    }
   },
   "source": [
    "The system is not really personal that we built is not really personal in that it doesn't capture the personal tastes and biases of a user. It recommends the same set of movies to everyone that has watched a Tom Hanks movie regardless of their current taste or preference.\n",
    "\n"
   ]
  },
  {
   "cell_type": "markdown",
   "metadata": {
    "slideshow": {
     "slide_type": "subslide"
    }
   },
   "source": [
    "#### Upside to Content-Based Approaches"
   ]
  },
  {
   "cell_type": "markdown",
   "metadata": {
    "slideshow": {
     "slide_type": "fragment"
    }
   },
   "source": [
    "* Does not face the cold start problem"
   ]
  },
  {
   "cell_type": "markdown",
   "metadata": {
    "slideshow": {
     "slide_type": "slide"
    }
   },
   "source": [
    "<h2><p style=\"display: block; text-align: center;\">Collaborative Filtering Method</p></h2>\n"
   ]
  },
  {
   "cell_type": "markdown",
   "metadata": {
    "slideshow": {
     "slide_type": "fragment"
    }
   },
   "source": [
    "* Clusters similar users into a group"
   ]
  },
  {
   "cell_type": "markdown",
   "metadata": {
    "slideshow": {
     "slide_type": "notes"
    }
   },
   "source": [
    "This method groups users into similar groups based on the items they purchased in the past. Lets do a little exercise that will explain what I mean. So that I dont have to talk too much,"
   ]
  },
  {
   "cell_type": "markdown",
   "metadata": {
    "slideshow": {
     "slide_type": "subslide"
    }
   },
   "source": [
    "![title](img2/collab.png) \n",
    "Source: [DataTorrent](https://www.youtube.com/watch?v=-R-krTgEOlM)"
   ]
  },
  {
   "cell_type": "markdown",
   "metadata": {
    "slideshow": {
     "slide_type": "fragment"
    }
   },
   "source": [
    "* Can you cluster any two users?"
   ]
  },
  {
   "cell_type": "markdown",
   "metadata": {
    "slideshow": {
     "slide_type": "fragment"
    }
   },
   "source": [
    "* Will user E be recommended a laptop?"
   ]
  },
  {
   "cell_type": "markdown",
   "metadata": {
    "slideshow": {
     "slide_type": "notes"
    }
   },
   "source": [
    "We have 5 users and 4 products:\n",
    "\n",
    "An Ipad, a Notebook, Laptop and game.\n",
    "Based on the first 2 items the users purchased previously. Can you cluster these users into groups. Surposing we label the users A, B, C, D ,E. For me, I can see should user C and E being in the same group. Because their first 2 purchases are similar. \n",
    "\n",
    "Quick question:\n",
    "Will user E be recomended item 3?\n",
    "\n",
    "Answer:\n",
    "We can see user C who is similar to E does not like the Laptop so it will not be recommended.\n"
   ]
  },
  {
   "cell_type": "markdown",
   "metadata": {
    "slideshow": {
     "slide_type": "subslide"
    }
   },
   "source": [
    "#### Downside to Collaborative Filtering Approaches"
   ]
  },
  {
   "cell_type": "markdown",
   "metadata": {
    "slideshow": {
     "slide_type": "fragment"
    }
   },
   "source": [
    "* Cold start problem when no or little purchase history is available"
   ]
  },
  {
   "cell_type": "markdown",
   "metadata": {
    "slideshow": {
     "slide_type": "fragment"
    }
   },
   "source": [
    "* Model needs to be updated regularly"
   ]
  },
  {
   "cell_type": "markdown",
   "metadata": {
    "slideshow": {
     "slide_type": "notes"
    }
   },
   "source": [
    "On addition of any user or new item, model needs to be retrained to use those values"
   ]
  },
  {
   "cell_type": "markdown",
   "metadata": {
    "slideshow": {
     "slide_type": "subslide"
    }
   },
   "source": [
    "#### Upside to Collaborative Filtering Approaches"
   ]
  },
  {
   "cell_type": "markdown",
   "metadata": {
    "slideshow": {
     "slide_type": "fragment"
    }
   },
   "source": [
    "* Works well in providing cross domain recommendation"
   ]
  },
  {
   "cell_type": "markdown",
   "metadata": {
    "slideshow": {
     "slide_type": "fragment"
    }
   },
   "source": [
    "* Creates fresher and diverse recommendations for users based on his purchase history compared to content based"
   ]
  },
  {
   "cell_type": "markdown",
   "metadata": {
    "slideshow": {
     "slide_type": "subslide"
    }
   },
   "source": [
    "![title](img2/fathers.png)"
   ]
  },
  {
   "cell_type": "markdown",
   "metadata": {
    "slideshow": {
     "slide_type": "notes"
    }
   },
   "source": [
    "I particularly like this approach! You know, common, there is a work around to the cold start problem. You've not purchased anything from Amazon, so they might not put you in a cluster but hey, they know you live in the US and Father's day is around the corner so!\n",
    "\n",
    "You can buy something for your Dad, stranger! Just buy something will you"
   ]
  },
  {
   "cell_type": "markdown",
   "metadata": {
    "slideshow": {
     "slide_type": "slide"
    }
   },
   "source": [
    "<h1>Outline</h1>\n",
    "\n",
    " * <h2 style=\"color:green\">Let's talk about AI today</h2> \n",
    " * <h2 style=\"color:green\">Privacy vs Convenience</h2> \n",
    " * <h2 style=\"color:green\">Overview of Recommender Systems</h2> \n",
    " * <h2 style=\"color:green\">Methods for Building a Recommender System</h2> \n",
    " * <h2 style=\"color:red\">Implementing a Recommender System</h2> \n",
    " \n",
    "\n",
    "\n",
    "\n"
   ]
  },
  {
   "cell_type": "markdown",
   "metadata": {
    "slideshow": {
     "slide_type": "notes"
    }
   },
   "source": [
    "On that note, we end the overview and begin our workshop building a simple recommendation Engine. "
   ]
  },
  {
   "cell_type": "markdown",
   "metadata": {
    "slideshow": {
     "slide_type": "subslide"
    }
   },
   "source": [
    "#### Section 1: Collaborative Filtering with Python"
   ]
  },
  {
   "cell_type": "markdown",
   "metadata": {
    "slideshow": {
     "slide_type": "slide"
    }
   },
   "source": [
    "<h2><p style=\"display: block; text-align: center;\">Think about Clusters, We think Similarities</p></h2>\n",
    "\n",
    "\n",
    "\n"
   ]
  },
  {
   "cell_type": "markdown",
   "metadata": {
    "slideshow": {
     "slide_type": "notes"
    }
   },
   "source": [
    "We'll be building a collaborative filtering based recommendation systems. That calculates similarities between ratings users have given a movie and use used a similarity matrics called euclidean similarity, to find similar users and recommend movies from those similar users. "
   ]
  },
  {
   "cell_type": "markdown",
   "metadata": {
    "slideshow": {
     "slide_type": "fragment"
    }
   },
   "source": [
    "* If John loves it and John is similar to Mary, it's likely that Mary will love it too!"
   ]
  },
  {
   "cell_type": "markdown",
   "metadata": {
    "slideshow": {
     "slide_type": "notes"
    }
   },
   "source": [
    "User-based Filtering: these system will recommend movies to a user that similar users have liked. For example, let's say John and Mary have watched and liked a set of movies in the past, that means they are similar. We'll give a score to the extent to which they are similar using Euclidean similarity matrics. (that is, they largely like the same movies). \n",
    "\n",
    "Now, suppose some new movies have been released on Netflix. If John has watched and loved it. Then our recommedation system will suggest these set of new movies to Mary as it is highly likely that Mary will like it too."
   ]
  },
  {
   "cell_type": "markdown",
   "metadata": {
    "slideshow": {
     "slide_type": "subslide"
    }
   },
   "source": [
    "#### Question\n",
    "\n",
    "* From what we know about collaborative filtering, can anyone tell us what data/attributes we need for collaborative filtering?"
   ]
  },
  {
   "cell_type": "markdown",
   "metadata": {
    "slideshow": {
     "slide_type": "fragment"
    }
   },
   "source": [
    "#### Answer\n",
    "* Movies all users have watched \n",
    "* Ratings by all users on all they movies they have watched"
   ]
  },
  {
   "cell_type": "markdown",
   "metadata": {
    "slideshow": {
     "slide_type": "slide"
    }
   },
   "source": [
    "### Let's Code\n",
    "\n",
    "The code used in this section was adapted from: [ai_society](https://ai-society.github.io/Collaborative-Filtering/)\n",
    "You can also modify it for other datasets as well.\n"
   ]
  },
  {
   "cell_type": "code",
   "execution_count": 20,
   "metadata": {
    "slideshow": {
     "slide_type": "fragment"
    }
   },
   "outputs": [],
   "source": [
    "#Import necessary libraries\n",
    "import math\n",
    "import pandas as pd"
   ]
  },
  {
   "cell_type": "code",
   "execution_count": 21,
   "metadata": {
    "slideshow": {
     "slide_type": "subslide"
    }
   },
   "outputs": [
    {
     "data": {
      "text/html": [
       "<div>\n",
       "<style scoped>\n",
       "    .dataframe tbody tr th:only-of-type {\n",
       "        vertical-align: middle;\n",
       "    }\n",
       "\n",
       "    .dataframe tbody tr th {\n",
       "        vertical-align: top;\n",
       "    }\n",
       "\n",
       "    .dataframe thead th {\n",
       "        text-align: right;\n",
       "    }\n",
       "</style>\n",
       "<table border=\"1\" class=\"dataframe\">\n",
       "  <thead>\n",
       "    <tr style=\"text-align: right;\">\n",
       "      <th></th>\n",
       "      <th>userId</th>\n",
       "      <th>movieId</th>\n",
       "      <th>rating</th>\n",
       "      <th>timestamp</th>\n",
       "      <th>movie_title</th>\n",
       "      <th>user_name</th>\n",
       "    </tr>\n",
       "  </thead>\n",
       "  <tbody>\n",
       "    <tr>\n",
       "      <th>1139</th>\n",
       "      <td>11</td>\n",
       "      <td>3114</td>\n",
       "      <td>5.0</td>\n",
       "      <td>1230853680</td>\n",
       "      <td>Toy Story 2 (1999)</td>\n",
       "      <td>James</td>\n",
       "    </tr>\n",
       "    <tr>\n",
       "      <th>1140</th>\n",
       "      <td>11</td>\n",
       "      <td>3159</td>\n",
       "      <td>5.0</td>\n",
       "      <td>1230859507</td>\n",
       "      <td>Fantasia 2000 (1999)</td>\n",
       "      <td>James</td>\n",
       "    </tr>\n",
       "    <tr>\n",
       "      <th>1141</th>\n",
       "      <td>11</td>\n",
       "      <td>3213</td>\n",
       "      <td>3.0</td>\n",
       "      <td>1230859502</td>\n",
       "      <td>Batman: Mask of the Phantasm (1993)</td>\n",
       "      <td>James</td>\n",
       "    </tr>\n",
       "    <tr>\n",
       "      <th>1142</th>\n",
       "      <td>11</td>\n",
       "      <td>3247</td>\n",
       "      <td>4.5</td>\n",
       "      <td>1230854150</td>\n",
       "      <td>Sister Act (1992)</td>\n",
       "      <td>James</td>\n",
       "    </tr>\n",
       "    <tr>\n",
       "      <th>1143</th>\n",
       "      <td>11</td>\n",
       "      <td>3269</td>\n",
       "      <td>5.0</td>\n",
       "      <td>1230789266</td>\n",
       "      <td>Forever Young (1992)</td>\n",
       "      <td>James</td>\n",
       "    </tr>\n",
       "    <tr>\n",
       "      <th>1144</th>\n",
       "      <td>11</td>\n",
       "      <td>3300</td>\n",
       "      <td>4.0</td>\n",
       "      <td>1230788503</td>\n",
       "      <td>Pitch Black (2000)</td>\n",
       "      <td>James</td>\n",
       "    </tr>\n",
       "    <tr>\n",
       "      <th>1145</th>\n",
       "      <td>11</td>\n",
       "      <td>3396</td>\n",
       "      <td>0.5</td>\n",
       "      <td>1230782616</td>\n",
       "      <td>Muppet Movie, The (1979)</td>\n",
       "      <td>James</td>\n",
       "    </tr>\n",
       "    <tr>\n",
       "      <th>1146</th>\n",
       "      <td>11</td>\n",
       "      <td>3438</td>\n",
       "      <td>4.5</td>\n",
       "      <td>1230789252</td>\n",
       "      <td>Teenage Mutant Ninja Turtles (1990)</td>\n",
       "      <td>James</td>\n",
       "    </tr>\n",
       "    <tr>\n",
       "      <th>1147</th>\n",
       "      <td>11</td>\n",
       "      <td>3525</td>\n",
       "      <td>5.0</td>\n",
       "      <td>1230785908</td>\n",
       "      <td>Bachelor Party (1984)</td>\n",
       "      <td>James</td>\n",
       "    </tr>\n",
       "    <tr>\n",
       "      <th>1148</th>\n",
       "      <td>11</td>\n",
       "      <td>3527</td>\n",
       "      <td>4.5</td>\n",
       "      <td>1230788764</td>\n",
       "      <td>Predator (1987)</td>\n",
       "      <td>James</td>\n",
       "    </tr>\n",
       "    <tr>\n",
       "      <th>1149</th>\n",
       "      <td>11</td>\n",
       "      <td>3535</td>\n",
       "      <td>2.0</td>\n",
       "      <td>1230784884</td>\n",
       "      <td>American Psycho (2000)</td>\n",
       "      <td>James</td>\n",
       "    </tr>\n",
       "    <tr>\n",
       "      <th>1150</th>\n",
       "      <td>11</td>\n",
       "      <td>3578</td>\n",
       "      <td>4.5</td>\n",
       "      <td>1230859008</td>\n",
       "      <td>Gladiator (2000)</td>\n",
       "      <td>James</td>\n",
       "    </tr>\n",
       "    <tr>\n",
       "      <th>1151</th>\n",
       "      <td>11</td>\n",
       "      <td>3697</td>\n",
       "      <td>4.5</td>\n",
       "      <td>1230789135</td>\n",
       "      <td>Predator 2 (1990)</td>\n",
       "      <td>James</td>\n",
       "    </tr>\n",
       "    <tr>\n",
       "      <th>1152</th>\n",
       "      <td>11</td>\n",
       "      <td>3702</td>\n",
       "      <td>4.0</td>\n",
       "      <td>1230788726</td>\n",
       "      <td>Mad Max (1979)</td>\n",
       "      <td>James</td>\n",
       "    </tr>\n",
       "    <tr>\n",
       "      <th>1153</th>\n",
       "      <td>11</td>\n",
       "      <td>3703</td>\n",
       "      <td>3.0</td>\n",
       "      <td>1230788778</td>\n",
       "      <td>Road Warrior, The (Mad Max 2) (1981)</td>\n",
       "      <td>James</td>\n",
       "    </tr>\n",
       "    <tr>\n",
       "      <th>1154</th>\n",
       "      <td>11</td>\n",
       "      <td>3704</td>\n",
       "      <td>3.5</td>\n",
       "      <td>1230789353</td>\n",
       "      <td>Mad Max Beyond Thunderdome (1985)</td>\n",
       "      <td>James</td>\n",
       "    </tr>\n",
       "    <tr>\n",
       "      <th>1155</th>\n",
       "      <td>11</td>\n",
       "      <td>3745</td>\n",
       "      <td>4.5</td>\n",
       "      <td>1230788390</td>\n",
       "      <td>Titan A.E. (2000)</td>\n",
       "      <td>James</td>\n",
       "    </tr>\n",
       "    <tr>\n",
       "      <th>1156</th>\n",
       "      <td>11</td>\n",
       "      <td>3752</td>\n",
       "      <td>3.5</td>\n",
       "      <td>1230853817</td>\n",
       "      <td>Me, Myself &amp; Irene (2000)</td>\n",
       "      <td>James</td>\n",
       "    </tr>\n",
       "    <tr>\n",
       "      <th>1157</th>\n",
       "      <td>11</td>\n",
       "      <td>3753</td>\n",
       "      <td>5.0</td>\n",
       "      <td>1251143388</td>\n",
       "      <td>Patriot, The (2000)</td>\n",
       "      <td>James</td>\n",
       "    </tr>\n",
       "    <tr>\n",
       "      <th>1158</th>\n",
       "      <td>11</td>\n",
       "      <td>3793</td>\n",
       "      <td>5.0</td>\n",
       "      <td>1230788886</td>\n",
       "      <td>X-Men (2000)</td>\n",
       "      <td>James</td>\n",
       "    </tr>\n",
       "    <tr>\n",
       "      <th>1159</th>\n",
       "      <td>11</td>\n",
       "      <td>3826</td>\n",
       "      <td>3.5</td>\n",
       "      <td>1230787667</td>\n",
       "      <td>Hollow Man (2000)</td>\n",
       "      <td>James</td>\n",
       "    </tr>\n",
       "    <tr>\n",
       "      <th>1160</th>\n",
       "      <td>11</td>\n",
       "      <td>3863</td>\n",
       "      <td>3.5</td>\n",
       "      <td>1230853813</td>\n",
       "      <td>Cell, The (2000)</td>\n",
       "      <td>James</td>\n",
       "    </tr>\n",
       "    <tr>\n",
       "      <th>1161</th>\n",
       "      <td>11</td>\n",
       "      <td>3864</td>\n",
       "      <td>4.0</td>\n",
       "      <td>1251170399</td>\n",
       "      <td>Godzilla 2000 (Gojira ni-sen mireniamu) (1999)</td>\n",
       "      <td>James</td>\n",
       "    </tr>\n",
       "    <tr>\n",
       "      <th>1162</th>\n",
       "      <td>11</td>\n",
       "      <td>3892</td>\n",
       "      <td>4.0</td>\n",
       "      <td>1230785081</td>\n",
       "      <td>Anatomy (Anatomie) (2000)</td>\n",
       "      <td>James</td>\n",
       "    </tr>\n",
       "    <tr>\n",
       "      <th>1163</th>\n",
       "      <td>11</td>\n",
       "      <td>3897</td>\n",
       "      <td>4.0</td>\n",
       "      <td>1230784412</td>\n",
       "      <td>Almost Famous (2000)</td>\n",
       "      <td>James</td>\n",
       "    </tr>\n",
       "    <tr>\n",
       "      <th>1164</th>\n",
       "      <td>11</td>\n",
       "      <td>3969</td>\n",
       "      <td>5.0</td>\n",
       "      <td>1230854128</td>\n",
       "      <td>Pay It Forward (2000)</td>\n",
       "      <td>James</td>\n",
       "    </tr>\n",
       "    <tr>\n",
       "      <th>1165</th>\n",
       "      <td>11</td>\n",
       "      <td>3980</td>\n",
       "      <td>4.0</td>\n",
       "      <td>1230854124</td>\n",
       "      <td>Men of Honor (2000)</td>\n",
       "      <td>James</td>\n",
       "    </tr>\n",
       "    <tr>\n",
       "      <th>1166</th>\n",
       "      <td>11</td>\n",
       "      <td>3988</td>\n",
       "      <td>4.0</td>\n",
       "      <td>1230854101</td>\n",
       "      <td>How the Grinch Stole Christmas (a.k.a. The Gri...</td>\n",
       "      <td>James</td>\n",
       "    </tr>\n",
       "    <tr>\n",
       "      <th>1167</th>\n",
       "      <td>11</td>\n",
       "      <td>3991</td>\n",
       "      <td>3.0</td>\n",
       "      <td>1230783076</td>\n",
       "      <td>102 Dalmatians (2000)</td>\n",
       "      <td>James</td>\n",
       "    </tr>\n",
       "    <tr>\n",
       "      <th>1168</th>\n",
       "      <td>11</td>\n",
       "      <td>3994</td>\n",
       "      <td>5.0</td>\n",
       "      <td>1251170238</td>\n",
       "      <td>Unbreakable (2000)</td>\n",
       "      <td>James</td>\n",
       "    </tr>\n",
       "    <tr>\n",
       "      <th>...</th>\n",
       "      <td>...</td>\n",
       "      <td>...</td>\n",
       "      <td>...</td>\n",
       "      <td>...</td>\n",
       "      <td>...</td>\n",
       "      <td>...</td>\n",
       "    </tr>\n",
       "    <tr>\n",
       "      <th>2109</th>\n",
       "      <td>19</td>\n",
       "      <td>880</td>\n",
       "      <td>3.0</td>\n",
       "      <td>855176989</td>\n",
       "      <td>Island of Dr. Moreau, The (1996)</td>\n",
       "      <td>Justin</td>\n",
       "    </tr>\n",
       "    <tr>\n",
       "      <th>2110</th>\n",
       "      <td>19</td>\n",
       "      <td>1073</td>\n",
       "      <td>5.0</td>\n",
       "      <td>855176684</td>\n",
       "      <td>Willy Wonka &amp; the Chocolate Factory (1971)</td>\n",
       "      <td>Justin</td>\n",
       "    </tr>\n",
       "    <tr>\n",
       "      <th>2111</th>\n",
       "      <td>20</td>\n",
       "      <td>16</td>\n",
       "      <td>4.0</td>\n",
       "      <td>1126539588</td>\n",
       "      <td>Casino (1995)</td>\n",
       "      <td>Sarah</td>\n",
       "    </tr>\n",
       "    <tr>\n",
       "      <th>2112</th>\n",
       "      <td>20</td>\n",
       "      <td>19</td>\n",
       "      <td>2.5</td>\n",
       "      <td>1126539530</td>\n",
       "      <td>Ace Ventura: When Nature Calls (1995)</td>\n",
       "      <td>Sarah</td>\n",
       "    </tr>\n",
       "    <tr>\n",
       "      <th>2113</th>\n",
       "      <td>20</td>\n",
       "      <td>111</td>\n",
       "      <td>4.5</td>\n",
       "      <td>1126539863</td>\n",
       "      <td>Taxi Driver (1976)</td>\n",
       "      <td>Sarah</td>\n",
       "    </tr>\n",
       "    <tr>\n",
       "      <th>2114</th>\n",
       "      <td>20</td>\n",
       "      <td>235</td>\n",
       "      <td>3.5</td>\n",
       "      <td>1126539575</td>\n",
       "      <td>Ed Wood (1994)</td>\n",
       "      <td>Sarah</td>\n",
       "    </tr>\n",
       "    <tr>\n",
       "      <th>2115</th>\n",
       "      <td>20</td>\n",
       "      <td>370</td>\n",
       "      <td>2.0</td>\n",
       "      <td>1126539842</td>\n",
       "      <td>Naked Gun 33 1/3: The Final Insult (1994)</td>\n",
       "      <td>Sarah</td>\n",
       "    </tr>\n",
       "    <tr>\n",
       "      <th>2116</th>\n",
       "      <td>20</td>\n",
       "      <td>442</td>\n",
       "      <td>2.0</td>\n",
       "      <td>1126539534</td>\n",
       "      <td>Demolition Man (1993)</td>\n",
       "      <td>Sarah</td>\n",
       "    </tr>\n",
       "    <tr>\n",
       "      <th>2117</th>\n",
       "      <td>20</td>\n",
       "      <td>474</td>\n",
       "      <td>2.0</td>\n",
       "      <td>1126539515</td>\n",
       "      <td>In the Line of Fire (1993)</td>\n",
       "      <td>Sarah</td>\n",
       "    </tr>\n",
       "    <tr>\n",
       "      <th>2118</th>\n",
       "      <td>20</td>\n",
       "      <td>1080</td>\n",
       "      <td>4.0</td>\n",
       "      <td>1126539592</td>\n",
       "      <td>Monty Python's Life of Brian (1979)</td>\n",
       "      <td>Sarah</td>\n",
       "    </tr>\n",
       "    <tr>\n",
       "      <th>2119</th>\n",
       "      <td>20</td>\n",
       "      <td>1208</td>\n",
       "      <td>4.5</td>\n",
       "      <td>1126539560</td>\n",
       "      <td>Apocalypse Now (1979)</td>\n",
       "      <td>Sarah</td>\n",
       "    </tr>\n",
       "    <tr>\n",
       "      <th>2120</th>\n",
       "      <td>20</td>\n",
       "      <td>1221</td>\n",
       "      <td>4.0</td>\n",
       "      <td>1126539506</td>\n",
       "      <td>Godfather: Part II, The (1974)</td>\n",
       "      <td>Sarah</td>\n",
       "    </tr>\n",
       "    <tr>\n",
       "      <th>2121</th>\n",
       "      <td>20</td>\n",
       "      <td>1291</td>\n",
       "      <td>4.0</td>\n",
       "      <td>1126539851</td>\n",
       "      <td>Indiana Jones and the Last Crusade (1989)</td>\n",
       "      <td>Sarah</td>\n",
       "    </tr>\n",
       "    <tr>\n",
       "      <th>2122</th>\n",
       "      <td>20</td>\n",
       "      <td>1884</td>\n",
       "      <td>5.0</td>\n",
       "      <td>1126539710</td>\n",
       "      <td>Fear and Loathing in Las Vegas (1998)</td>\n",
       "      <td>Sarah</td>\n",
       "    </tr>\n",
       "    <tr>\n",
       "      <th>2123</th>\n",
       "      <td>20</td>\n",
       "      <td>1923</td>\n",
       "      <td>2.5</td>\n",
       "      <td>1126539523</td>\n",
       "      <td>There's Something About Mary (1998)</td>\n",
       "      <td>Sarah</td>\n",
       "    </tr>\n",
       "    <tr>\n",
       "      <th>2124</th>\n",
       "      <td>20</td>\n",
       "      <td>1961</td>\n",
       "      <td>3.0</td>\n",
       "      <td>1126539519</td>\n",
       "      <td>Rain Man (1988)</td>\n",
       "      <td>Sarah</td>\n",
       "    </tr>\n",
       "    <tr>\n",
       "      <th>2125</th>\n",
       "      <td>20</td>\n",
       "      <td>1994</td>\n",
       "      <td>4.0</td>\n",
       "      <td>1126539924</td>\n",
       "      <td>Poltergeist (1982)</td>\n",
       "      <td>Sarah</td>\n",
       "    </tr>\n",
       "    <tr>\n",
       "      <th>2126</th>\n",
       "      <td>20</td>\n",
       "      <td>2012</td>\n",
       "      <td>3.5</td>\n",
       "      <td>1126539602</td>\n",
       "      <td>Back to the Future Part III (1990)</td>\n",
       "      <td>Sarah</td>\n",
       "    </tr>\n",
       "    <tr>\n",
       "      <th>2127</th>\n",
       "      <td>20</td>\n",
       "      <td>2023</td>\n",
       "      <td>4.0</td>\n",
       "      <td>1126539808</td>\n",
       "      <td>Godfather: Part III, The (1990)</td>\n",
       "      <td>Sarah</td>\n",
       "    </tr>\n",
       "    <tr>\n",
       "      <th>2128</th>\n",
       "      <td>20</td>\n",
       "      <td>2054</td>\n",
       "      <td>2.5</td>\n",
       "      <td>1126539801</td>\n",
       "      <td>Honey, I Shrunk the Kids (1989)</td>\n",
       "      <td>Sarah</td>\n",
       "    </tr>\n",
       "    <tr>\n",
       "      <th>2129</th>\n",
       "      <td>20</td>\n",
       "      <td>2115</td>\n",
       "      <td>3.5</td>\n",
       "      <td>1126539606</td>\n",
       "      <td>Indiana Jones and the Temple of Doom (1984)</td>\n",
       "      <td>Sarah</td>\n",
       "    </tr>\n",
       "    <tr>\n",
       "      <th>2130</th>\n",
       "      <td>20</td>\n",
       "      <td>2571</td>\n",
       "      <td>4.0</td>\n",
       "      <td>1126539826</td>\n",
       "      <td>Matrix, The (1999)</td>\n",
       "      <td>Sarah</td>\n",
       "    </tr>\n",
       "    <tr>\n",
       "      <th>2131</th>\n",
       "      <td>20</td>\n",
       "      <td>2710</td>\n",
       "      <td>4.0</td>\n",
       "      <td>1126539586</td>\n",
       "      <td>Blair Witch Project, The (1999)</td>\n",
       "      <td>Sarah</td>\n",
       "    </tr>\n",
       "    <tr>\n",
       "      <th>2132</th>\n",
       "      <td>20</td>\n",
       "      <td>2987</td>\n",
       "      <td>3.0</td>\n",
       "      <td>1126539549</td>\n",
       "      <td>Who Framed Roger Rabbit? (1988)</td>\n",
       "      <td>Sarah</td>\n",
       "    </tr>\n",
       "    <tr>\n",
       "      <th>2133</th>\n",
       "      <td>20</td>\n",
       "      <td>3176</td>\n",
       "      <td>3.0</td>\n",
       "      <td>1126539815</td>\n",
       "      <td>Talented Mr. Ripley, The (1999)</td>\n",
       "      <td>Sarah</td>\n",
       "    </tr>\n",
       "    <tr>\n",
       "      <th>2134</th>\n",
       "      <td>20</td>\n",
       "      <td>3785</td>\n",
       "      <td>3.0</td>\n",
       "      <td>1126539891</td>\n",
       "      <td>Scary Movie (2000)</td>\n",
       "      <td>Sarah</td>\n",
       "    </tr>\n",
       "    <tr>\n",
       "      <th>2135</th>\n",
       "      <td>20</td>\n",
       "      <td>4306</td>\n",
       "      <td>3.5</td>\n",
       "      <td>1126539543</td>\n",
       "      <td>Shrek (2001)</td>\n",
       "      <td>Sarah</td>\n",
       "    </tr>\n",
       "    <tr>\n",
       "      <th>2136</th>\n",
       "      <td>20</td>\n",
       "      <td>4351</td>\n",
       "      <td>3.5</td>\n",
       "      <td>1126539896</td>\n",
       "      <td>Point Break (1991)</td>\n",
       "      <td>Sarah</td>\n",
       "    </tr>\n",
       "    <tr>\n",
       "      <th>2137</th>\n",
       "      <td>20</td>\n",
       "      <td>5952</td>\n",
       "      <td>3.5</td>\n",
       "      <td>1126539610</td>\n",
       "      <td>Lord of the Rings: The Two Towers, The (2002)</td>\n",
       "      <td>Sarah</td>\n",
       "    </tr>\n",
       "    <tr>\n",
       "      <th>2138</th>\n",
       "      <td>20</td>\n",
       "      <td>6807</td>\n",
       "      <td>3.5</td>\n",
       "      <td>1126539870</td>\n",
       "      <td>Monty Python's The Meaning of Life (1983)</td>\n",
       "      <td>Sarah</td>\n",
       "    </tr>\n",
       "  </tbody>\n",
       "</table>\n",
       "<p>1000 rows × 6 columns</p>\n",
       "</div>"
      ],
      "text/plain": [
       "      userId  movieId  rating   timestamp  \\\n",
       "1139      11     3114     5.0  1230853680   \n",
       "1140      11     3159     5.0  1230859507   \n",
       "1141      11     3213     3.0  1230859502   \n",
       "1142      11     3247     4.5  1230854150   \n",
       "1143      11     3269     5.0  1230789266   \n",
       "1144      11     3300     4.0  1230788503   \n",
       "1145      11     3396     0.5  1230782616   \n",
       "1146      11     3438     4.5  1230789252   \n",
       "1147      11     3525     5.0  1230785908   \n",
       "1148      11     3527     4.5  1230788764   \n",
       "1149      11     3535     2.0  1230784884   \n",
       "1150      11     3578     4.5  1230859008   \n",
       "1151      11     3697     4.5  1230789135   \n",
       "1152      11     3702     4.0  1230788726   \n",
       "1153      11     3703     3.0  1230788778   \n",
       "1154      11     3704     3.5  1230789353   \n",
       "1155      11     3745     4.5  1230788390   \n",
       "1156      11     3752     3.5  1230853817   \n",
       "1157      11     3753     5.0  1251143388   \n",
       "1158      11     3793     5.0  1230788886   \n",
       "1159      11     3826     3.5  1230787667   \n",
       "1160      11     3863     3.5  1230853813   \n",
       "1161      11     3864     4.0  1251170399   \n",
       "1162      11     3892     4.0  1230785081   \n",
       "1163      11     3897     4.0  1230784412   \n",
       "1164      11     3969     5.0  1230854128   \n",
       "1165      11     3980     4.0  1230854124   \n",
       "1166      11     3988     4.0  1230854101   \n",
       "1167      11     3991     3.0  1230783076   \n",
       "1168      11     3994     5.0  1251170238   \n",
       "...      ...      ...     ...         ...   \n",
       "2109      19      880     3.0   855176989   \n",
       "2110      19     1073     5.0   855176684   \n",
       "2111      20       16     4.0  1126539588   \n",
       "2112      20       19     2.5  1126539530   \n",
       "2113      20      111     4.5  1126539863   \n",
       "2114      20      235     3.5  1126539575   \n",
       "2115      20      370     2.0  1126539842   \n",
       "2116      20      442     2.0  1126539534   \n",
       "2117      20      474     2.0  1126539515   \n",
       "2118      20     1080     4.0  1126539592   \n",
       "2119      20     1208     4.5  1126539560   \n",
       "2120      20     1221     4.0  1126539506   \n",
       "2121      20     1291     4.0  1126539851   \n",
       "2122      20     1884     5.0  1126539710   \n",
       "2123      20     1923     2.5  1126539523   \n",
       "2124      20     1961     3.0  1126539519   \n",
       "2125      20     1994     4.0  1126539924   \n",
       "2126      20     2012     3.5  1126539602   \n",
       "2127      20     2023     4.0  1126539808   \n",
       "2128      20     2054     2.5  1126539801   \n",
       "2129      20     2115     3.5  1126539606   \n",
       "2130      20     2571     4.0  1126539826   \n",
       "2131      20     2710     4.0  1126539586   \n",
       "2132      20     2987     3.0  1126539549   \n",
       "2133      20     3176     3.0  1126539815   \n",
       "2134      20     3785     3.0  1126539891   \n",
       "2135      20     4306     3.5  1126539543   \n",
       "2136      20     4351     3.5  1126539896   \n",
       "2137      20     5952     3.5  1126539610   \n",
       "2138      20     6807     3.5  1126539870   \n",
       "\n",
       "                                            movie_title user_name  \n",
       "1139                                 Toy Story 2 (1999)     James  \n",
       "1140                               Fantasia 2000 (1999)     James  \n",
       "1141                Batman: Mask of the Phantasm (1993)     James  \n",
       "1142                                  Sister Act (1992)     James  \n",
       "1143                               Forever Young (1992)     James  \n",
       "1144                                 Pitch Black (2000)     James  \n",
       "1145                           Muppet Movie, The (1979)     James  \n",
       "1146                Teenage Mutant Ninja Turtles (1990)     James  \n",
       "1147                              Bachelor Party (1984)     James  \n",
       "1148                                    Predator (1987)     James  \n",
       "1149                             American Psycho (2000)     James  \n",
       "1150                                   Gladiator (2000)     James  \n",
       "1151                                  Predator 2 (1990)     James  \n",
       "1152                                     Mad Max (1979)     James  \n",
       "1153               Road Warrior, The (Mad Max 2) (1981)     James  \n",
       "1154                  Mad Max Beyond Thunderdome (1985)     James  \n",
       "1155                                  Titan A.E. (2000)     James  \n",
       "1156                          Me, Myself & Irene (2000)     James  \n",
       "1157                                Patriot, The (2000)     James  \n",
       "1158                                       X-Men (2000)     James  \n",
       "1159                                  Hollow Man (2000)     James  \n",
       "1160                                   Cell, The (2000)     James  \n",
       "1161     Godzilla 2000 (Gojira ni-sen mireniamu) (1999)     James  \n",
       "1162                          Anatomy (Anatomie) (2000)     James  \n",
       "1163                               Almost Famous (2000)     James  \n",
       "1164                              Pay It Forward (2000)     James  \n",
       "1165                                Men of Honor (2000)     James  \n",
       "1166  How the Grinch Stole Christmas (a.k.a. The Gri...     James  \n",
       "1167                              102 Dalmatians (2000)     James  \n",
       "1168                                 Unbreakable (2000)     James  \n",
       "...                                                 ...       ...  \n",
       "2109                   Island of Dr. Moreau, The (1996)    Justin  \n",
       "2110         Willy Wonka & the Chocolate Factory (1971)    Justin  \n",
       "2111                                      Casino (1995)     Sarah  \n",
       "2112              Ace Ventura: When Nature Calls (1995)     Sarah  \n",
       "2113                                 Taxi Driver (1976)     Sarah  \n",
       "2114                                     Ed Wood (1994)     Sarah  \n",
       "2115          Naked Gun 33 1/3: The Final Insult (1994)     Sarah  \n",
       "2116                              Demolition Man (1993)     Sarah  \n",
       "2117                         In the Line of Fire (1993)     Sarah  \n",
       "2118                Monty Python's Life of Brian (1979)     Sarah  \n",
       "2119                              Apocalypse Now (1979)     Sarah  \n",
       "2120                     Godfather: Part II, The (1974)     Sarah  \n",
       "2121          Indiana Jones and the Last Crusade (1989)     Sarah  \n",
       "2122              Fear and Loathing in Las Vegas (1998)     Sarah  \n",
       "2123                There's Something About Mary (1998)     Sarah  \n",
       "2124                                    Rain Man (1988)     Sarah  \n",
       "2125                                 Poltergeist (1982)     Sarah  \n",
       "2126                 Back to the Future Part III (1990)     Sarah  \n",
       "2127                    Godfather: Part III, The (1990)     Sarah  \n",
       "2128                    Honey, I Shrunk the Kids (1989)     Sarah  \n",
       "2129        Indiana Jones and the Temple of Doom (1984)     Sarah  \n",
       "2130                                 Matrix, The (1999)     Sarah  \n",
       "2131                    Blair Witch Project, The (1999)     Sarah  \n",
       "2132                    Who Framed Roger Rabbit? (1988)     Sarah  \n",
       "2133                    Talented Mr. Ripley, The (1999)     Sarah  \n",
       "2134                                 Scary Movie (2000)     Sarah  \n",
       "2135                                       Shrek (2001)     Sarah  \n",
       "2136                                 Point Break (1991)     Sarah  \n",
       "2137      Lord of the Rings: The Two Towers, The (2002)     Sarah  \n",
       "2138          Monty Python's The Meaning of Life (1983)     Sarah  \n",
       "\n",
       "[1000 rows x 6 columns]"
      ]
     },
     "execution_count": 21,
     "metadata": {},
     "output_type": "execute_result"
    }
   ],
   "source": [
    "#Let's read our data into memory\n",
    "ratings = pd.read_csv(\"twenty_users_ratings.csv\",  index_col=False)\n",
    "ratings.tail(1000)\n"
   ]
  },
  {
   "cell_type": "code",
   "execution_count": 22,
   "metadata": {
    "slideshow": {
     "slide_type": "subslide"
    }
   },
   "outputs": [
    {
     "data": {
      "text/plain": [
       "array(['Michael', 'Christopher', 'Jessica', 'Matthew', 'Ashley',\n",
       "       'Jennifer', 'Joshua', 'Amanda', 'Daniel', 'David', 'James',\n",
       "       'Robert', 'John', 'Joseph', 'Andrew', 'Ryan', 'Brandon', 'Jason',\n",
       "       'Justin', 'Sarah'], dtype=object)"
      ]
     },
     "execution_count": 22,
     "metadata": {},
     "output_type": "execute_result"
    }
   ],
   "source": [
    "#Let's see all the users \n",
    "ratings.user_name.unique()"
   ]
  },
  {
   "cell_type": "code",
   "execution_count": 23,
   "metadata": {
    "slideshow": {
     "slide_type": "fragment"
    }
   },
   "outputs": [],
   "source": [
    "# Make a copy of our dataframe so that we don't accidentally modify it\n",
    "ratings_dict = ratings.copy()"
   ]
  },
  {
   "cell_type": "code",
   "execution_count": 24,
   "metadata": {
    "slideshow": {
     "slide_type": "subslide"
    }
   },
   "outputs": [
    {
     "data": {
      "text/plain": [
       "{'Amanda': {'Ace Ventura: Pet Detective (1994)': 3.0,\n",
       "  'Ace Ventura: When Nature Calls (1995)': 1.0,\n",
       "  'Aladdin (1992)': 3.0,\n",
       "  'Apollo 13 (1995)': 4.0,\n",
       "  'Batman (1989)': 4.0,\n",
       "  'Batman Forever (1995)': 3.0,\n",
       "  'Beauty and the Beast (1991)': 3.0,\n",
       "  'Braveheart (1995)': 5.0,\n",
       "  'Clear and Present Danger (1994)': 5.0,\n",
       "  'Client, The (1994)': 4.0,\n",
       "  'Cliffhanger (1993)': 5.0,\n",
       "  'Clueless (1995)': 3.0,\n",
       "  'Crimson Tide (1995)': 4.0,\n",
       "  'Crow, The (1994)': 3.0,\n",
       "  'Dances with Wolves (1990)': 5.0,\n",
       "  'Demolition Man (1993)': 4.0,\n",
       "  'Die Hard: With a Vengeance (1995)': 3.0,\n",
       "  'Dumb & Dumber (Dumb and Dumber) (1994)': 3.0,\n",
       "  'Firm, The (1993)': 4.0,\n",
       "  'First Knight (1995)': 3.0,\n",
       "  'Flintstones, The (1994)': 2.0,\n",
       "  'Forrest Gump (1994)': 5.0,\n",
       "  'Four Weddings and a Funeral (1994)': 4.0,\n",
       "  'French Kiss (1995)': 4.0,\n",
       "  'Fugitive, The (1993)': 5.0,\n",
       "  'Get Shorty (1995)': 4.0,\n",
       "  'Ghost (1990)': 4.0,\n",
       "  'GoldenEye (1995)': 4.0,\n",
       "  'Grumpier Old Men (1995)': 5.0,\n",
       "  'Heat (1995)': 3.0,\n",
       "  'Heavy Metal (1981)': 4.0,\n",
       "  'Interview with the Vampire: The Vampire Chronicles (1994)': 4.0,\n",
       "  'Johnny Mnemonic (1995)': 1.0,\n",
       "  'Judge Dredd (1995)': 3.0,\n",
       "  'Jurassic Park (1993)': 4.0,\n",
       "  'Legends of the Fall (1994)': 5.0,\n",
       "  'Lion King, The (1994)': 4.0,\n",
       "  'Mask, The (1994)': 3.0,\n",
       "  'Milk Money (1994)': 3.0,\n",
       "  'Miracle on 34th Street (1994)': 4.0,\n",
       "  'Mission: Impossible (1996)': 5.0,\n",
       "  'Mrs. Doubtfire (1993)': 4.0,\n",
       "  'Natural Born Killers (1994)': 5.0,\n",
       "  'Net, The (1995)': 2.0,\n",
       "  'Nightmare Before Christmas, The (1993)': 4.0,\n",
       "  'Outbreak (1995)': 4.0,\n",
       "  'Philadelphia (1993)': 3.0,\n",
       "  'Pocahontas (1995)': 4.0,\n",
       "  'Pretty Woman (1990)': 5.0,\n",
       "  'Pulp Fiction (1994)': 5.0,\n",
       "  'Reality Bites (1994)': 4.0,\n",
       "  'Rock, The (1996)': 4.0,\n",
       "  \"Schindler's List (1993)\": 5.0,\n",
       "  'Seven (a.k.a. Se7en) (1995)': 5.0,\n",
       "  'Silence of the Lambs, The (1991)': 5.0,\n",
       "  'Sleepless in Seattle (1993)': 4.0,\n",
       "  'Speed (1994)': 4.0,\n",
       "  'Star Trek: Generations (1994)': 3.0,\n",
       "  'Stargate (1994)': 2.0,\n",
       "  'Terminator 2: Judgment Day (1991)': 5.0,\n",
       "  'Three Musketeers, The (1993)': 3.0,\n",
       "  'Threesome (1994)': 4.0,\n",
       "  'Tombstone (1993)': 5.0,\n",
       "  'Toy Story (1995)': 4.0,\n",
       "  'True Lies (1994)': 4.0,\n",
       "  'Virtuosity (1995)': 2.0,\n",
       "  'Walk in the Clouds, A (1995)': 4.0,\n",
       "  'Waterworld (1995)': 3.0,\n",
       "  'When a Man Loves a Woman (1994)': 4.0,\n",
       "  'While You Were Sleeping (1995)': 4.0},\n",
       " 'Andrew': {'Ace Ventura: Pet Detective (1994)': 3.0,\n",
       "  'Aladdin (1992)': 3.0,\n",
       "  'American President, The (1995)': 3.0,\n",
       "  'Apollo 13 (1995)': 4.0,\n",
       "  'Babe (1995)': 4.0,\n",
       "  'Batman (1989)': 3.0,\n",
       "  'Batman Forever (1995)': 2.0,\n",
       "  'Beauty and the Beast (1991)': 3.0,\n",
       "  'Birdcage, The (1996)': 3.0,\n",
       "  'Clear and Present Danger (1994)': 3.0,\n",
       "  'Cliffhanger (1993)': 2.0,\n",
       "  'Clueless (1995)': 3.0,\n",
       "  'Crimson Tide (1995)': 3.0,\n",
       "  'Dances with Wolves (1990)': 3.0,\n",
       "  'Dave (1993)': 3.0,\n",
       "  'Dead Man Walking (1995)': 3.0,\n",
       "  'Die Hard: With a Vengeance (1995)': 2.0,\n",
       "  'Dumb & Dumber (Dumb and Dumber) (1994)': 3.0,\n",
       "  'Fargo (1996)': 4.0,\n",
       "  'Forrest Gump (1994)': 5.0,\n",
       "  'Fugitive, The (1993)': 4.0,\n",
       "  'Get Shorty (1995)': 3.0,\n",
       "  'GoldenEye (1995)': 2.0,\n",
       "  'Home Alone (1990)': 3.0,\n",
       "  'Hoop Dreams (1994)': 4.0,\n",
       "  'In the Line of Fire (1993)': 4.0,\n",
       "  'Independence Day (a.k.a. ID4) (1996)': 3.0,\n",
       "  'Jurassic Park (1993)': 3.0,\n",
       "  'Lion King, The (1994)': 4.0,\n",
       "  'Mrs. Doubtfire (1993)': 3.0,\n",
       "  'Much Ado About Nothing (1993)': 3.0,\n",
       "  'Nixon (1995)': 2.0,\n",
       "  'Philadelphia (1993)': 3.0,\n",
       "  'Pinocchio (1940)': 4.0,\n",
       "  'Pulp Fiction (1994)': 3.0,\n",
       "  'Quiz Show (1994)': 3.0,\n",
       "  'Remains of the Day, The (1993)': 4.0,\n",
       "  \"Schindler's List (1993)\": 5.0,\n",
       "  'Sense and Sensibility (1995)': 3.0,\n",
       "  'Shadowlands (1993)': 3.0,\n",
       "  'Shawshank Redemption, The (1994)': 3.0,\n",
       "  'Silence of the Lambs, The (1991)': 3.0,\n",
       "  'Sleepless in Seattle (1993)': 4.0,\n",
       "  'Snow White and the Seven Dwarfs (1937)': 4.0,\n",
       "  'Speed (1994)': 3.0,\n",
       "  'Star Trek: Generations (1994)': 3.0,\n",
       "  'To Live (Huozhe) (1994)': 3.0,\n",
       "  'True Lies (1994)': 3.0,\n",
       "  'Usual Suspects, The (1995)': 3.0},\n",
       " 'Ashley': {'Aladdin (1992)': 5.0,\n",
       "  'All Dogs Go to Heaven 2 (1996)': 3.0,\n",
       "  'American President, The (1995)': 5.0,\n",
       "  'Apollo 13 (1995)': 5.0,\n",
       "  'Beauty and the Beast (1991)': 5.0,\n",
       "  'Birdcage, The (1996)': 5.0,\n",
       "  'Braveheart (1995)': 4.0,\n",
       "  'Client, The (1994)': 4.0,\n",
       "  'Dances with Wolves (1990)': 5.0,\n",
       "  'Dave (1993)': 5.0,\n",
       "  'Die Hard (1988)': 5.0,\n",
       "  'Don Juan DeMarco (1995)': 2.0,\n",
       "  'E.T. the Extra-Terrestrial (1982)': 5.0,\n",
       "  'Ed Wood (1994)': 3.0,\n",
       "  'Fargo (1996)': 3.0,\n",
       "  'Firm, The (1993)': 5.0,\n",
       "  'Fish Called Wanda, A (1988)': 5.0,\n",
       "  'Fugitive, The (1993)': 5.0,\n",
       "  'Ghost (1990)': 4.0,\n",
       "  'Happy Gilmore (1996)': 2.0,\n",
       "  'In the Name of the Father (1993)': 4.0,\n",
       "  'Independence Day (a.k.a. ID4) (1996)': 5.0,\n",
       "  'Indian in the Cupboard, The (1995)': 3.0,\n",
       "  'Indiana Jones and the Last Crusade (1989)': 5.0,\n",
       "  'Jerry Maguire (1996)': 5.0,\n",
       "  'Jumanji (1995)': 3.0,\n",
       "  'Jurassic Park (1993)': 4.0,\n",
       "  'Lion King, The (1994)': 5.0,\n",
       "  'Man Without a Face, The (1993)': 4.0,\n",
       "  'Mary Poppins (1964)': 5.0,\n",
       "  'Mask, The (1994)': 3.0,\n",
       "  'Maverick (1994)': 5.0,\n",
       "  'Mission: Impossible (1996)': 3.0,\n",
       "  'Monty Python and the Holy Grail (1975)': 5.0,\n",
       "  \"Monty Python's Life of Brian (1979)\": 5.0,\n",
       "  \"Mr. Holland's Opus (1995)\": 5.0,\n",
       "  'Mrs. Doubtfire (1993)': 5.0,\n",
       "  'Mystery Science Theater 3000: The Movie (1996)': 5.0,\n",
       "  'Naked Gun 33 1/3: The Final Insult (1994)': 4.0,\n",
       "  'Nell (1994)': 4.0,\n",
       "  'Nutty Professor, The (1996)': 3.0,\n",
       "  'Philadelphia (1993)': 5.0,\n",
       "  'Raiders of the Lost Ark (Indiana Jones and the Raiders of the Lost Ark) (1981)': 5.0,\n",
       "  'Ransom (1996)': 5.0,\n",
       "  'Remains of the Day, The (1993)': 3.0,\n",
       "  'River Wild, The (1994)': 4.0,\n",
       "  'Searching for Bobby Fischer (1993)': 4.0,\n",
       "  'Secret Garden, The (1993)': 5.0,\n",
       "  'Sense and Sensibility (1995)': 3.0,\n",
       "  'Shawshank Redemption, The (1994)': 5.0,\n",
       "  'Silence of the Lambs, The (1991)': 3.0,\n",
       "  'Snow White and the Seven Dwarfs (1937)': 5.0,\n",
       "  'Sound of Music, The (1965)': 5.0,\n",
       "  'Speed (1994)': 5.0,\n",
       "  'Star Wars: Episode IV - A New Hope (1977)': 5.0,\n",
       "  'Star Wars: Episode V - The Empire Strikes Back (1980)': 5.0,\n",
       "  'Star Wars: Episode VI - Return of the Jedi (1983)': 5.0,\n",
       "  'Stargate (1994)': 4.0,\n",
       "  'Terminator 2: Judgment Day (1991)': 5.0,\n",
       "  'That Thing You Do! (1996)': 4.0,\n",
       "  'True Lies (1994)': 5.0,\n",
       "  'Truth About Cats & Dogs, The (1996)': 3.0,\n",
       "  'Twister (1996)': 5.0,\n",
       "  'Up Close and Personal (1996)': 2.0,\n",
       "  'Wallace & Gromit: The Best of Aardman Animation (1996)': 5.0,\n",
       "  'Willy Wonka & the Chocolate Factory (1971)': 2.0},\n",
       " 'Brandon': {'Air Force One (1997)': 4.0,\n",
       "  \"America's Sweethearts (2001)\": 4.0,\n",
       "  'Austin Powers: The Spy Who Shagged Me (1999)': 5.0,\n",
       "  'Back to the Future (1985)': 4.0,\n",
       "  'Boot, Das (Boat, The) (1981)': 4.0,\n",
       "  'Braveheart (1995)': 4.0,\n",
       "  'Crouching Tiger, Hidden Dragon (Wo hu cang long) (2000)': 4.0,\n",
       "  'Deep Impact (1998)': 3.0,\n",
       "  'Enemy of the State (1998)': 4.0,\n",
       "  'Fatal Attraction (1987)': 5.0,\n",
       "  'Finding Forrester (2000)': 4.0,\n",
       "  'Fugitive, The (1993)': 5.0,\n",
       "  'Gladiator (2000)': 5.0,\n",
       "  'Heat (1995)': 4.0,\n",
       "  'Hunt for Red October, The (1990)': 4.0,\n",
       "  'Jurassic Park (1993)': 3.0,\n",
       "  'Lethal Weapon 3 (1992)': 3.0,\n",
       "  'Men in Black (a.k.a. MIB) (1997)': 4.0,\n",
       "  'Mission: Impossible (1996)': 3.0,\n",
       "  'Patriot Games (1992)': 5.0,\n",
       "  'Patriot, The (2000)': 5.0,\n",
       "  'Perfect Storm, The (2000)': 4.0,\n",
       "  'Princess Diaries, The (2001)': 3.0,\n",
       "  'Saving Private Ryan (1998)': 5.0,\n",
       "  'Speed (1994)': 3.0,\n",
       "  'World Is Not Enough, The (1999)': 4.0},\n",
       " 'Christopher': {'2001: A Space Odyssey (1968)': 5.0,\n",
       "  '28 Days (2000)': 3.0,\n",
       "  'Abbott and Costello Meet Frankenstein (1948)': 5.0,\n",
       "  'Airplane! (1980)': 2.0,\n",
       "  'Alien (1979)': 5.0,\n",
       "  'American Beauty (1999)': 3.0,\n",
       "  'Amityville Horror, The (1979)': 5.0,\n",
       "  'Any Given Sunday (1999)': 4.0,\n",
       "  'Back to the Future (1985)': 5.0,\n",
       "  'Blade Runner (1982)': 5.0,\n",
       "  'Boogie Nights (1997)': 4.0,\n",
       "  'Braveheart (1995)': 4.0,\n",
       "  'Creature from the Black Lagoon, The (1954)': 5.0,\n",
       "  'Dark City (1998)': 5.0,\n",
       "  'Edward Scissorhands (1990)': 2.0,\n",
       "  'Fantasia 2000 (1999)': 3.0,\n",
       "  'Fantastic Voyage (1966)': 5.0,\n",
       "  'Farinelli: il castrato (1994)': 3.0,\n",
       "  'Femme Nikita, La (Nikita) (1990)': 5.0,\n",
       "  'Fistful of Dollars, A (Per un pugno di dollari) (1964)': 4.0,\n",
       "  'Fly, The (1958)': 4.0,\n",
       "  'Fly, The (1986)': 4.0,\n",
       "  \"Freddy's Dead: The Final Nightmare (Nightmare on Elm Street Part 6: Freddy's Dead, A) (1991)\": 3.0,\n",
       "  'Friday the 13th (1980)': 5.0,\n",
       "  'From Dusk Till Dawn (1996)': 5.0,\n",
       "  'From Russia with Love (1963)': 5.0,\n",
       "  'Glory Daze (1995)': 3.0,\n",
       "  'Grumpier Old Men (1995)': 4.0,\n",
       "  'Grumpy Old Men (1993)': 5.0,\n",
       "  'Halloween 5: The Revenge of Michael Myers (1989)': 2.0,\n",
       "  'Halloween: The Curse of Michael Myers (Halloween 6: The Curse of Michael Myers) (1995)': 2.0,\n",
       "  'Hellbound: Hellraiser II (1988)': 3.0,\n",
       "  'Hellraiser (1987)': 4.0,\n",
       "  'House of the Spirits, The (1993)': 3.0,\n",
       "  'Jurassic Park (1993)': 5.0,\n",
       "  'Legends of the Fall (1994)': 5.0,\n",
       "  'Lost World: Jurassic Park, The (1997)': 5.0,\n",
       "  'Men in Black (a.k.a. MIB) (1997)': 4.0,\n",
       "  \"Mr. Holland's Opus (1995)\": 5.0,\n",
       "  \"Nightmare on Elm Street 2: Freddy's Revenge, A (1985)\": 2.0,\n",
       "  'Nightmare on Elm Street 3: Dream Warriors, A (1987)': 2.0,\n",
       "  'Nightmare on Elm Street 4: The Dream Master, A (1988)': 2.0,\n",
       "  'Nightmare on Elm Street 5: The Dream Child, A (1989)': 2.0,\n",
       "  'North by Northwest (1959)': 4.0,\n",
       "  'Patriot, The (2000)': 4.0,\n",
       "  'Repo Man (1984)': 3.0,\n",
       "  'Return of the Fly (1959)': 4.0,\n",
       "  'Road Warrior, The (Mad Max 2) (1981)': 4.0,\n",
       "  'Rules of Engagement (2000)': 5.0,\n",
       "  'Runaway (1984)': 4.0,\n",
       "  'Stand by Me (1986)': 5.0,\n",
       "  'Star Trek: First Contact (1996)': 5.0,\n",
       "  'Star Wars: Episode IV - A New Hope (1977)': 5.0,\n",
       "  'Star Wars: Episode V - The Empire Strikes Back (1980)': 5.0,\n",
       "  'Star Wars: Episode VI - Return of the Jedi (1983)': 5.0,\n",
       "  'Terminator 2: Judgment Day (1991)': 5.0,\n",
       "  'Time Machine, The (1960)': 5.0,\n",
       "  'U-571 (2000)': 4.0,\n",
       "  'Voyage to the Bottom of the Sea (1961)': 4.0,\n",
       "  'War Zone, The (1999)': 4.0,\n",
       "  'Where the Heart Is (2000)': 3.0},\n",
       " 'Daniel': {'American Pie (1999)': 4.0,\n",
       "  'Austin Powers: The Spy Who Shagged Me (1999)': 3.0,\n",
       "  'Blair Witch Project, The (1999)': 3.0,\n",
       "  'Bless the Child (2000)': 3.0,\n",
       "  'Caddyshack II (1988)': 2.0,\n",
       "  'Cast Away (2000)': 4.0,\n",
       "  'Creepshow (1982)': 2.0,\n",
       "  'Deep Blue Sea (1999)': 2.0,\n",
       "  'Dr. Dolittle (1998)': 3.0,\n",
       "  'Dracula 2000 (2000)': 2.0,\n",
       "  'Entrapment (1999)': 2.0,\n",
       "  'Ernest Saves Christmas (1988)': 1.0,\n",
       "  'Exorcist, The (1973)': 5.0,\n",
       "  'Fast and the Furious, The (2001)': 4.0,\n",
       "  'Fight Club (1999)': 5.0,\n",
       "  'Forrest Gump (1994)': 4.0,\n",
       "  \"General's Daughter, The (1999)\": 3.0,\n",
       "  'Godfather, The (1972)': 5.0,\n",
       "  'Great Outdoors, The (1988)': 3.0,\n",
       "  'Hannibal (2001)': 5.0,\n",
       "  'Haunting, The (1999)': 2.0,\n",
       "  'Land Before Time, The (1988)': 2.0,\n",
       "  'Little Nicky (2000)': 3.0,\n",
       "  'Psycho (1960)': 3.0,\n",
       "  'Return of the Living Dead, The (1985)': 3.0,\n",
       "  'Scary Movie (2000)': 2.0,\n",
       "  'Stigmata (1999)': 3.0,\n",
       "  'Stir of Echoes (1999)': 4.0,\n",
       "  \"There's Something About Mary (1998)\": 4.0,\n",
       "  'Traffic (2000)': 1.0,\n",
       "  'Unbreakable (2000)': 3.0,\n",
       "  'Urban Legend (1998)': 3.0,\n",
       "  'Urban Legends: Final Cut (2000)': 2.0,\n",
       "  'Vertical Limit (2000)': 2.0,\n",
       "  'What Lies Beneath (2000)': 5.0},\n",
       " 'David': {'African Queen, The (1951)': 4.0,\n",
       "  'American President, The (1995)': 4.0,\n",
       "  'Annie Hall (1977)': 4.0,\n",
       "  'Apocalypse Now (1979)': 4.0,\n",
       "  'Babe: Pig in the City (1998)': 4.0,\n",
       "  'Backdraft (1991)': 3.0,\n",
       "  'Big (1988)': 4.0,\n",
       "  'Bridge on the River Kwai, The (1957)': 4.0,\n",
       "  'Butch Cassidy and the Sundance Kid (1969)': 3.0,\n",
       "  'Casablanca (1942)': 4.0,\n",
       "  'Crying Game, The (1992)': 3.0,\n",
       "  'Dirty Dozen, The (1967)': 4.0,\n",
       "  'Forrest Gump (1994)': 3.0,\n",
       "  'From Russia with Love (1963)': 4.0,\n",
       "  'Full Metal Jacket (1987)': 3.0,\n",
       "  'Glory (1989)': 4.0,\n",
       "  'Godfather, The (1972)': 5.0,\n",
       "  'Godfather: Part II, The (1974)': 5.0,\n",
       "  'Graduate, The (1967)': 5.0,\n",
       "  'Jaws (1975)': 5.0,\n",
       "  'Last Emperor, The (1987)': 3.0,\n",
       "  'Lawrence of Arabia (1962)': 3.0,\n",
       "  'Leaving Las Vegas (1995)': 4.0,\n",
       "  'Longest Day, The (1962)': 4.0,\n",
       "  'Monty Python and the Holy Grail (1975)': 4.0,\n",
       "  'Negotiator, The (1998)': 3.0,\n",
       "  'Planet of the Apes (1968)': 3.0,\n",
       "  'Raiders of the Lost Ark (Indiana Jones and the Raiders of the Lost Ark) (1981)': 4.0,\n",
       "  'Rocky Horror Picture Show, The (1975)': 4.0,\n",
       "  'Saving Private Ryan (1998)': 4.0,\n",
       "  \"Schindler's List (1993)\": 5.0,\n",
       "  'Star Wars: Episode IV - A New Hope (1977)': 4.0,\n",
       "  'Star Wars: Episode V - The Empire Strikes Back (1980)': 4.0,\n",
       "  'Star Wars: Episode VI - Return of the Jedi (1983)': 4.0,\n",
       "  'Terminator, The (1984)': 4.0,\n",
       "  'Titanic (1997)': 4.0,\n",
       "  'Toy Story (1995)': 4.0,\n",
       "  'Untouchables, The (1987)': 4.0},\n",
       " 'James': {'*batteries not included (1987)': 5.0,\n",
       "  '10 Things I Hate About You (1999)': 5.0,\n",
       "  '10,000 BC (2008)': 4.5,\n",
       "  '100 Girls (2000)': 4.5,\n",
       "  '101 Dalmatians (1996)': 3.5,\n",
       "  '102 Dalmatians (2000)': 3.0,\n",
       "  '13 Ghosts (1960)': 4.0,\n",
       "  '13 Going on 30 (2004)': 5.0,\n",
       "  '1408 (2007)': 4.5,\n",
       "  '16 Blocks (2006)': 2.5,\n",
       "  '2 Fast 2 Furious (Fast and the Furious 2, The) (2003)': 3.0,\n",
       "  '21 Grams (2003)': 4.5,\n",
       "  '27 Dresses (2008)': 4.0,\n",
       "  '28 Days Later (2002)': 5.0,\n",
       "  '28 Weeks Later (2007)': 5.0,\n",
       "  '30 Days of Night (2007)': 2.0,\n",
       "  '300 (2007)': 5.0,\n",
       "  '40 Days and 40 Nights (2002)': 4.0,\n",
       "  '40-Year-Old Virgin, The (2005)': 5.0,\n",
       "  '50 First Dates (2004)': 4.5,\n",
       "  '9 Songs (2004)': 5.0,\n",
       "  'A.I. Artificial Intelligence (2001)': 5.0,\n",
       "  'AVP: Alien vs. Predator (2004)': 5.0,\n",
       "  'AVPR: Aliens vs. Predator - Requiem (2007)': 5.0,\n",
       "  'Abandoned, The (2006)': 3.0,\n",
       "  'About a Boy (2002)': 5.0,\n",
       "  'Accidental Husband, The (2009)': 4.0,\n",
       "  'Ace Ventura: Pet Detective (1994)': 3.5,\n",
       "  'Ace Ventura: When Nature Calls (1995)': 3.5,\n",
       "  'Addams Family Values (1993)': 4.0,\n",
       "  'Addams Family, The (1991)': 3.5,\n",
       "  'Adventures of Pinocchio, The (1996)': 4.0,\n",
       "  'Aeon Flux (2005)': 1.5,\n",
       "  'After Sex (2007)': 3.5,\n",
       "  'Agent Cody Banks (2003)': 2.0,\n",
       "  'Agent Cody Banks 2: Destination London (2004)': 2.0,\n",
       "  'Akira (1988)': 5.0,\n",
       "  'Aladdin (1992)': 5.0,\n",
       "  'Aladdin and the King of Thieves (1996)': 3.0,\n",
       "  'Alexander (2004)': 3.5,\n",
       "  'Alice in Wonderland (1951)': 4.0,\n",
       "  'Alien (1979)': 5.0,\n",
       "  'Alien: Resurrection (1997)': 5.0,\n",
       "  'Aliens (1986)': 5.0,\n",
       "  'Aliens of the Deep (2005)': 5.0,\n",
       "  'Alien³ (a.k.a. Alien 3) (1992)': 5.0,\n",
       "  'All About My Mother (Todo sobre mi madre) (1999)': 3.5,\n",
       "  'All Dogs Go to Heaven (1989)': 2.5,\n",
       "  'All Dogs Go to Heaven 2 (1996)': 2.0,\n",
       "  'Almost Famous (2000)': 4.0,\n",
       "  'Along Came Polly (2004)': 4.5,\n",
       "  'Alpha Dog (2007)': 3.0,\n",
       "  'Amadeus (1984)': 5.0,\n",
       "  \"Amelie (Fabuleux destin d'Amélie Poulain, Le) (2001)\": 3.5,\n",
       "  'American Beauty (1999)': 5.0,\n",
       "  'American Crime, An (2007)': 5.0,\n",
       "  'American Dream (1990)': 1.5,\n",
       "  'American Haunting, An (2005)': 5.0,\n",
       "  'American Pie (1999)': 4.0,\n",
       "  'American Pie 2 (2001)': 3.0,\n",
       "  'American Psycho (2000)': 2.0,\n",
       "  'American Wedding (American Pie 3) (2003)': 3.0,\n",
       "  'American Werewolf in London, An (1981)': 4.0,\n",
       "  'American Werewolf in Paris, An (1997)': 5.0,\n",
       "  'Amityville Horror, The (2005)': 5.0,\n",
       "  \"Amores Perros (Love's a Bitch) (2000)\": 5.0,\n",
       "  'Anastasia (1997)': 3.0,\n",
       "  'Anatomy (Anatomie) (2000)': 4.0,\n",
       "  'Anchorman: The Legend of Ron Burgundy (2004)': 3.0,\n",
       "  'And Your Mother Too (Y tu mamá también) (2001)': 4.0,\n",
       "  'Anger Management (2003)': 1.0,\n",
       "  'Animal, The (2001)': 4.0,\n",
       "  'Animatrix, The (2003)': 5.0,\n",
       "  'Annapolis (2006)': 5.0,\n",
       "  'Ant Bully, The (2006)': 3.5,\n",
       "  'Antitrust (2001)': 2.5,\n",
       "  'Antz (1998)': 3.5,\n",
       "  'Apocalypto (2006)': 5.0,\n",
       "  'Apollo 13 (1995)': 5.0,\n",
       "  'Appleseed (Appurushîdo) (2004)': 5.0,\n",
       "  'Aquamarine (2006)': 0.5,\n",
       "  'Aristocats, The (1970)': 4.0,\n",
       "  'Aristocrats, The (2005)': 4.0,\n",
       "  'Armageddon (1998)': 5.0,\n",
       "  'Army of Darkness (1993)': 3.0,\n",
       "  'Arthur and the Invisibles (2007)': 3.5,\n",
       "  'Ask the Dust (2006)': 1.5,\n",
       "  'Asterix & Obelix: Mission Cleopatra (Astérix & Obélix: Mission Cléopâtre) (2002)': 4.0,\n",
       "  \"Astronaut's Wife, The (1999)\": 4.0,\n",
       "  'Atlantis: The Lost Empire (2001)': 4.5,\n",
       "  'August (2008)': 4.0,\n",
       "  'Austin Powers: The Spy Who Shagged Me (1999)': 0.5,\n",
       "  'Avengers, The (1998)': 3.5,\n",
       "  'Aviator, The (2004)': 4.0,\n",
       "  'Azumi (2003)': 1.0,\n",
       "  'Bachelor Party (1984)': 5.0,\n",
       "  'Back to the Future (1985)': 5.0,\n",
       "  'Back to the Future Part II (1989)': 5.0,\n",
       "  'Back to the Future Part III (1990)': 5.0,\n",
       "  'Bad Boys (1983)': 3.0,\n",
       "  'Bad Boys (1995)': 3.0,\n",
       "  'Bad Boys II (2003)': 2.5,\n",
       "  'Bad Company (1995)': 3.5,\n",
       "  'Bad Education (La mala educación) (2004)': 5.0,\n",
       "  'Bad Moon (1996)': 4.5,\n",
       "  'Bad Taste (1987)': 4.0,\n",
       "  'Bambi (1942)': 4.0,\n",
       "  'Bandidas (2006)': 2.0,\n",
       "  'Bangkok Dangerous (2000)': 2.5,\n",
       "  'Bangkok Dangerous (2008)': 3.0,\n",
       "  'Batman (1989)': 4.5,\n",
       "  'Batman Begins (2005)': 4.0,\n",
       "  'Batman Beyond: Return of the Joker (2000)': 3.0,\n",
       "  'Batman Forever (1995)': 3.5,\n",
       "  'Batman: Mask of the Phantasm (1993)': 3.0,\n",
       "  'Battle Royale (Batoru rowaiaru) (2000)': 4.5,\n",
       "  'Beautiful Mind, A (2001)': 4.0,\n",
       "  'Beautiful Thing (1996)': 4.5,\n",
       "  'Beauty and the Beast (1991)': 4.5,\n",
       "  'Ben X (2007)': 3.0,\n",
       "  \"Bill & Ted's Excellent Adventure (1989)\": 5.0,\n",
       "  'Bio-Dome (1996)': 2.0,\n",
       "  'Black Moon Rising (1986)': 2.5,\n",
       "  'Blade Runner (1982)': 4.5,\n",
       "  'Blind Side, The  (2009)': 5.0,\n",
       "  'Blood: The Last Vampire (2000)': 5.0,\n",
       "  'Bolt (2008)': 4.5,\n",
       "  'Bowling for Columbine (2002)': 5.0,\n",
       "  'Boy in the Striped Pajamas, The (Boy in the Striped Pyjamas, The) (2008)': 4.5,\n",
       "  'Braveheart (1995)': 4.0,\n",
       "  \"Bridget Jones's Diary (2001)\": 3.0,\n",
       "  'Brothers Grimm, The (2005)': 4.0,\n",
       "  \"Bug's Life, A (1998)\": 4.0,\n",
       "  'Bulletproof Monk (2003)': 4.0,\n",
       "  'CJ7 (Cheung Gong 7 hou) (2008)': 5.0,\n",
       "  'Cable Guy, The (1996)': 3.5,\n",
       "  'Casper (1995)': 4.0,\n",
       "  'Cave, The (2005)': 3.5,\n",
       "  'Cell, The (2000)': 3.5,\n",
       "  'Charlie and the Chocolate Factory (2005)': 5.0,\n",
       "  \"Charlie's Angels: Full Throttle (2003)\": 3.5,\n",
       "  'Chicken Little (2005)': 3.0,\n",
       "  'Children of Men (2006)': 4.0,\n",
       "  'Chronicles of Narnia: The Lion, the Witch and the Wardrobe, The (2005)': 4.5,\n",
       "  'Chronicles of Riddick, The (2004)': 4.5,\n",
       "  'Cinderella Man (2005)': 4.0,\n",
       "  'City of God (Cidade de Deus) (2002)': 5.0,\n",
       "  'Cloverfield (2008)': 3.5,\n",
       "  'Clueless (1995)': 4.5,\n",
       "  'Code 46 (2003)': 2.0,\n",
       "  'Congo (1995)': 4.0,\n",
       "  'Contact (1997)': 4.0,\n",
       "  'Core, The (2003)': 2.5,\n",
       "  'Cowboy Bebop: The Movie (Cowboy Bebop: Tengoku no Tobira) (2001)': 2.5,\n",
       "  'Crash (2004)': 4.5,\n",
       "  'Critters (1986)': 4.0,\n",
       "  'Cube (1997)': 4.5,\n",
       "  'Cube Zero (2004)': 4.5,\n",
       "  'D-War (Dragon Wars) (2007)': 1.5,\n",
       "  'D2: The Mighty Ducks (1994)': 4.0,\n",
       "  'Dark City (1998)': 5.0,\n",
       "  'Dark Crystal, The (1982)': 5.0,\n",
       "  'Dark Knight, The (2008)': 5.0,\n",
       "  'Dark Ride (2006)': 2.5,\n",
       "  'Day After Tomorrow, The (2004)': 4.5,\n",
       "  'Day of the Dead (1985)': 4.5,\n",
       "  'Day the Earth Stood Still, The (1951)': 4.0,\n",
       "  'Day the Earth Stood Still, The (2008)': 5.0,\n",
       "  'Dazed and Confused (1993)': 1.5,\n",
       "  'Death Race (2008)': 1.5,\n",
       "  'Deep Blue Sea (1999)': 4.5,\n",
       "  'Deep Impact (1998)': 4.5,\n",
       "  'Demolition Man (1993)': 4.5,\n",
       "  'Departed, The (2006)': 4.5,\n",
       "  'Die Hard (1988)': 4.0,\n",
       "  'Die Hard: With a Vengeance (1995)': 4.0,\n",
       "  'District 13 (Banlieue 13) (2004)': 3.5,\n",
       "  'Donnie Darko (2001)': 5.0,\n",
       "  'Doom (2005)': 2.0,\n",
       "  'Doors, The (1991)': 3.0,\n",
       "  'Double Dragon (1994)': 4.0,\n",
       "  \"Dracula (Bram Stoker's Dracula) (1992)\": 5.0,\n",
       "  'Dragonball Evolution (2009)': 2.5,\n",
       "  'Dragonheart (1996)': 4.5,\n",
       "  'Dreamcatcher (2003)': 5.0,\n",
       "  \"Dude, Where's My Car? (2000)\": 2.0,\n",
       "  'Dumb & Dumber (Dumb and Dumber) (1994)': 4.0,\n",
       "  'Dumbo (1941)': 3.5,\n",
       "  'Déjà Vu (Deja Vu) (2006)': 4.5,\n",
       "  'E.T. the Extra-Terrestrial (1982)': 4.5,\n",
       "  'Edward Scissorhands (1990)': 5.0,\n",
       "  'Electric Dreams (1984)': 5.0,\n",
       "  'Elephant Man, The (1980)': 4.5,\n",
       "  'End of Days (1999)': 5.0,\n",
       "  'Enemy Mine (1985)': 5.0,\n",
       "  'Equilibrium (2002)': 5.0,\n",
       "  'Eternal Sunshine of the Spotless Mind (2004)': 5.0,\n",
       "  'Evil Dead, The (1981)': 2.0,\n",
       "  'Evolution (2001)': 3.0,\n",
       "  'Faculty, The (1998)': 5.0,\n",
       "  'Fahrenheit 9/11 (2004)': 3.5,\n",
       "  'Fantasia 2000 (1999)': 5.0,\n",
       "  'Fantastic Four (2005)': 4.0,\n",
       "  'Fantastic Four: Rise of the Silver Surfer (2007)': 4.5,\n",
       "  'Fargo (1996)': 3.5,\n",
       "  'Fast and the Furious, The (1955)': 4.5,\n",
       "  'Fifth Element, The (1997)': 4.5,\n",
       "  'Fight Club (1999)': 4.5,\n",
       "  'Final Fantasy VII: Advent Children (2004)': 5.0,\n",
       "  'Final Fantasy: The Spirits Within (2001)': 4.5,\n",
       "  'Finding Nemo (2003)': 5.0,\n",
       "  'Fly, The (1986)': 5.0,\n",
       "  'Food, Inc. (2008)': 5.0,\n",
       "  'Forever Young (1992)': 5.0,\n",
       "  'Forgotten, The (2004)': 4.5,\n",
       "  'Forrest Gump (1994)': 5.0,\n",
       "  'Friday the 13th Part IV: The Final Chapter (1984)': 0.5,\n",
       "  \"Futurama: Bender's Big Score (2007)\": 3.0,\n",
       "  \"Futurama: Bender's Game (2008)\": 2.0,\n",
       "  'Futurama: Into the Wild Green Yonder (2009)': 3.0,\n",
       "  'Futurama: The Beast with a Billion Backs (2008)': 2.0,\n",
       "  'Gattaca (1997)': 5.0,\n",
       "  \"General's Daughter, The (1999)\": 3.5,\n",
       "  'Ghost (1990)': 4.5,\n",
       "  'Ghost in the Shell (Kôkaku kidôtai) (1995)': 4.5,\n",
       "  'Ghost in the Shell 2: Innocence (a.k.a. Innocence) (Inosensu) (2004)': 4.5,\n",
       "  'Ghostbusters (a.k.a. Ghost Busters) (1984)': 5.0,\n",
       "  'Ghostbusters II (1989)': 4.5,\n",
       "  'Gladiator (2000)': 4.5,\n",
       "  'Godfather, The (1972)': 2.5,\n",
       "  'Godfather: Part III, The (1990)': 2.0,\n",
       "  'Godzilla (1998)': 4.0,\n",
       "  'Godzilla 2000 (Gojira ni-sen mireniamu) (1999)': 4.0,\n",
       "  'GoldenEye (1995)': 2.5,\n",
       "  'Goodfellas (1990)': 1.5,\n",
       "  'Gran Torino (2008)': 4.0,\n",
       "  'Gremlins 2: The New Batch (1990)': 4.5,\n",
       "  'Grindhouse (2007)': 4.0,\n",
       "  'Grizzly Man (2005)': 5.0,\n",
       "  'Hackers (1995)': 5.0,\n",
       "  'Halloween (1978)': 1.0,\n",
       "  'Halloween H20: 20 Years Later (Halloween 7: The Revenge of Laurie Strode) (1998)': 0.5,\n",
       "  'Happening, The (2008)': 5.0,\n",
       "  'Harry Potter and the Chamber of Secrets (2002)': 5.0,\n",
       "  'Harry Potter and the Order of the Phoenix (2007)': 5.0,\n",
       "  'Harry Potter and the Prisoner of Azkaban (2004)': 4.0,\n",
       "  \"Harry Potter and the Sorcerer's Stone (a.k.a. Harry Potter and the Philosopher's Stone) (2001)\": 5.0,\n",
       "  'Heavy Metal (1981)': 4.0,\n",
       "  'Hellboy II: The Golden Army (2008)': 4.5,\n",
       "  'Hellraiser: Bloodline (1996)': 3.5,\n",
       "  'Hero Wanted (2008)': 0.5,\n",
       "  'Highlander II: The Quickening (1991)': 4.0,\n",
       "  'Highlander III: The Sorcerer (a.k.a. Highlander: The Final Dimension) (1994)': 3.5,\n",
       "  'Hole, The (2001)': 2.0,\n",
       "  'Hollow Man (2000)': 3.5,\n",
       "  'Home Alone (1990)': 4.0,\n",
       "  'How the Grinch Stole Christmas (a.k.a. The Grinch) (2000)': 4.0,\n",
       "  \"Howl's Moving Castle (Hauru no ugoku shiro) (2004)\": 5.0,\n",
       "  'Hulk (2003)': 4.0,\n",
       "  'I Am Legend (2007)': 5.0,\n",
       "  'I, Robot (2004)': 5.0,\n",
       "  'Immortel (ad vitam) (Immortal) (2004)': 5.0,\n",
       "  'Impostor (2002)': 4.5,\n",
       "  'Incredible Hulk, The (2008)': 4.0,\n",
       "  'Independence Day (a.k.a. ID4) (1996)': 5.0,\n",
       "  'Indiana Jones and the Kingdom of the Crystal Skull (2008)': 2.5,\n",
       "  'Indiana Jones and the Last Crusade (1989)': 4.5,\n",
       "  'Inspector Gadget (1999)': 4.0,\n",
       "  'Interview with the Vampire: The Vampire Chronicles (1994)': 4.5,\n",
       "  'Invasion, The (2007)': 4.5,\n",
       "  'Ip Man (2008)': 4.0,\n",
       "  'Iron Giant, The (1999)': 4.5,\n",
       "  'Iron Man (2008)': 5.0,\n",
       "  'Island of Dr. Moreau, The (1996)': 5.0,\n",
       "  'Island, The (2005)': 4.0,\n",
       "  'Italian Job, The (2003)': 3.5,\n",
       "  'Jason X (2002)': 3.0,\n",
       "  'Jaws (1975)': 4.0,\n",
       "  'Johnny Mnemonic (1995)': 5.0,\n",
       "  'Journey to the Center of the Earth (2008)': 3.5,\n",
       "  'Judge Dredd (1995)': 5.0,\n",
       "  'Jumper (2008)': 3.0,\n",
       "  'Junior (1994)': 5.0,\n",
       "  'Jurassic Park (1993)': 5.0,\n",
       "  'Jurassic Park III (2001)': 5.0,\n",
       "  'Karate Kid, The (1984)': 3.0,\n",
       "  'Kill Bill: Vol. 1 (2003)': 4.0,\n",
       "  'King Arthur (2004)': 4.0,\n",
       "  'King Kong (2005)': 5.0,\n",
       "  \"Knight's Tale, A (2001)\": 5.0,\n",
       "  'Knowing (2009)': 4.0,\n",
       "  'Kung Fu Hustle (Gong fu) (2004)': 5.0,\n",
       "  'Kung Fu Panda: Secrets of the Furious Five (2008)': 4.0,\n",
       "  'Langoliers, The (1995)': 3.5,\n",
       "  'Last King of Scotland, The (2006)': 4.0,\n",
       "  'Last Mimzy, The (2007)': 3.5,\n",
       "  'League of Extraordinary Gentlemen, The (a.k.a. LXG) (2003)': 4.0,\n",
       "  'Legend (1985)': 3.0,\n",
       "  'Licence to Kill (1989)': 0.5,\n",
       "  'Lilo & Stitch (2002)': 4.5,\n",
       "  'Lilya 4-Ever (Lilja 4-ever) (2002)': 5.0,\n",
       "  'Lion King, The (1994)': 4.0,\n",
       "  'Liquid Sky (1982)': 4.0,\n",
       "  'Little Miss Sunshine (2006)': 5.0,\n",
       "  'Lord of the Rings: The Fellowship of the Ring, The (2001)': 5.0,\n",
       "  'Lord of the Rings: The Return of the King, The (2003)': 5.0,\n",
       "  'Lord of the Rings: The Two Towers, The (2002)': 5.0,\n",
       "  'Lost World: Jurassic Park, The (1997)': 5.0,\n",
       "  'Lost in Translation (2003)': 2.0,\n",
       "  'Love and Other Disasters (2006)': 4.0,\n",
       "  'Mac and Me (1988)': 5.0,\n",
       "  'Mad Max (1979)': 4.0,\n",
       "  'Mad Max Beyond Thunderdome (1985)': 3.5,\n",
       "  'Mammoth (Mammut) (2009)': 0.5,\n",
       "  'Mars Attacks! (1996)': 4.0,\n",
       "  'Mary Poppins (1964)': 4.0,\n",
       "  'Mask, The (1994)': 4.0,\n",
       "  'Masters of the Universe (1987)': 3.5,\n",
       "  'Matrix Reloaded, The (2003)': 5.0,\n",
       "  'Matrix Revolutions, The (2003)': 5.0,\n",
       "  'Matrix, The (1999)': 5.0,\n",
       "  'Me, Myself & Irene (2000)': 3.5,\n",
       "  'Meet Dave (2008)': 3.0,\n",
       "  'Meet the Robinsons (2007)': 3.5,\n",
       "  'Memento (2000)': 5.0,\n",
       "  'Memoirs of a Geisha (2005)': 5.0,\n",
       "  'Men in Black (a.k.a. MIB) (1997)': 5.0,\n",
       "  'Men in Black II (a.k.a. MIIB) (a.k.a. MIB 2) (2002)': 5.0,\n",
       "  'Men of Honor (2000)': 4.0,\n",
       "  'Metro (1997)': 1.0,\n",
       "  'Million Dollar Baby (2004)': 5.0,\n",
       "  'Minority Report (2002)': 4.5,\n",
       "  'Mission: Impossible (1996)': 4.0,\n",
       "  'Mist, The (2007)': 5.0,\n",
       "  'Monty Python and the Holy Grail (1975)': 4.5,\n",
       "  'Mr. & Mrs. Smith (2005)': 4.5,\n",
       "  \"Mr. Magorium's Wonder Emporium (2007)\": 4.5,\n",
       "  'Mrs. Doubtfire (1993)': 4.5,\n",
       "  'Muppet Movie, The (1979)': 0.5,\n",
       "  'My Big Fat Greek Wedding (2002)': 4.5,\n",
       "  'My Bodyguard (1980)': 4.5,\n",
       "  \"My Mom's New Boyfriend (2008)\": 3.0,\n",
       "  'My Neighbor Totoro (Tonari no Totoro) (1988)': 5.0,\n",
       "  'Mystery Science Theater 3000: The Movie (1996)': 0.5,\n",
       "  \"National Lampoon's Van Wilder (2002)\": 4.0,\n",
       "  'National Treasure (2004)': 4.5,\n",
       "  'Nausicaä of the Valley of the Wind (Kaze no tani no Naushika) (1984)': 4.5,\n",
       "  'Nemesis 2: Nebula (1995)': 0.5,\n",
       "  'Net, The (1995)': 4.0,\n",
       "  'New Police Story (Xin jing cha gu shi) (2004)': 4.5,\n",
       "  'Next (2007)': 4.0,\n",
       "  'Night of the Living Dead (1968)': 5.0,\n",
       "  'Nightmare Before Christmas, The (1993)': 5.0,\n",
       "  'Not Another Teen Movie (2001)': 4.5,\n",
       "  'One, The (2001)': 5.0,\n",
       "  \"Pan's Labyrinth (Laberinto del fauno, El) (2006)\": 4.5,\n",
       "  'Panic Room (2002)': 4.5,\n",
       "  'Paprika (Papurika) (2006)': 4.5,\n",
       "  'Pathology (2008)': 4.5,\n",
       "  'Patriot, The (2000)': 5.0,\n",
       "  'Pay It Forward (2000)': 5.0,\n",
       "  'Paycheck (2003)': 4.5,\n",
       "  'Perfect Blue (1997)': 3.5,\n",
       "  'Phantom, The (1996)': 3.5,\n",
       "  'Phone Booth (2002)': 5.0,\n",
       "  \"Pirates of the Caribbean: At World's End (2007)\": 4.0,\n",
       "  \"Pirates of the Caribbean: Dead Man's Chest (2006)\": 4.5,\n",
       "  'Pirates of the Caribbean: The Curse of the Black Pearl (2003)': 5.0,\n",
       "  'Pitch Black (2000)': 4.0,\n",
       "  'Planet Terror (2007)': 4.0,\n",
       "  'Planet of the Apes (2001)': 4.5,\n",
       "  'Pokémon: The First Movie (1998)': 4.0,\n",
       "  'Polar Express, The (2004)': 5.0,\n",
       "  'Police Academy (1984)': 3.0,\n",
       "  'Predator (1987)': 4.5,\n",
       "  'Predator 2 (1990)': 4.5,\n",
       "  'Pretty Woman (1990)': 4.5,\n",
       "  'Princess Bride, The (1987)': 4.0,\n",
       "  'Princess Mononoke (Mononoke-hime) (1997)': 5.0,\n",
       "  'Professional, The (Le professionnel) (1981)': 4.0,\n",
       "  'Pulp Fiction (1994)': 3.5,\n",
       "  'Pulse (2006)': 3.5,\n",
       "  'Punisher, The (2004)': 3.5,\n",
       "  'Push (2009)': 4.5,\n",
       "  'Race to Witch Mountain (2009)': 0.5,\n",
       "  'Raiders of the Lost Ark (Indiana Jones and the Raiders of the Lost Ark) (1981)': 4.0,\n",
       "  'Rain Man (1988)': 3.5,\n",
       "  'Ratatouille (2007)': 4.5,\n",
       "  'Reign of Fire (2002)': 4.5,\n",
       "  'Renaissance (2006)': 4.5,\n",
       "  'Resident Evil (2002)': 5.0,\n",
       "  'Resident Evil: Apocalypse (2004)': 2.5,\n",
       "  'Resident Evil: Extinction (2007)': 3.0,\n",
       "  'Return of the Living Dead, The (1985)': 3.5,\n",
       "  'Return, The (2006)': 4.5,\n",
       "  'Road Warrior, The (Mad Max 2) (1981)': 3.0,\n",
       "  'RoboCop (1987)': 3.5,\n",
       "  'RoboCop 3 (1993)': 1.0,\n",
       "  'Robots (2005)': 3.5,\n",
       "  'Save the Last Dance (2001)': 4.0,\n",
       "  'Saving Private Ryan (1998)': 5.0,\n",
       "  'Saw II (2005)': 1.5,\n",
       "  'Scanner Darkly, A (2006)': 5.0,\n",
       "  'Scarface (1983)': 2.0,\n",
       "  'Scary Movie 2 (2001)': 5.0,\n",
       "  \"Schindler's List (1993)\": 4.5,\n",
       "  'School of Rock (2003)': 5.0,\n",
       "  'Secret Garden, The (1993)': 4.5,\n",
       "  'Sex and Breakfast (2007)': 3.5,\n",
       "  'Shakespeare in Love (1998)': 4.5,\n",
       "  'Shark Tale (2004)': 4.0,\n",
       "  'Shawshank Redemption, The (1994)': 5.0,\n",
       "  'Showtime (2002)': 3.0,\n",
       "  'Shrek (2001)': 4.5,\n",
       "  'Signs (2002)': 4.5,\n",
       "  'Silence of the Lambs, The (1991)': 5.0,\n",
       "  'Sister Act (1992)': 4.5,\n",
       "  'Sixth Sense, The (1999)': 5.0,\n",
       "  'Sky Captain and the World of Tomorrow (2004)': 4.0,\n",
       "  'Skyline (2010)': 1.0,\n",
       "  'Sleeper (1973)': 0.5,\n",
       "  'Slither (2006)': 0.5,\n",
       "  'Southland Tales (2006)': 1.0,\n",
       "  'Space Jam (1996)': 5.0,\n",
       "  'Spaceballs (1987)': 4.0,\n",
       "  'Spawn (1997)': 5.0,\n",
       "  'Species II (1998)': 1.0,\n",
       "  'Speed (1994)': 4.0,\n",
       "  'Spider-Man (2002)': 5.0,\n",
       "  'Spider-Man 2 (2004)': 4.5,\n",
       "  'Spider-Man 3 (2007)': 4.5,\n",
       "  'Spirited Away (Sen to Chihiro no kamikakushi) (2001)': 4.5,\n",
       "  'Spriggan (Supurigan) (1998)': 3.0,\n",
       "  'Spy Kids (2001)': 2.5,\n",
       "  'Star Wars: Episode I - The Phantom Menace (1999)': 4.5,\n",
       "  'Star Wars: Episode II - Attack of the Clones (2002)': 4.5,\n",
       "  'Star Wars: Episode III - Revenge of the Sith (2005)': 5.0,\n",
       "  'Star Wars: Episode IV - A New Hope (1977)': 5.0,\n",
       "  'Star Wars: Episode V - The Empire Strikes Back (1980)': 5.0,\n",
       "  'Star Wars: Episode VI - Return of the Jedi (1983)': 4.5,\n",
       "  'Stargate (1994)': 3.5,\n",
       "  'Starship Troopers (1997)': 4.5,\n",
       "  'Starship Troopers 2: Hero of the Federation (2004)': 0.5,\n",
       "  'Starship Troopers 3: Marauder (2008)': 0.5,\n",
       "  'Stay Alive (2006)': 5.0,\n",
       "  'Stealth (2005)': 0.5,\n",
       "  'Steamboy (Suchîmubôi) (2004)': 4.5,\n",
       "  'Stigmata (1999)': 4.0,\n",
       "  'Street Fighter II: The Animated Movie (Sutorîto Faitâ II gekijô-ban) (1994)': 4.5,\n",
       "  'Sum of All Fears, The (2002)': 3.5,\n",
       "  'Sunshine (2007)': 5.0,\n",
       "  'Super Mario Bros. (1993)': 5.0,\n",
       "  'Superhero Movie (2008)': 2.0,\n",
       "  'Superman II (1980)': 3.0,\n",
       "  'Superman III (1983)': 4.0,\n",
       "  'Superman Returns (2006)': 3.0,\n",
       "  'Sweeney Todd: The Demon Barber of Fleet Street (2007)': 5.0,\n",
       "  'Teenage Mutant Ninja Turtles (1990)': 4.5,\n",
       "  'Terminator 2: Judgment Day (1991)': 4.5,\n",
       "  'Terminator 3: Rise of the Machines (2003)': 3.5,\n",
       "  'Terminator, The (1984)': 5.0,\n",
       "  'The Butterfly Effect (2004)': 5.0,\n",
       "  'The Butterfly Effect 2 (2006)': 1.0,\n",
       "  'The Butterfly Effect 3: Revelations (2009)': 0.5,\n",
       "  'Time Machine, The (2002)': 5.0,\n",
       "  'Titan A.E. (2000)': 4.5,\n",
       "  'Titanic (1997)': 4.0,\n",
       "  'Total Recall (1990)': 5.0,\n",
       "  'Toy Story (1995)': 4.5,\n",
       "  'Toy Story 2 (1999)': 5.0,\n",
       "  'Transformers (2007)': 4.5,\n",
       "  'Transformers: Revenge of the Fallen (2009)': 5.0,\n",
       "  'Transformers: The Movie (1986)': 2.0,\n",
       "  'Treasure Planet (2002)': 5.0,\n",
       "  'Tremors (1990)': 4.5,\n",
       "  'Tremors 3: Back to Perfection (2001)': 3.5,\n",
       "  'Tremors II: Aftershocks (1996)': 4.0,\n",
       "  'Tron (1982)': 4.5,\n",
       "  'Troy (2004)': 4.5,\n",
       "  'True Lies (1994)': 5.0,\n",
       "  'Twelve Monkeys (a.k.a. 12 Monkeys) (1995)': 5.0,\n",
       "  'Twister (1996)': 5.0,\n",
       "  'Ultraviolet (2006)': 2.5,\n",
       "  'Unbreakable (2000)': 5.0,\n",
       "  'Undead (2003)': 2.0,\n",
       "  'Underdog (2007)': 3.0,\n",
       "  'V for Vendetta (2006)': 4.0,\n",
       "  'WALL·E (2008)': 5.0,\n",
       "  'War of the Worlds (2005)': 5.0,\n",
       "  'War of the Worlds 2: The Next Wave (2008)': 0.5,\n",
       "  'WarGames (1983)': 5.0,\n",
       "  'Watchmen (2009)': 5.0,\n",
       "  'Waterworld (1995)': 4.5,\n",
       "  'We Were Soldiers (2002)': 4.5,\n",
       "  'Weird Science (1985)': 5.0,\n",
       "  'Welcome Home, Roscoe Jenkins (2008)': 5.0,\n",
       "  'Willy Wonka & the Chocolate Factory (1971)': 5.0,\n",
       "  'X-Files: I Want to Believe, The (2008)': 4.5,\n",
       "  'X-Men (2000)': 5.0,\n",
       "  'X-Men Origins: Wolverine (2009)': 5.0,\n",
       "  'X-Men: The Last Stand (2006)': 5.0,\n",
       "  'X2: X-Men United (2003)': 5.0,\n",
       "  'eXistenZ (1999)': 5.0},\n",
       " 'Jason': {'101 Dalmatians (One Hundred and One Dalmatians) (1961)': 3.0,\n",
       "  '8 Women (2002)': 3.5,\n",
       "  'Aladdin (1992)': 4.0,\n",
       "  'All About My Mother (Todo sobre mi madre) (1999)': 5.0,\n",
       "  \"Amelie (Fabuleux destin d'Amélie Poulain, Le) (2001)\": 5.0,\n",
       "  'American Beauty (1999)': 3.5,\n",
       "  'And Your Mother Too (Y tu mamá también) (2001)': 5.0,\n",
       "  'Annie Hall (1977)': 4.5,\n",
       "  'Arizona Dream (1993)': 4.5,\n",
       "  'As Good as It Gets (1997)': 4.0,\n",
       "  'Atonement (2007)': 4.5,\n",
       "  'Back to the Future (1985)': 2.0,\n",
       "  'Batman (1989)': 3.0,\n",
       "  'Being John Malkovich (1999)': 4.0,\n",
       "  'Best of Youth, The (La meglio gioventù) (2003)': 5.0,\n",
       "  'Billy Elliot (2000)': 3.5,\n",
       "  'Blue Lagoon, The (1980)': 2.0,\n",
       "  'Body Snatchers (1993)': 1.0,\n",
       "  'Brokeback Mountain (2005)': 4.5,\n",
       "  'Caramel (Sukkar banat) (2007)': 4.0,\n",
       "  'Casablanca (1942)': 5.0,\n",
       "  'Changeling (2008)': 4.5,\n",
       "  \"Charlie Wilson's War (2007)\": 3.5,\n",
       "  'Chinatown (1974)': 4.5,\n",
       "  'City of God (Cidade de Deus) (2002)': 5.0,\n",
       "  'Clockwork Orange, A (1971)': 4.0,\n",
       "  'Closer (2004)': 3.0,\n",
       "  'Color Purple, The (1985)': 3.0,\n",
       "  'Das Experiment (Experiment, The) (2001)': 4.0,\n",
       "  'Downfall (Untergang, Der) (2004)': 4.5,\n",
       "  'Elegy (2008)': 4.5,\n",
       "  'Eternal Sunshine of the Spotless Mind (2004)': 5.0,\n",
       "  'Everything You Always Wanted to Know About Sex * But Were Afraid to Ask (1972)': 3.5,\n",
       "  'Factory Girl (2006)': 4.5,\n",
       "  'Fargo (1996)': 4.0,\n",
       "  'First Blood (Rambo: First Blood) (1982)': 1.0,\n",
       "  'First Wives Club, The (1996)': 2.0,\n",
       "  'Flight of the Red Balloon (Voyage du ballon rouge, Le) (2007)': 1.0,\n",
       "  'Forrest Gump (1994)': 4.0,\n",
       "  'Full Monty, The (1997)': 4.0,\n",
       "  'Godfather, The (1972)': 4.0,\n",
       "  'Godfather: Part II, The (1974)': 3.5,\n",
       "  'Godfather: Part III, The (1990)': 2.5,\n",
       "  'Good bye, Lenin! (2003)': 5.0,\n",
       "  'Good, the Bad and the Ugly, The (Buono, il brutto, il cattivo, Il) (1966)': 5.0,\n",
       "  'Graduate, The (1967)': 4.0,\n",
       "  'Hangover, The (2009)': 4.5,\n",
       "  'Happy-Go-Lucky (2008)': 4.0,\n",
       "  'Harry Potter and the Goblet of Fire (2005)': 3.0,\n",
       "  'High Noon (1952)': 4.0,\n",
       "  'Hoax, The (2007)': 3.5,\n",
       "  'Hotel Rwanda (2004)': 4.0,\n",
       "  'I Could Never Be Your Woman (2007)': 2.5,\n",
       "  \"I've Loved You So Long (Il y a longtemps que je t'aime) (2008)\": 4.5,\n",
       "  'Inconvenient Truth, An (2006)': 3.5,\n",
       "  'Julie & Julia (2009)': 3.0,\n",
       "  'Jungle Fever (1991)': 4.0,\n",
       "  'Jurassic Park (1993)': 1.5,\n",
       "  'Keeping Mum (2005)': 4.5,\n",
       "  'Kramer vs. Kramer (1979)': 2.5,\n",
       "  'Last Chance Harvey (2008)': 2.5,\n",
       "  'Legally Blonde (2001)': 2.0,\n",
       "  'Lilya 4-Ever (Lilja 4-ever) (2002)': 5.0,\n",
       "  'Lives of Others, The (Das leben der Anderen) (2006)': 5.0,\n",
       "  'Lord of the Rings: The Fellowship of the Ring, The (2001)': 3.0,\n",
       "  'Lost in Translation (2003)': 3.5,\n",
       "  'Love Actually (2003)': 3.5,\n",
       "  'Love Guru, The (2008)': 2.0,\n",
       "  'Man Who Cried, The (2000)': 2.5,\n",
       "  'Maria Full of Grace (Maria, Llena eres de gracia) (2004)': 4.0,\n",
       "  'Matrix, The (1999)': 3.0,\n",
       "  'Men in Black (a.k.a. MIB) (1997)': 2.5,\n",
       "  'Midnight Cowboy (1969)': 4.0,\n",
       "  'Misfits, The (1961)': 3.5,\n",
       "  'Money Pit, The (1986)': 2.0,\n",
       "  'Music and Lyrics (2007)': 4.0,\n",
       "  'My Big Fat Greek Wedding (2002)': 3.0,\n",
       "  'Nine Months (1995)': 4.0,\n",
       "  'No Country for Old Men (2007)': 4.0,\n",
       "  \"No Man's Land (2001)\": 5.0,\n",
       "  'Odd Couple, The (1968)': 4.0,\n",
       "  'Officer and a Gentleman, An (1982)': 3.0,\n",
       "  \"Once Upon a Time in the West (C'era una volta il West) (1968)\": 4.0,\n",
       "  'Paradise Now (2005)': 5.0,\n",
       "  'Paris, Texas (1984)': 4.5,\n",
       "  'Player, The (1992)': 4.0,\n",
       "  'Portrait of a Lady, The (1996)': 3.0,\n",
       "  'Pulp Fiction (1994)': 4.0,\n",
       "  'Rambo III (1988)': 1.0,\n",
       "  'Rambo: First Blood Part II (1985)': 1.0,\n",
       "  \"Schindler's List (1993)\": 4.0,\n",
       "  'Sea Inside, The (Mar adentro) (2004)': 5.0,\n",
       "  'Secret in Their Eyes, The (El secreto de sus ojos) (2009)': 4.5,\n",
       "  'Sex and Lucia (Lucía y el sexo) (2001)': 4.5,\n",
       "  'Shawshank Redemption, The (1994)': 4.5,\n",
       "  'Show Me Love (Fucking Åmål) (1998)': 4.0,\n",
       "  'Shrek (2001)': 3.0,\n",
       "  'Shrek 2 (2004)': 2.5,\n",
       "  'Shrek Forever After (a.k.a. Shrek: The Final Chapter) (2010)': 3.0,\n",
       "  'Silence of the Lambs, The (1991)': 3.5,\n",
       "  'Sixth Sense, The (1999)': 3.5,\n",
       "  'Sophie Scholl: The Final Days (Sophie Scholl - Die letzten Tage) (2005)': 4.0,\n",
       "  'Spider (2002)': 5.0,\n",
       "  'Star Trek: The Motion Picture (1979)': 2.0,\n",
       "  'Star Wars: Episode IV - A New Hope (1977)': 1.0,\n",
       "  'Strada, La (1954)': 5.0,\n",
       "  'Stranger than Fiction (2006)': 4.0,\n",
       "  'Superman II (1980)': 2.5,\n",
       "  'Talk to Her (Hable con Ella) (2002)': 5.0,\n",
       "  'Terms of Endearment (1983)': 2.0,\n",
       "  'To Be and to Have (Être et avoir) (2002)': 1.0,\n",
       "  'Towelhead (a.k.a. Nothing is Private) (2007)': 5.0,\n",
       "  'Tsotsi (2005)': 4.0,\n",
       "  'Valentin (Valentín) (2002)': 4.0,\n",
       "  'Vicky Cristina Barcelona (2008)': 3.0,\n",
       "  'Visitor, The (2007)': 5.0,\n",
       "  'Volver (2006)': 4.0,\n",
       "  'Wings of Desire (Himmel über Berlin, Der) (1987)': 4.5,\n",
       "  'World According to Garp, The (1982)': 4.0,\n",
       "  'Wyatt Earp (1994)': 3.0,\n",
       "  'You, Me and Dupree (2006)': 2.5},\n",
       " 'Jennifer': {'Birdcage, The (1996)': 5.0,\n",
       "  'Down Periscope (1996)': 3.0,\n",
       "  'Dragonheart (1996)': 4.0,\n",
       "  'Executive Decision (1996)': 4.0,\n",
       "  'Grumpier Old Men (1995)': 3.0,\n",
       "  'Independence Day (a.k.a. ID4) (1996)': 3.0,\n",
       "  'Mighty Aphrodite (1995)': 5.0,\n",
       "  'Mission: Impossible (1996)': 5.0,\n",
       "  \"Mr. Holland's Opus (1995)\": 5.0,\n",
       "  'Multiplicity (1996)': 3.0,\n",
       "  'Nutty Professor, The (1996)': 4.0,\n",
       "  'Phenomenon (1996)': 3.0,\n",
       "  'Primal Fear (1996)': 4.0,\n",
       "  'Rock, The (1996)': 3.0,\n",
       "  'Sabrina (1995)': 5.0,\n",
       "  'Sense and Sensibility (1995)': 5.0,\n",
       "  'Spy Hard (1996)': 3.0,\n",
       "  'Star Wars: Episode IV - A New Hope (1977)': 4.0,\n",
       "  'Striptease (1996)': 3.0,\n",
       "  'Toy Story (1995)': 5.0,\n",
       "  'Truth About Cats & Dogs, The (1996)': 4.0,\n",
       "  'Twister (1996)': 2.0,\n",
       "  'Up Close and Personal (1996)': 4.0,\n",
       "  'Willy Wonka & the Chocolate Factory (1971)': 1.0},\n",
       " 'Jessica': {'1984 (Nineteen Eighty-Four) (1984)': 5.0,\n",
       "  '2001: A Space Odyssey (1968)': 5.0,\n",
       "  '2010: The Year We Make Contact (1984)': 4.0,\n",
       "  '8MM (1999)': 4.0,\n",
       "  'Abyss, The (1989)': 3.0,\n",
       "  'Adventures of Buckaroo Banzai Across the 8th Dimension, The (1984)': 4.0,\n",
       "  'Airplane! (1980)': 5.0,\n",
       "  'Alien (1979)': 5.0,\n",
       "  'Aliens (1986)': 4.0,\n",
       "  'Amadeus (1984)': 3.0,\n",
       "  'American History X (1998)': 4.0,\n",
       "  'American Werewolf in London, An (1981)': 5.0,\n",
       "  'Annie Hall (1977)': 5.0,\n",
       "  'Apocalypse Now (1979)': 5.0,\n",
       "  \"April Fool's Day (1986)\": 3.0,\n",
       "  'Arachnophobia (1990)': 3.0,\n",
       "  'Armageddon (1998)': 4.0,\n",
       "  'Army of Darkness (1993)': 4.0,\n",
       "  'Back to the Future (1985)': 5.0,\n",
       "  'Back to the Future Part II (1989)': 3.0,\n",
       "  'Back to the Future Part III (1990)': 3.0,\n",
       "  'Bambi (1942)': 4.0,\n",
       "  'Battle for the Planet of the Apes (1973)': 3.0,\n",
       "  'Beneath the Planet of the Apes (1970)': 4.0,\n",
       "  'Better Off Dead... (1985)': 5.0,\n",
       "  'Big (1988)': 4.0,\n",
       "  'Big Daddy (1999)': 4.0,\n",
       "  'Birds, The (1963)': 4.0,\n",
       "  'Black Hole, The (1979)': 4.0,\n",
       "  'Blade Runner (1982)': 5.0,\n",
       "  'Blair Witch Project, The (1999)': 5.0,\n",
       "  'Blue Velvet (1986)': 5.0,\n",
       "  'Blues Brothers, The (1980)': 5.0,\n",
       "  'Bonnie and Clyde (1967)': 5.0,\n",
       "  'Brazil (1985)': 4.0,\n",
       "  'Butch Cassidy and the Sundance Kid (1969)': 5.0,\n",
       "  'Carrie (1976)': 4.0,\n",
       "  'Clerks (1994)': 5.0,\n",
       "  'Clockwork Orange, A (1971)': 5.0,\n",
       "  'Cocoon (1985)': 4.0,\n",
       "  'Congo (1995)': 3.0,\n",
       "  'Conquest of the Planet of the Apes (1972)': 4.0,\n",
       "  'Contact (1997)': 4.0,\n",
       "  'Cool Hand Luke (1967)': 5.0,\n",
       "  'Cruel Intentions (1999)': 1.0,\n",
       "  'Crying Game, The (1992)': 4.0,\n",
       "  'Dark Crystal, The (1982)': 4.0,\n",
       "  'Dave (1993)': 3.0,\n",
       "  'Dead Ringers (1988)': 4.0,\n",
       "  'Dead Zone, The (1983)': 5.0,\n",
       "  'Deep Blue Sea (1999)': 4.0,\n",
       "  'Deep Impact (1998)': 4.0,\n",
       "  'Deep Rising (1998)': 4.0,\n",
       "  'Demolition Man (1993)': 3.0,\n",
       "  'Dr. No (1962)': 4.0,\n",
       "  'E.T. the Extra-Terrestrial (1982)': 5.0,\n",
       "  'EDtv (1999)': 3.0,\n",
       "  'Escape from New York (1981)': 5.0,\n",
       "  'Escape from the Planet of the Apes (1971)': 3.0,\n",
       "  'Evil Dead II (Dead by Dawn) (1987)': 5.0,\n",
       "  'Excalibur (1981)': 5.0,\n",
       "  'Faculty, The (1998)': 4.0,\n",
       "  \"Ferris Bueller's Day Off (1986)\": 5.0,\n",
       "  'Fish Called Wanda, A (1988)': 4.0,\n",
       "  'Fletch (1985)': 4.0,\n",
       "  'Flight of the Navigator (1986)': 5.0,\n",
       "  'Fly, The (1986)': 4.0,\n",
       "  'From Russia with Love (1963)': 4.0,\n",
       "  'Fugitive, The (1993)': 5.0,\n",
       "  'Full Metal Jacket (1987)': 5.0,\n",
       "  'Gattaca (1997)': 4.0,\n",
       "  'Glory (1989)': 5.0,\n",
       "  'Godfather, The (1972)': 5.0,\n",
       "  'Godfather: Part II, The (1974)': 5.0,\n",
       "  'Gods Must Be Crazy, The (1980)': 5.0,\n",
       "  'Godzilla (1998)': 4.0,\n",
       "  'Goldfinger (1964)': 4.0,\n",
       "  'Goodfellas (1990)': 5.0,\n",
       "  'Graduate, The (1967)': 5.0,\n",
       "  'Grifters, The (1990)': 3.0,\n",
       "  'Heavy Metal (1981)': 4.0,\n",
       "  'Honey, I Blew Up the Kid (1992)': 3.0,\n",
       "  'Honey, I Shrunk the Kids (1989)': 4.0,\n",
       "  'Independence Day (a.k.a. ID4) (1996)': 3.0,\n",
       "  'Instinct (1999)': 1.0,\n",
       "  'It Happened One Night (1934)': 3.0,\n",
       "  \"It's a Wonderful Life (1946)\": 5.0,\n",
       "  'Judge Dredd (1995)': 2.0,\n",
       "  'Jurassic Park (1993)': 5.0,\n",
       "  'Kids (1995)': 5.0,\n",
       "  'King Kong (1933)': 4.0,\n",
       "  'Lawnmower Man, The (1992)': 3.0,\n",
       "  \"Logan's Run (1976)\": 4.0,\n",
       "  'Lost World: Jurassic Park, The (1997)': 4.0,\n",
       "  'Lost in Space (1998)': 5.0,\n",
       "  'M*A*S*H (a.k.a. MASH) (1970)': 5.0,\n",
       "  'Malice (1993)': 5.0,\n",
       "  'Matrix, The (1999)': 5.0,\n",
       "  'Mimic (1997)': 4.0,\n",
       "  'Monkey Shines (1988)': 3.0,\n",
       "  \"Monty Python's And Now for Something Completely Different (1971)\": 5.0,\n",
       "  'Moonstruck (1987)': 4.0,\n",
       "  'My Science Project (1985)': 4.0,\n",
       "  'Natural, The (1984)': 4.0,\n",
       "  'Night of the Comet (1984)': 4.0,\n",
       "  'Night of the Living Dead (1968)': 3.0,\n",
       "  'Nutty Professor, The (1996)': 4.0,\n",
       "  \"One Flew Over the Cuckoo's Nest (1975)\": 4.0,\n",
       "  'Out-of-Towners, The (1999)': 3.0,\n",
       "  'Patton (1970)': 4.0,\n",
       "  'Phantasm (1979)': 3.0,\n",
       "  'Pi (1998)': 4.0,\n",
       "  'Planet of the Apes (1968)': 5.0,\n",
       "  'Powder (1995)': 3.0,\n",
       "  'Primary Colors (1998)': 3.0,\n",
       "  'Princess Bride, The (1987)': 5.0,\n",
       "  'Psycho (1960)': 4.0,\n",
       "  'Puppet Masters, The (1994)': 2.0,\n",
       "  'Radio Days (1987)': 4.0,\n",
       "  'Raging Bull (1980)': 3.0,\n",
       "  'Raiders of the Lost Ark (Indiana Jones and the Raiders of the Lost Ark) (1981)': 5.0,\n",
       "  'Rear Window (1954)': 5.0,\n",
       "  'Rebel Without a Cause (1955)': 4.0,\n",
       "  'Reservoir Dogs (1992)': 5.0,\n",
       "  'Return of the Pink Panther, The (1975)': 4.0,\n",
       "  'Return to Oz (1985)': 5.0,\n",
       "  'RoboCop (1987)': 5.0,\n",
       "  'RoboCop 2 (1990)': 2.0,\n",
       "  'Rocky Horror Picture Show, The (1975)': 3.0,\n",
       "  'Saving Private Ryan (1998)': 4.0,\n",
       "  'Shawshank Redemption, The (1994)': 5.0,\n",
       "  'Shining, The (1980)': 5.0,\n",
       "  'Silence of the Lambs, The (1991)': 5.0,\n",
       "  'Simon Birch (1998)': 4.0,\n",
       "  'Simple Plan, A (1998)': 5.0,\n",
       "  'Sleeper (1973)': 4.0,\n",
       "  'Sneakers (1992)': 3.0,\n",
       "  'Soylent Green (1973)': 5.0,\n",
       "  'Spaceballs (1987)': 5.0,\n",
       "  'Species (1995)': 3.0,\n",
       "  'Sphere (1998)': 3.0,\n",
       "  'Stand by Me (1986)': 5.0,\n",
       "  'Star Trek II: The Wrath of Khan (1982)': 5.0,\n",
       "  'Star Trek III: The Search for Spock (1984)': 5.0,\n",
       "  'Star Trek IV: The Voyage Home (1986)': 4.0,\n",
       "  'Star Trek V: The Final Frontier (1989)': 4.0,\n",
       "  'Star Trek VI: The Undiscovered Country (1991)': 3.0,\n",
       "  'Star Trek: First Contact (1996)': 5.0,\n",
       "  'Star Trek: Generations (1994)': 5.0,\n",
       "  'Star Wars: Episode I - The Phantom Menace (1999)': 5.0,\n",
       "  'Star Wars: Episode IV - A New Hope (1977)': 5.0,\n",
       "  'Star Wars: Episode V - The Empire Strikes Back (1980)': 5.0,\n",
       "  'Star Wars: Episode VI - Return of the Jedi (1983)': 5.0,\n",
       "  'Stargate (1994)': 5.0,\n",
       "  'Starship Troopers (1997)': 5.0,\n",
       "  'Strictly Ballroom (1992)': 2.0,\n",
       "  'Superman (1978)': 4.0,\n",
       "  'Superman III (1983)': 3.0,\n",
       "  'Superman IV: The Quest for Peace (1987)': 1.0,\n",
       "  'Swamp Thing (1982)': 4.0,\n",
       "  'Swingers (1996)': 5.0,\n",
       "  'Terminator 2: Judgment Day (1991)': 4.0,\n",
       "  'Terminator, The (1984)': 5.0,\n",
       "  'Thing, The (1982)': 5.0,\n",
       "  'This Is Spinal Tap (1984)': 2.0,\n",
       "  'Time Bandits (1981)': 5.0,\n",
       "  'Titanic (1997)': 4.0,\n",
       "  'Total Recall (1990)': 4.0,\n",
       "  'Toy Story (1995)': 4.0,\n",
       "  'Trading Places (1983)': 5.0,\n",
       "  'Tron (1982)': 4.0,\n",
       "  'Twelve Monkeys (a.k.a. 12 Monkeys) (1995)': 4.0,\n",
       "  'U2: Rattle and Hum (1988)': 4.0,\n",
       "  'Unforgiven (1992)': 5.0,\n",
       "  'Universal Soldier (1992)': 4.0,\n",
       "  'Usual Suspects, The (1995)': 5.0,\n",
       "  'Virus (1999)': 5.0,\n",
       "  'Visitors, The (Visiteurs, Les) (1993)': 3.0,\n",
       "  'War of the Worlds, The (1953)': 3.0,\n",
       "  \"What's Eating Gilbert Grape (1993)\": 3.0,\n",
       "  'When Harry Met Sally... (1989)': 4.0,\n",
       "  'Willy Wonka & the Chocolate Factory (1971)': 5.0,\n",
       "  'Witness (1985)': 4.0,\n",
       "  'Wizard of Oz, The (1939)': 4.0,\n",
       "  'X-Files: Fight the Future, The (1998)': 5.0,\n",
       "  'Yellow Submarine (1968)': 3.0,\n",
       "  'Young Frankenstein (1974)': 5.0},\n",
       " 'John': {'Ace Ventura: Pet Detective (1994)': 3.0,\n",
       "  'Ace Ventura: When Nature Calls (1995)': 3.0,\n",
       "  'Addams Family Values (1993)': 3.0,\n",
       "  'Aladdin (1992)': 1.0,\n",
       "  'American President, The (1995)': 4.0,\n",
       "  'Apollo 13 (1995)': 5.0,\n",
       "  'Babe (1995)': 1.0,\n",
       "  'Batman (1989)': 3.0,\n",
       "  'Batman Forever (1995)': 3.0,\n",
       "  'Beauty and the Beast (1991)': 2.0,\n",
       "  'Beverly Hills Cop III (1994)': 4.0,\n",
       "  'Braveheart (1995)': 5.0,\n",
       "  'Broken Arrow (1996)': 4.0,\n",
       "  \"City Slickers II: The Legend of Curly's Gold (1994)\": 3.0,\n",
       "  'Clear and Present Danger (1994)': 3.0,\n",
       "  'Client, The (1994)': 4.0,\n",
       "  'Cliffhanger (1993)': 4.0,\n",
       "  'Clueless (1995)': 3.0,\n",
       "  'Coneheads (1993)': 4.0,\n",
       "  'Congo (1995)': 4.0,\n",
       "  'Crimson Tide (1995)': 5.0,\n",
       "  'Dances with Wolves (1990)': 4.0,\n",
       "  'Demolition Man (1993)': 4.0,\n",
       "  'Die Hard: With a Vengeance (1995)': 3.0,\n",
       "  'Disclosure (1994)': 4.0,\n",
       "  'Dumb & Dumber (Dumb and Dumber) (1994)': 3.0,\n",
       "  'Forrest Gump (1994)': 5.0,\n",
       "  'Four Weddings and a Funeral (1994)': 3.0,\n",
       "  'French Kiss (1995)': 3.0,\n",
       "  'Fugitive, The (1993)': 5.0,\n",
       "  'GoldenEye (1995)': 3.0,\n",
       "  'In the Line of Fire (1993)': 4.0,\n",
       "  'Interview with the Vampire: The Vampire Chronicles (1994)': 5.0,\n",
       "  'Judge Dredd (1995)': 3.0,\n",
       "  'Jumanji (1995)': 3.0,\n",
       "  'Jurassic Park (1993)': 3.0,\n",
       "  'Legends of the Fall (1994)': 5.0,\n",
       "  'Lion King, The (1994)': 3.0,\n",
       "  'Mask, The (1994)': 4.0,\n",
       "  'Mrs. Doubtfire (1993)': 5.0,\n",
       "  'Nell (1994)': 3.0,\n",
       "  'Net, The (1995)': 4.0,\n",
       "  'Outbreak (1995)': 5.0,\n",
       "  'Philadelphia (1993)': 5.0,\n",
       "  'Piano, The (1993)': 4.0,\n",
       "  'Pretty Woman (1990)': 5.0,\n",
       "  'Pulp Fiction (1994)': 5.0,\n",
       "  'Quiz Show (1994)': 2.0,\n",
       "  'Santa Clause, The (1994)': 3.0,\n",
       "  \"Schindler's List (1993)\": 5.0,\n",
       "  'Seven (a.k.a. Se7en) (1995)': 5.0,\n",
       "  'Shawshank Redemption, The (1994)': 5.0,\n",
       "  'Sleepless in Seattle (1993)': 3.0,\n",
       "  'Specialist, The (1994)': 4.0,\n",
       "  'Speed (1994)': 4.0,\n",
       "  'Stargate (1994)': 3.0,\n",
       "  'Terminator 2: Judgment Day (1991)': 4.0,\n",
       "  'Tombstone (1993)': 5.0,\n",
       "  'Toy Story (1995)': 4.0,\n",
       "  'True Lies (1994)': 2.0,\n",
       "  'Twelve Monkeys (a.k.a. 12 Monkeys) (1995)': 5.0,\n",
       "  'While You Were Sleeping (1995)': 3.0},\n",
       " 'Joseph': {'2001: A Space Odyssey (1968)': 3.5,\n",
       "  'Ace Ventura: Pet Detective (1994)': 2.0,\n",
       "  'Airplane! (1980)': 2.5,\n",
       "  'Akeelah and the Bee (2006)': 5.0,\n",
       "  'Aladdin (1992)': 4.0,\n",
       "  'Amazing Grace (2006)': 5.0,\n",
       "  'Antz (1998)': 3.5,\n",
       "  'Apollo 13 (1995)': 5.0,\n",
       "  'Arsenic and Old Lace (1944)': 4.5,\n",
       "  'Atlantis: The Lost Empire (2001)': 3.5,\n",
       "  'Auntie Mame (1958)': 3.5,\n",
       "  'Babe (1995)': 3.0,\n",
       "  'Bachelor and the Bobby-Soxer, The (1947)': 4.0,\n",
       "  'Back to the Future (1985)': 4.0,\n",
       "  'Back to the Future Part III (1990)': 4.0,\n",
       "  'Bambi (1942)': 3.0,\n",
       "  'Beautiful Mind, A (2001)': 5.0,\n",
       "  'Beauty and the Beast (1991)': 4.5,\n",
       "  'Beetlejuice (1988)': 3.0,\n",
       "  'Benny & Joon (1993)': 2.5,\n",
       "  'Bicentennial Man (1999)': 3.0,\n",
       "  'Big (1988)': 3.5,\n",
       "  \"Breakfast at Tiffany's (1961)\": 3.0,\n",
       "  'Bringing Up Baby (1938)': 4.5,\n",
       "  'Brothers Grimm, The (2005)': 1.5,\n",
       "  \"Bug's Life, A (1998)\": 3.5,\n",
       "  'Cars (2006)': 4.5,\n",
       "  'Cast Away (2000)': 4.5,\n",
       "  'Charade (1963)': 4.0,\n",
       "  'Chariots of Fire (1981)': 4.5,\n",
       "  'Charlie Brown Christmas, A (1965)': 4.0,\n",
       "  'Cheaper by the Dozen (1950)': 4.0,\n",
       "  'Cheaper by the Dozen (2003)': 4.0,\n",
       "  'Chicken Little (2005)': 4.0,\n",
       "  'Chicken Run (2000)': 4.5,\n",
       "  'Christmas Story, A (1983)': 3.5,\n",
       "  'Chronicles of Narnia: The Lion, the Witch and the Wardrobe, The (2005)': 4.5,\n",
       "  'Cinderella (1950)': 4.0,\n",
       "  'Claymation Christmas Celebration, A (1987)': 4.0,\n",
       "  'Close Encounters of the Third Kind (1977)': 4.0,\n",
       "  'Cold Comfort Farm (1995)': 4.5,\n",
       "  'Cool Runnings (1993)': 3.0,\n",
       "  'Court Jester, The (1956)': 4.0,\n",
       "  'Crocodile Dundee (1986)': 3.0,\n",
       "  'Dan in Real Life (2007)': 3.0,\n",
       "  'Dave (1993)': 4.5,\n",
       "  'Dead Poets Society (1989)': 4.5,\n",
       "  'Dirty Rotten Scoundrels (1988)': 3.5,\n",
       "  'Driving Miss Daisy (1989)': 2.5,\n",
       "  'E.T. the Extra-Terrestrial (1982)': 3.5,\n",
       "  'Elf (2003)': 3.5,\n",
       "  'Emma (1996)': 4.0,\n",
       "  'Enchanted April (1992)': 3.5,\n",
       "  'Englishman Who Went Up a Hill But Came Down a Mountain, The (1995)': 3.5,\n",
       "  'Ever After: A Cinderella Story (1998)': 4.5,\n",
       "  'Fantasia (1940)': 3.5,\n",
       "  'Fantastic Four: Rise of the Silver Surfer (2007)': 2.5,\n",
       "  \"Ferris Bueller's Day Off (1986)\": 3.0,\n",
       "  'Field of Dreams (1989)': 3.0,\n",
       "  'Finding Nemo (2003)': 4.5,\n",
       "  'Finding Neverland (2004)': 4.0,\n",
       "  'Flight of the Navigator (1986)': 3.0,\n",
       "  'Flushed Away (2006)': 4.0,\n",
       "  'Forever Young (1992)': 2.5,\n",
       "  'Forrest Gump (1994)': 4.0,\n",
       "  'Freshman, The (1925)': 4.0,\n",
       "  'Fried Green Tomatoes (1991)': 4.0,\n",
       "  'Fugitive, The (1993)': 3.5,\n",
       "  'Galaxy Quest (1999)': 4.5,\n",
       "  'Gallipoli (1981)': 3.5,\n",
       "  'Ghost (1990)': 2.5,\n",
       "  'Ghostbusters (a.k.a. Ghost Busters) (1984)': 3.5,\n",
       "  'Gods Must Be Crazy, The (1980)': 4.5,\n",
       "  'Great Escape, The (1963)': 4.5,\n",
       "  'Great Muppet Caper, The (1981)': 4.0,\n",
       "  'Greatest Game Ever Played, The (2005)': 4.0,\n",
       "  'Groundhog Day (1993)': 4.5,\n",
       "  'Hamlet (1990)': 4.0,\n",
       "  'Happiest Millionaire, The (1967)': 3.0,\n",
       "  \"Harry Potter and the Sorcerer's Stone (a.k.a. Harry Potter and the Philosopher's Stone) (2001)\": 4.0,\n",
       "  'Harvey (1950)': 4.5,\n",
       "  'High School Musical (2006)': 3.5,\n",
       "  'His Girl Friday (1940)': 3.5,\n",
       "  'Holes (2003)': 5.0,\n",
       "  'Home Alone (1990)': 2.5,\n",
       "  'Honey, I Shrunk the Kids (1989)': 2.5,\n",
       "  'Hoosiers (a.k.a. Best Shot) (1986)': 4.0,\n",
       "  \"Howl's Moving Castle (Hauru no ugoku shiro) (2004)\": 4.0,\n",
       "  'Hudsucker Proxy, The (1994)': 5.0,\n",
       "  'Hunchback of Notre Dame, The (1996)': 3.0,\n",
       "  'Hunt for Red October, The (1990)': 4.5,\n",
       "  'I Now Pronounce You Chuck and Larry (2007)': 1.0,\n",
       "  'I.Q. (1994)': 4.0,\n",
       "  'Ice Age (2002)': 4.0,\n",
       "  'Ice Age 2: The Meltdown (2006)': 4.0,\n",
       "  'Importance of Being Earnest, The (2002)': 4.5,\n",
       "  'Incredibles, The (2004)': 4.0,\n",
       "  'Independence Day (a.k.a. ID4) (1996)': 3.0,\n",
       "  'Indiana Jones and the Last Crusade (1989)': 4.0,\n",
       "  'Indiana Jones and the Temple of Doom (1984)': 3.5,\n",
       "  'Into the Woods (1991)': 4.0,\n",
       "  'Iron Giant, The (1999)': 4.0,\n",
       "  \"It's a Wonderful Life (1946)\": 3.5,\n",
       "  \"It's the Great Pumpkin, Charlie Brown (1966)\": 4.0,\n",
       "  'Jewel of the Nile, The (1985)': 3.0,\n",
       "  'Joe Versus the Volcano (1990)': 4.0,\n",
       "  'Johnny English (2003)': 4.0,\n",
       "  'Jonah: A VeggieTales Movie (2002)': 4.5,\n",
       "  'Jungle Book, The (1967)': 4.0,\n",
       "  'Jurassic Park (1993)': 4.0,\n",
       "  'Just Like Heaven (2005)': 4.5,\n",
       "  'Karate Kid, The (1984)': 3.0,\n",
       "  'King and I, The (1999)': 1.0,\n",
       "  'Kiss Me Kate (1953)': 3.5,\n",
       "  'Ladykillers, The (1955)': 3.0,\n",
       "  'Lagaan: Once Upon a Time in India (2001)': 4.5,\n",
       "  'Lake House, The (2006)': 3.5,\n",
       "  'Last Starfighter, The (1984)': 3.5,\n",
       "  'Lawrence of Arabia (1962)': 4.5,\n",
       "  \"Lemony Snicket's A Series of Unfortunate Events (2004)\": 4.5,\n",
       "  'Life Is Beautiful (La Vita è bella) (1997)': 4.5,\n",
       "  'Lion King, The (1994)': 4.5,\n",
       "  'Little Mermaid, The (1989)': 3.0,\n",
       "  'Little Women (1933)': 4.5,\n",
       "  'Love Bug, The (1969)': 3.5,\n",
       "  'Man Who Knew Too Little, The (1997)': 5.0,\n",
       "  'Man from Snowy River, The (1982)': 4.0,\n",
       "  'Man with One Red Shoe, The (1985)': 3.0,\n",
       "  'Mary Poppins (1964)': 3.0,\n",
       "  'Matrix, The (1999)': 3.0,\n",
       "  'Maverick (1994)': 4.5,\n",
       "  'Meet the Robinsons (2007)': 5.0,\n",
       "  'Men in Black (a.k.a. MIB) (1997)': 3.5,\n",
       "  'Metropolis (1927)': 3.5,\n",
       "  'Miracle (2004)': 4.5,\n",
       "  'Miracle on 34th Street (1994)': 4.0,\n",
       "  'Miss Potter (2006)': 4.5,\n",
       "  'Monsters, Inc. (2001)': 4.5,\n",
       "  'Monty Python and the Holy Grail (1975)': 4.0,\n",
       "  \"Mr. Holland's Opus (1995)\": 4.0,\n",
       "  'Mr. Smith Goes to Washington (1939)': 4.5,\n",
       "  'Mrs. Doubtfire (1993)': 2.0,\n",
       "  'Much Ado About Nothing (1993)': 4.5,\n",
       "  'Muppet Christmas Carol, The (1992)': 4.0,\n",
       "  'Muppet Movie, The (1979)': 4.0,\n",
       "  'Music Man, The (1962)': 4.0,\n",
       "  'My Big Fat Greek Wedding (2002)': 4.5,\n",
       "  'My Name Is Nobody (Il Mio nome è Nessuno) (1973)': 4.0,\n",
       "  'Napoleon Dynamite (2004)': 3.5,\n",
       "  'Never Cry Wolf (1983)': 3.0,\n",
       "  'NeverEnding Story, The (1984)': 3.5,\n",
       "  'Nightmare Before Christmas, The (1993)': 2.0,\n",
       "  'O Brother, Where Art Thou? (2000)': 3.5,\n",
       "  \"Ocean's Twelve (2004)\": 3.5,\n",
       "  'October Sky (1999)': 4.5,\n",
       "  'Oscar (1991)': 5.0,\n",
       "  'Over the Hedge (2006)': 5.0,\n",
       "  'Parent Trap, The (1961)': 3.5,\n",
       "  'Parent Trap, The (1998)': 4.5,\n",
       "  'Peter Pan (1953)': 3.5,\n",
       "  'Phenomenon (1996)': 3.0,\n",
       "  'Philadelphia Story, The (1940)': 4.5,\n",
       "  'Pink Panther, The (1963)': 3.5,\n",
       "  'Polar Express, The (2004)': 4.5,\n",
       "  'Pride & Prejudice (2005)': 4.5,\n",
       "  'Prince of Egypt, The (1998)': 5.0,\n",
       "  'Princess Bride, The (1987)': 4.5,\n",
       "  'Raging Bull (1980)': 1.0,\n",
       "  'Raiders of the Lost Ark (Indiana Jones and the Raiders of the Lost Ark) (1981)': 3.0,\n",
       "  'Ratatouille (2007)': 4.5,\n",
       "  'Remember the Titans (2000)': 4.0,\n",
       "  'Return to Me (2000)': 4.5,\n",
       "  'Robin Hood: Men in Tights (1993)': 2.0,\n",
       "  'Rocketeer, The (1991)': 4.0,\n",
       "  'Rocky (1976)': 2.5,\n",
       "  'Romancing the Stone (1984)': 3.0,\n",
       "  'Rookie, The (2002)': 4.0,\n",
       "  'Rosencrantz and Guildenstern Are Dead (1990)': 5.0,\n",
       "  'Runaway Bride (1999)': 4.5,\n",
       "  'Sabrina (1995)': 3.5,\n",
       "  'School of Rock (2003)': 1.0,\n",
       "  'Searching for Bobby Fischer (1993)': 5.0,\n",
       "  'Secondhand Lions (2003)': 5.0,\n",
       "  'Secret of Roan Inish, The (1994)': 4.0,\n",
       "  'Sense and Sensibility (1995)': 5.0,\n",
       "  'Shadowlands (1993)': 4.0,\n",
       "  'Shop Around the Corner, The (1940)': 4.0,\n",
       "  'Shrek (2001)': 3.5,\n",
       "  'Shrek 2 (2004)': 4.5,\n",
       "  \"Singin' in the Rain (1952)\": 3.5,\n",
       "  'Sleepless in Seattle (1993)': 1.5,\n",
       "  'Sneakers (1992)': 5.0,\n",
       "  'Snow White and the Seven Dwarfs (1937)': 3.5,\n",
       "  'Some Like It Hot (1959)': 2.0,\n",
       "  'Soylent Green (1973)': 1.0,\n",
       "  'Spaceballs (1987)': 3.0,\n",
       "  'Spider-Man (2002)': 2.5,\n",
       "  'Splash (1984)': 3.0,\n",
       "  'Star Wars: Episode I - The Phantom Menace (1999)': 2.5,\n",
       "  'Star Wars: Episode IV - A New Hope (1977)': 4.0,\n",
       "  'Star Wars: Episode V - The Empire Strikes Back (1980)': 4.0,\n",
       "  'Star Wars: Episode VI - Return of the Jedi (1983)': 4.0,\n",
       "  'Stargate (1994)': 3.0,\n",
       "  'Straight Story, The (1999)': 3.5,\n",
       "  'Stranger than Fiction (2006)': 4.5,\n",
       "  'Support Your Local Sheriff! (1969)': 4.0,\n",
       "  'Sweet Home Alabama (2002)': 4.0,\n",
       "  'Tarzan (1999)': 4.5,\n",
       "  'Terminal, The (2004)': 3.5,\n",
       "  'That Thing You Do! (1996)': 3.5,\n",
       "  'The Importance of Being Earnest (1952)': 4.0,\n",
       "  'Three Men and a Little Lady (1990)': 2.5,\n",
       "  'Three Musketeers, The (1993)': 3.5,\n",
       "  'Titanic (1997)': 2.0,\n",
       "  'To Kill a Mockingbird (1962)': 5.0,\n",
       "  'Top Gun (1986)': 3.0,\n",
       "  'Toy Story (1995)': 4.5,\n",
       "  'Toy Story 2 (1999)': 4.5,\n",
       "  'Tron (1982)': 3.5,\n",
       "  'Truman Show, The (1998)': 4.5,\n",
       "  'Tuck Everlasting (2002)': 4.0,\n",
       "  'Two Weeks Notice (2002)': 4.5,\n",
       "  'WALL·E (2008)': 5.0,\n",
       "  'Wait Until Dark (1967)': 3.0,\n",
       "  'Walk to Remember, A (2002)': 4.0,\n",
       "  'Wallace & Gromit in The Curse of the Were-Rabbit (2005)': 3.5,\n",
       "  'Wallace & Gromit: A Close Shave (1995)': 4.0,\n",
       "  'Wallace & Gromit: The Wrong Trousers (1993)': 5.0,\n",
       "  'WarGames (1983)': 3.5,\n",
       "  'Water Horse: Legend of the Deep, The (2007)': 3.5,\n",
       "  'West Side Story (1961)': 4.0,\n",
       "  'What About Bob? (1991)': 4.0,\n",
       "  \"What's Up, Doc? (1972)\": 4.0,\n",
       "  'While You Were Sleeping (1995)': 4.5,\n",
       "  'White Christmas (1954)': 4.0,\n",
       "  'Who Framed Roger Rabbit? (1988)': 3.0,\n",
       "  \"Widows' Peak (1994)\": 4.5,\n",
       "  'Willow (1988)': 3.5,\n",
       "  'Willy Wonka & the Chocolate Factory (1971)': 3.0,\n",
       "  'Winnie the Pooh and the Blustery Day (1968)': 4.5,\n",
       "  'Women, The (1939)': 3.5,\n",
       "  \"You've Got Mail (1998)\": 3.0,\n",
       "  'Young Sherlock Holmes (1985)': 4.0},\n",
       " 'Joshua': {'2001: A Space Odyssey (1968)': 3.0,\n",
       "  '2010: The Year We Make Contact (1984)': 3.0,\n",
       "  'A.I. Artificial Intelligence (2001)': 2.0,\n",
       "  'Accidental Tourist, The (1988)': 2.0,\n",
       "  'Adventures of Rocky and Bullwinkle, The (2000)': 2.0,\n",
       "  'Affair to Remember, An (1957)': 3.0,\n",
       "  'Ali (2001)': 3.0,\n",
       "  'Alien Nation (1988)': 3.0,\n",
       "  \"America's Sweethearts (2001)\": 2.0,\n",
       "  'American Beauty (1999)': 3.0,\n",
       "  'American Buffalo (1996)': 1.0,\n",
       "  'American Graffiti (1973)': 4.0,\n",
       "  'American President, The (1995)': 4.0,\n",
       "  \"Angela's Ashes (1999)\": 5.0,\n",
       "  'Annie Hall (1977)': 3.0,\n",
       "  'Armageddon (1998)': 4.0,\n",
       "  'Around the World in 80 Days (1956)': 3.0,\n",
       "  'Arthur (1981)': 4.0,\n",
       "  'Austin Powers: International Man of Mystery (1997)': 3.0,\n",
       "  'Austin Powers: The Spy Who Shagged Me (1999)': 3.0,\n",
       "  'Autumn in New York (2000)': 2.0,\n",
       "  'Babe: Pig in the City (1998)': 3.0,\n",
       "  'Bachelor, The (1999)': 2.0,\n",
       "  'Back to the Future (1985)': 4.0,\n",
       "  'Back to the Future Part II (1989)': 4.0,\n",
       "  'Back to the Future Part III (1990)': 4.0,\n",
       "  'Bambi (1942)': 4.0,\n",
       "  'Barbarella (1968)': 2.0,\n",
       "  'Battlefield Earth (2000)': 2.0,\n",
       "  'Beautiful Mind, A (2001)': 3.0,\n",
       "  'Benny & Joon (1993)': 3.0,\n",
       "  'Best in Show (2000)': 4.0,\n",
       "  'Bicentennial Man (1999)': 3.0,\n",
       "  'Big Daddy (1999)': 3.0,\n",
       "  'Blazing Saddles (1974)': 4.0,\n",
       "  'Blue Lagoon, The (1980)': 3.0,\n",
       "  'Blue Sky (1994)': 3.0,\n",
       "  'Boomerang (1992)': 2.0,\n",
       "  'Born Yesterday (1950)': 4.0,\n",
       "  'Bounce (2000)': 4.0,\n",
       "  'Bowfinger (1999)': 2.0,\n",
       "  \"Boys Don't Cry (1999)\": 4.0,\n",
       "  'Bridges of Madison County, The (1995)': 2.0,\n",
       "  'Broadcast News (1987)': 3.0,\n",
       "  'Bullets Over Broadway (1994)': 4.0,\n",
       "  \"Butcher's Wife, The (1991)\": 2.0,\n",
       "  'Cape Fear (1991)': 3.0,\n",
       "  'Casablanca (1942)': 5.0,\n",
       "  'Casino (1995)': 3.0,\n",
       "  'Catch-22 (1970)': 3.0,\n",
       "  \"Charlie's Angels (2000)\": 4.0,\n",
       "  'Clockwork Orange, A (1971)': 2.0,\n",
       "  'Cocoon (1985)': 4.0,\n",
       "  'Conspiracy Theory (1997)': 3.0,\n",
       "  'Cool Runnings (1993)': 3.0,\n",
       "  'Corrina, Corrina (1994)': 3.0,\n",
       "  'Crimson Pirate, The (1952)': 5.0,\n",
       "  'Crying Game, The (1992)': 3.0,\n",
       "  'Cutthroat Island (1995)': 2.0,\n",
       "  'Dances with Wolves (1990)': 4.0,\n",
       "  'Dave (1993)': 4.0,\n",
       "  'Day the Earth Stood Still, The (1951)': 4.0,\n",
       "  'Deep Blue Sea (1999)': 3.0,\n",
       "  'Deep End of the Ocean, The (1999)': 3.0,\n",
       "  'Dirty Work (1998)': 2.0,\n",
       "  'Doctor Zhivago (1965)': 3.0,\n",
       "  'Donnie Brasco (1997)': 3.0,\n",
       "  'Double Jeopardy (1999)': 4.0,\n",
       "  'Dr. Dolittle (1998)': 4.0,\n",
       "  'Dr. Dolittle 2 (2001)': 3.0,\n",
       "  'Dr. Strangelove or: How I Learned to Stop Worrying and Love the Bomb (1964)': 5.0,\n",
       "  'Duck Soup (1933)': 5.0,\n",
       "  'E.T. the Extra-Terrestrial (1982)': 4.0,\n",
       "  'Earthquake (1974)': 3.0,\n",
       "  'English Patient, The (1996)': 3.0,\n",
       "  'Erin Brockovich (2000)': 4.0,\n",
       "  'Ever After: A Cinderella Story (1998)': 3.0,\n",
       "  \"Everybody's All-American (1988)\": 3.0,\n",
       "  'Fabulous Baker Boys, The (1989)': 3.0,\n",
       "  'Face/Off (1997)': 3.0,\n",
       "  'Family Man, The (2000)': 3.0,\n",
       "  'Fight Club (1999)': 4.0,\n",
       "  'Finding Forrester (2000)': 4.0,\n",
       "  'First Blood (Rambo: First Blood) (1982)': 4.0,\n",
       "  'Fisher King, The (1991)': 3.0,\n",
       "  'Flashdance (1983)': 5.0,\n",
       "  'Flintstones, The (1994)': 3.0,\n",
       "  'For Love of the Game (1999)': 3.0,\n",
       "  'Forbidden Planet (1956)': 3.0,\n",
       "  'Forces of Nature (1999)': 3.0,\n",
       "  'Forrest Gump (1994)': 4.0,\n",
       "  'Fortune Cookie, The (1966)': 4.0,\n",
       "  'Four Weddings and a Funeral (1994)': 3.0,\n",
       "  'Frequency (2000)': 4.0,\n",
       "  'Fried Green Tomatoes (1991)': 4.0,\n",
       "  'Galaxy Quest (1999)': 2.0,\n",
       "  'Ghost (1990)': 5.0,\n",
       "  'Ghostbusters (a.k.a. Ghost Busters) (1984)': 4.0,\n",
       "  'Gladiator (2000)': 5.0,\n",
       "  'Glengarry Glen Ross (1992)': 1.0,\n",
       "  'Gods and Monsters (1998)': 3.0,\n",
       "  'Godzilla (1998)': 3.0,\n",
       "  'Godzilla (Gojira) (1954)': 3.0,\n",
       "  'Godzilla 2000 (Gojira ni-sen mireniamu) (1999)': 3.0,\n",
       "  'Gone in 60 Seconds (2000)': 2.0,\n",
       "  'Gone with the Wind (1939)': 4.0,\n",
       "  'Good Morning, Vietnam (1987)': 4.0,\n",
       "  'Goodbye Girl, The (1977)': 3.0,\n",
       "  'Graduate, The (1967)': 4.0,\n",
       "  'Grand Canyon (1991)': 3.0,\n",
       "  'Great Ziegfeld, The (1936)': 3.0,\n",
       "  'Groundhog Day (1993)': 4.0,\n",
       "  'Grumpier Old Men (1995)': 3.0,\n",
       "  \"Harry Potter and the Sorcerer's Stone (a.k.a. Harry Potter and the Philosopher's Stone) (2001)\": 3.0,\n",
       "  'Her Alibi (1989)': 2.0,\n",
       "  'Hollow Man (2000)': 4.0,\n",
       "  'Home Fries (1998)': 2.0,\n",
       "  'Honey, I Shrunk the Kids (1989)': 3.0,\n",
       "  'Hope Floats (1998)': 3.0,\n",
       "  'How the Grinch Stole Christmas (a.k.a. The Grinch) (2000)': 4.0,\n",
       "  'I.Q. (1994)': 2.0,\n",
       "  'Independence Day (a.k.a. ID4) (1996)': 4.0,\n",
       "  'Inherit the Wind (1960)': 4.0,\n",
       "  'Invasion of the Body Snatchers (1956)': 4.0,\n",
       "  'Invisible Man, The (1933)': 4.0,\n",
       "  'Island of Dr. Moreau, The (1996)': 3.0,\n",
       "  \"It's a Mad, Mad, Mad, Mad World (1963)\": 5.0,\n",
       "  'Jeremiah Johnson (1972)': 3.0,\n",
       "  'Jerry Maguire (1996)': 3.0,\n",
       "  'Jewel of the Nile, The (1985)': 4.0,\n",
       "  \"Jumpin' Jack Flash (1986)\": 2.0,\n",
       "  'Jungle Book, The (1994)': 3.0,\n",
       "  'Jurassic Park (1993)': 5.0,\n",
       "  'Jurassic Park III (2001)': 4.0,\n",
       "  'K-PAX (2001)': 4.0,\n",
       "  'Key Largo (1948)': 3.0,\n",
       "  'King Kong (1976)': 3.0,\n",
       "  'Klute (1971)': 3.0,\n",
       "  'L.A. Confidential (1997)': 3.0,\n",
       "  'L.A. Story (1991)': 3.0,\n",
       "  'Lady and the Tramp (1955)': 4.0,\n",
       "  'Ladyhawke (1985)': 5.0,\n",
       "  'Last of the Mohicans, The (1992)': 3.0,\n",
       "  'Legend of Bagger Vance, The (2000)': 3.0,\n",
       "  'Lion King, The (1994)': 4.0,\n",
       "  'Little Big Man (1970)': 4.0,\n",
       "  'Little Mermaid, The (1989)': 3.0,\n",
       "  'Little Voice (1998)': 4.0,\n",
       "  'Longest Day, The (1962)': 3.0,\n",
       "  'Lord of the Rings: The Fellowship of the Ring, The (2001)': 4.0,\n",
       "  'Losing Isaiah (1995)': 3.0,\n",
       "  'Lost World: Jurassic Park, The (1997)': 4.0,\n",
       "  'Love Potion #9 (1992)': 3.0,\n",
       "  'Majestic, The (2001)': 4.0,\n",
       "  'March of the Wooden Soldiers (a.k.a. Babes in Toyland) (1934)': 4.0,\n",
       "  'Mars Attacks! (1996)': 2.0,\n",
       "  'Men in Black (a.k.a. MIB) (1997)': 3.0,\n",
       "  'Michael (1996)': 2.0,\n",
       "  'Milk Money (1994)': 2.0,\n",
       "  'Miracle Mile (1989)': 4.0,\n",
       "  'Mission to Mars (2000)': 3.0,\n",
       "  'Mosquito Coast, The (1986)': 2.0,\n",
       "  'Moulin Rouge (2001)': 4.0,\n",
       "  'Mulholland Drive (2001)': 1.0,\n",
       "  'Mummy Returns, The (2001)': 3.0,\n",
       "  'Mummy, The (1932)': 3.0,\n",
       "  \"Murphy's Romance (1985)\": 3.0,\n",
       "  'My Fair Lady (1964)': 3.0,\n",
       "  'My Favorite Martian (1999)': 2.0,\n",
       "  'Mystery Men (1999)': 3.0,\n",
       "  'Mystic Pizza (1988)': 3.0,\n",
       "  'North by Northwest (1959)': 4.0,\n",
       "  'Notting Hill (1999)': 4.0,\n",
       "  'Nutty Professor, The (1996)': 3.0,\n",
       "  \"Ocean's Eleven (2001)\": 5.0,\n",
       "  'Officer and a Gentleman, An (1982)': 4.0,\n",
       "  'Omega Man, The (1971)': 2.0,\n",
       "  'Outrageous Fortune (1987)': 4.0,\n",
       "  'Pacific Heights (1990)': 2.0,\n",
       "  'Pal Joey (1957)': 2.0,\n",
       "  'Parenthood (1989)': 3.0,\n",
       "  'Patriot, The (2000)': 4.0,\n",
       "  'Patton (1970)': 4.0,\n",
       "  'Pearl Harbor (2001)': 3.0,\n",
       "  'Peggy Sue Got Married (1986)': 3.0,\n",
       "  'Piano, The (1993)': 2.0,\n",
       "  'Planet of the Apes (1968)': 4.0,\n",
       "  'Planet of the Apes (2001)': 4.0,\n",
       "  'Poseidon Adventure, The (1972)': 3.0,\n",
       "  'Powder (1995)': 3.0,\n",
       "  'Practical Magic (1998)': 3.0,\n",
       "  'Predator (1987)': 3.0,\n",
       "  'Pretty Woman (1990)': 4.0,\n",
       "  'Prince of Tides, The (1991)': 2.0,\n",
       "  'Princess Diaries, The (2001)': 3.0,\n",
       "  'Pushing Tin (1999)': 3.0,\n",
       "  'Rebecca (1940)': 3.0,\n",
       "  'Return to Me (2000)': 4.0,\n",
       "  'Riding in Cars with Boys (2001)': 4.0,\n",
       "  'Rob Roy (1995)': 3.0,\n",
       "  'Rocky Horror Picture Show, The (1975)': 2.0,\n",
       "  \"Romy and Michele's High School Reunion (1997)\": 2.0,\n",
       "  'Ruthless People (1986)': 4.0,\n",
       "  'Sabrina (1995)': 3.0,\n",
       "  'Saving Private Ryan (1998)': 5.0,\n",
       "  'Sea of Love (1989)': 2.0,\n",
       "  'Sense and Sensibility (1995)': 2.0,\n",
       "  'Shakespeare in Love (1998)': 3.0,\n",
       "  'Shine (1996)': 4.0,\n",
       "  'Short Circuit (1986)': 4.0,\n",
       "  'Shrek (2001)': 5.0,\n",
       "  \"Singin' in the Rain (1952)\": 4.0,\n",
       "  'Six Days Seven Nights (1998)': 3.0,\n",
       "  'Sixth Sense, The (1999)': 5.0,\n",
       "  'Sleeper (1973)': 5.0,\n",
       "  'Sleepless in Seattle (1993)': 4.0,\n",
       "  'Sleepy Hollow (1999)': 2.0,\n",
       "  'Snow Falling on Cedars (1999)': 3.0,\n",
       "  'Space Cowboys (2000)': 3.0,\n",
       "  'Spaceballs (1987)': 2.0,\n",
       "  'Speed (1994)': 3.0,\n",
       "  \"St. Elmo's Fire (1985)\": 3.0,\n",
       "  'Stand by Me (1986)': 3.0,\n",
       "  'Stanley & Iris (1990)': 2.0,\n",
       "  'Star Wars: Episode I - The Phantom Menace (1999)': 4.0,\n",
       "  'Star Wars: Episode IV - A New Hope (1977)': 5.0,\n",
       "  'Star Wars: Episode V - The Empire Strikes Back (1980)': 5.0,\n",
       "  'Star Wars: Episode VI - Return of the Jedi (1983)': 5.0,\n",
       "  'Stargate (1994)': 3.0,\n",
       "  'Starman (1984)': 4.0,\n",
       "  'Steel Magnolias (1989)': 3.0,\n",
       "  'Stepford Wives, The (1975)': 3.0,\n",
       "  'Summer Catch (2001)': 3.0,\n",
       "  'Sunset Blvd. (a.k.a. Sunset Boulevard) (1950)': 3.0,\n",
       "  'Superman (1978)': 4.0,\n",
       "  'Superman II (1980)': 4.0,\n",
       "  'Superman III (1983)': 3.0,\n",
       "  'Sweet November (2001)': 3.0,\n",
       "  'Swiss Family Robinson (1960)': 4.0,\n",
       "  'Talented Mr. Ripley, The (1999)': 2.0,\n",
       "  'Terminator 2: Judgment Day (1991)': 5.0,\n",
       "  'Thin Red Line, The (1998)': 3.0,\n",
       "  'Thunderball (1965)': 4.0,\n",
       "  'Time Bandits (1981)': 2.0,\n",
       "  'Time Machine, The (1960)': 4.0,\n",
       "  'Tin Cup (1996)': 3.0,\n",
       "  'Titanic (1997)': 5.0,\n",
       "  'Tombstone (1993)': 4.0,\n",
       "  'Tootsie (1982)': 3.0,\n",
       "  'Top Gun (1986)': 3.0,\n",
       "  'Total Recall (1990)': 3.0,\n",
       "  'Trading Places (1983)': 3.0,\n",
       "  'Truman Show, The (1998)': 2.0,\n",
       "  'Truth About Cats & Dogs, The (1996)': 3.0,\n",
       "  'Tumbleweeds (1999)': 3.0,\n",
       "  'Twister (1996)': 3.0,\n",
       "  'Unbreakable (2000)': 3.0,\n",
       "  'Under Siege (1992)': 4.0,\n",
       "  \"Von Ryan's Express (1965)\": 4.0,\n",
       "  'Voyage to the Bottom of the Sea (1961)': 3.0,\n",
       "  'Waiting for Guffman (1996)': 4.0,\n",
       "  'Way We Were, The (1973)': 4.0,\n",
       "  'Wedding Singer, The (1998)': 4.0,\n",
       "  'What Dreams May Come (1998)': 3.0,\n",
       "  'What Lies Beneath (2000)': 2.0,\n",
       "  'What Women Want (2000)': 3.0,\n",
       "  'When Harry Met Sally... (1989)': 3.0,\n",
       "  'Where the Buffalo Roam (1980)': 3.0,\n",
       "  'While You Were Sleeping (1995)': 3.0,\n",
       "  'Who Framed Roger Rabbit? (1988)': 4.0,\n",
       "  'Wild Wild West (1999)': 3.0,\n",
       "  'Witness (1985)': 4.0,\n",
       "  'Wolf Man, The (1941)': 4.0,\n",
       "  'X-Men (2000)': 4.0,\n",
       "  \"You've Got Mail (1998)\": 3.0,\n",
       "  '¡Three Amigos! (1986)': 2.0},\n",
       " 'Justin': {'Adventures of Pinocchio, The (1996)': 3.0,\n",
       "  'Bed of Roses (1996)': 4.0,\n",
       "  'Birdcage, The (1996)': 5.0,\n",
       "  'Black Sheep (1996)': 4.0,\n",
       "  'Bottle Rocket (1996)': 3.0,\n",
       "  'Broken Arrow (1996)': 3.0,\n",
       "  'Celtic Pride (1996)': 5.0,\n",
       "  'City Hall (1996)': 4.0,\n",
       "  'Craft, The (1996)': 4.0,\n",
       "  'Down Periscope (1996)': 4.0,\n",
       "  'Eddie (1996)': 5.0,\n",
       "  'Eraser (1996)': 4.0,\n",
       "  'Executive Decision (1996)': 4.0,\n",
       "  'Eye for an Eye (1996)': 4.0,\n",
       "  'Fargo (1996)': 5.0,\n",
       "  'Georgia (1995)': 3.0,\n",
       "  'Great White Hype, The (1996)': 4.0,\n",
       "  'Grumpier Old Men (1995)': 4.0,\n",
       "  'Heat (1995)': 5.0,\n",
       "  'Homeward Bound II: Lost in San Francisco (1996)': 4.0,\n",
       "  'Independence Day (a.k.a. ID4) (1996)': 4.0,\n",
       "  'Island of Dr. Moreau, The (1996)': 3.0,\n",
       "  'James and the Giant Peach (1996)': 3.0,\n",
       "  'Juror, The (1996)': 3.0,\n",
       "  'Kingpin (1996)': 3.0,\n",
       "  'Leaving Las Vegas (1995)': 3.0,\n",
       "  'Mary Reilly (1996)': 3.0,\n",
       "  'Mission: Impossible (1996)': 3.0,\n",
       "  \"Mr. Holland's Opus (1995)\": 5.0,\n",
       "  'Mulholland Falls (1996)': 3.0,\n",
       "  'Multiplicity (1996)': 3.0,\n",
       "  'Nixon (1995)': 4.0,\n",
       "  'Nutty Professor, The (1996)': 4.0,\n",
       "  'Phantom, The (1996)': 3.0,\n",
       "  'Phenomenon (1996)': 4.0,\n",
       "  'Primal Fear (1996)': 4.0,\n",
       "  'River Wild, The (1994)': 4.0,\n",
       "  'Rock, The (1996)': 4.0,\n",
       "  'Rumble in the Bronx (Hont faan kui) (1995)': 5.0,\n",
       "  'Sabrina (1995)': 5.0,\n",
       "  'Screamers (1995)': 3.0,\n",
       "  'Sense and Sensibility (1995)': 4.0,\n",
       "  'Sgt. Bilko (1996)': 3.0,\n",
       "  'Substitute, The (1996)': 4.0,\n",
       "  'Toy Story (1995)': 5.0,\n",
       "  'Twelve Monkeys (a.k.a. 12 Monkeys) (1995)': 2.0,\n",
       "  'Twister (1996)': 4.0,\n",
       "  'Two Bits (1995)': 3.0,\n",
       "  'White Squall (1996)': 5.0,\n",
       "  'Willy Wonka & the Chocolate Factory (1971)': 5.0},\n",
       " 'Matthew': {'Ace Ventura: When Nature Calls (1995)': 3.0,\n",
       "  'Beverly Hills Cop III (1994)': 3.0,\n",
       "  \"Carlito's Way (1993)\": 4.0,\n",
       "  'Client, The (1994)': 4.0,\n",
       "  'Dave (1993)': 3.0,\n",
       "  'Die Hard: With a Vengeance (1995)': 3.0,\n",
       "  'Firm, The (1993)': 5.0,\n",
       "  'Forrest Gump (1994)': 4.0,\n",
       "  'GoldenEye (1995)': 4.0,\n",
       "  'Heat (1995)': 3.0,\n",
       "  'Home Alone (1990)': 4.0,\n",
       "  'Jurassic Park (1993)': 4.0,\n",
       "  'Made in America (1993)': 4.0,\n",
       "  'Mask, The (1994)': 3.0,\n",
       "  'Maverick (1994)': 4.0,\n",
       "  'Naked Gun 33 1/3: The Final Insult (1994)': 4.0,\n",
       "  'Pinocchio (1940)': 4.0,\n",
       "  'Robin Hood: Men in Tights (1993)': 4.0,\n",
       "  'RoboCop 3 (1993)': 3.0,\n",
       "  'Rock, The (1996)': 5.0,\n",
       "  'Secret Garden, The (1993)': 3.0,\n",
       "  'Snow White and the Seven Dwarfs (1937)': 4.0,\n",
       "  'Speed (1994)': 4.0,\n",
       "  'Star Trek: Generations (1994)': 3.0,\n",
       "  'Terminal Velocity (1994)': 3.0,\n",
       "  'Terminator 2: Judgment Day (1991)': 4.0,\n",
       "  'True Lies (1994)': 3.0,\n",
       "  'Twelve Monkeys (a.k.a. 12 Monkeys) (1995)': 1.0},\n",
       " 'Michael': {'2001: A Space Odyssey (1968)': 3.5,\n",
       "  '28 Days Later (2002)': 3.5,\n",
       "  '7th Voyage of Sinbad, The (1958)': 4.0,\n",
       "  'Adventures of Baron Munchausen, The (1988)': 4.0,\n",
       "  'Alien (1979)': 4.0,\n",
       "  'Aliens (1986)': 4.0,\n",
       "  'American Werewolf in London, An (1981)': 4.0,\n",
       "  'Apocalypse Now (1979)': 3.5,\n",
       "  'Army of Darkness (1993)': 4.0,\n",
       "  'Austin Powers: The Spy Who Shagged Me (1999)': 3.5,\n",
       "  'Beastmaster, The (1982)': 3.0,\n",
       "  'Beetlejuice (1988)': 4.0,\n",
       "  \"Bill & Ted's Bogus Journey (1991)\": 3.5,\n",
       "  \"Bill & Ted's Excellent Adventure (1989)\": 4.0,\n",
       "  'Birds, The (1963)': 4.0,\n",
       "  'Blade Runner (1982)': 4.0,\n",
       "  'Borrowers, The (1997)': 3.5,\n",
       "  'Brotherhood of the Wolf (Pacte des loups, Le) (2001)': 4.0,\n",
       "  'Bubba Ho-tep (2002)': 3.5,\n",
       "  'Butch Cassidy and the Sundance Kid (1969)': 3.0,\n",
       "  'Chitty Chitty Bang Bang (1968)': 3.5,\n",
       "  'Christmas Story, A (1983)': 3.5,\n",
       "  'City of Lost Children, The (Cité des enfants perdus, La) (1995)': 3.5,\n",
       "  'Clash of the Titans (1981)': 4.0,\n",
       "  'Clerks (1994)': 4.0,\n",
       "  'Company of Wolves, The (1984)': 4.0,\n",
       "  'Conan the Destroyer (1984)': 3.0,\n",
       "  'Constantine (2005)': 4.0,\n",
       "  'Contact (1997)': 3.5,\n",
       "  'Crouching Tiger, Hidden Dragon (Wo hu cang long) (2000)': 4.0,\n",
       "  'Dark Crystal, The (1982)': 4.0,\n",
       "  'Dawn of the Dead (1978)': 3.5,\n",
       "  'Dead Poets Society (1989)': 3.5,\n",
       "  'Dead Zone, The (1983)': 4.0,\n",
       "  'Die Hard (1988)': 4.0,\n",
       "  'Die Hard 2 (1990)': 3.0,\n",
       "  'Dirty Dozen, The (1967)': 4.0,\n",
       "  'Donnie Darko (2001)': 3.5,\n",
       "  'Dracula (1931)': 3.5,\n",
       "  'Dragonheart (1996)': 3.0,\n",
       "  'Dragonslayer (1981)': 4.0,\n",
       "  'Dune (1984)': 4.0,\n",
       "  'Dungeons & Dragons (2000)': 3.5,\n",
       "  'E.T. the Extra-Terrestrial (1982)': 4.0,\n",
       "  'Edward Scissorhands (1990)': 4.0,\n",
       "  'Enter the Dragon (1973)': 3.0,\n",
       "  'Escape to Witch Mountain (1975)': 3.5,\n",
       "  'Evil Dead II (Dead by Dawn) (1987)': 3.5,\n",
       "  'Evil Dead, The (1981)': 3.5,\n",
       "  'Excalibur (1981)': 4.0,\n",
       "  'Exorcist, The (1973)': 3.5,\n",
       "  'Femme Nikita, La (Nikita) (1990)': 4.0,\n",
       "  \"Ferris Bueller's Day Off (1986)\": 3.5,\n",
       "  'Fight Club (1999)': 4.0,\n",
       "  'Final Fantasy: The Spirits Within (2001)': 3.5,\n",
       "  'Fish Called Wanda, A (1988)': 4.0,\n",
       "  'Flash Gordon (1980)': 3.5,\n",
       "  'Frankenstein (1931)': 3.5,\n",
       "  'Freaks (1932)': 5.0,\n",
       "  'Full Metal Jacket (1987)': 3.5,\n",
       "  'Ghostbusters (a.k.a. Ghost Busters) (1984)': 3.5,\n",
       "  'Godsend (2004)': 3.5,\n",
       "  'Goldfinger (1964)': 3.5,\n",
       "  'Good, the Bad and the Ugly, The (Buono, il brutto, il cattivo, Il) (1966)': 3.0,\n",
       "  'Great Escape, The (1963)': 3.5,\n",
       "  'Hard-Boiled (Lat sau san taam) (1992)': 3.5,\n",
       "  'Harry Potter and the Chamber of Secrets (2002)': 4.0,\n",
       "  'Harry Potter and the Prisoner of Azkaban (2004)': 4.0,\n",
       "  \"Harry Potter and the Sorcerer's Stone (a.k.a. Harry Potter and the Philosopher's Stone) (2001)\": 4.0,\n",
       "  'Heavy Metal 2000 (2000)': 3.5,\n",
       "  'Highlander: Endgame (Highlander IV) (2000)': 4.0,\n",
       "  'Hook (1991)': 4.0,\n",
       "  'Incredibles, The (2004)': 4.0,\n",
       "  'Indiana Jones and the Last Crusade (1989)': 3.5,\n",
       "  'Interview with the Vampire: The Vampire Chronicles (1994)': 4.0,\n",
       "  'Invasion of the Body Snatchers (1956)': 3.5,\n",
       "  'Invasion of the Body Snatchers (1978)': 3.5,\n",
       "  'Invisible Man, The (1933)': 3.0,\n",
       "  'Iron Giant, The (1999)': 3.0,\n",
       "  'Jabberwocky (1977)': 4.0,\n",
       "  \"Jacob's Ladder (1990)\": 3.5,\n",
       "  'Jason and the Argonauts (1963)': 4.0,\n",
       "  'Jaws (1975)': 4.0,\n",
       "  'Jumanji (1995)': 3.5,\n",
       "  'Kill Bill: Vol. 2 (2004)': 4.0,\n",
       "  'Labyrinth (1986)': 4.0,\n",
       "  'Ladyhawke (1985)': 4.0,\n",
       "  'Last Unicorn, The (1982)': 4.0,\n",
       "  'Legend (1985)': 4.0,\n",
       "  'Little Big Man (1970)': 3.5,\n",
       "  'Lock, Stock & Two Smoking Barrels (1998)': 4.0,\n",
       "  'Lord of the Rings: The Fellowship of the Ring, The (2001)': 5.0,\n",
       "  'Lord of the Rings: The Return of the King, The (2003)': 5.0,\n",
       "  'Lord of the Rings: The Two Towers, The (2002)': 5.0,\n",
       "  'Lost Boys, The (1987)': 4.0,\n",
       "  'Léon: The Professional (a.k.a. The Professional) (Léon) (1994)': 4.0,\n",
       "  'Mask, The (1994)': 3.5,\n",
       "  'Masters of the Universe (1987)': 3.0,\n",
       "  'Memento (2000)': 3.5,\n",
       "  'Misery (1990)': 4.0,\n",
       "  'Monty Python and the Holy Grail (1975)': 3.5,\n",
       "  \"Monty Python's Life of Brian (1979)\": 3.5,\n",
       "  \"Monty Python's The Meaning of Life (1983)\": 3.5,\n",
       "  'Navigator: A Mediaeval Odyssey, The (1988)': 4.0,\n",
       "  'Nosferatu (Nosferatu, eine Symphonie des Grauens) (1922)': 3.5,\n",
       "  'O Brother, Where Art Thou? (2000)': 4.0,\n",
       "  'Omen, The (1976)': 3.5,\n",
       "  \"One Flew Over the Cuckoo's Nest (1975)\": 3.5,\n",
       "  'One Million Years B.C. (1966)': 4.0,\n",
       "  'Others, The (2001)': 3.5,\n",
       "  'Peter Pan (2003)': 3.5,\n",
       "  'Picture of Dorian Gray, The (1945)': 3.5,\n",
       "  'Pirates of the Caribbean: The Curse of the Black Pearl (2003)': 4.0,\n",
       "  'Platoon (1986)': 4.0,\n",
       "  'Poltergeist (1982)': 3.5,\n",
       "  'Princess Mononoke (Mononoke-hime) (1997)': 3.5,\n",
       "  'Psycho (1960)': 4.0,\n",
       "  'Pulp Fiction (1994)': 4.0,\n",
       "  'Raiders of the Lost Ark (Indiana Jones and the Raiders of the Lost Ark) (1981)': 4.5,\n",
       "  'Ran (1985)': 3.5,\n",
       "  'Reservoir Dogs (1992)': 3.5,\n",
       "  'Ring, The (2002)': 3.5,\n",
       "  'Ringu (Ring) (1998)': 3.5,\n",
       "  'Rob Roy (1995)': 4.0,\n",
       "  'Rosencrantz and Guildenstern Are Dead (1990)': 3.0,\n",
       "  'Rumble in the Bronx (Hont faan kui) (1995)': 3.5,\n",
       "  'Run Lola Run (Lola rennt) (1998)': 3.5,\n",
       "  'Scary Movie 3 (2003)': 3.0,\n",
       "  'Seven (a.k.a. Se7en) (1995)': 3.5,\n",
       "  'Shawshank Redemption, The (1994)': 4.0,\n",
       "  'Shining, The (1980)': 4.0,\n",
       "  'Shrek (2001)': 4.0,\n",
       "  'Silence of the Lambs, The (1991)': 3.5,\n",
       "  'Sixth Sense, The (1999)': 4.0,\n",
       "  'Slaughterhouse-Five (1972)': 3.5,\n",
       "  'Sleepy Hollow (1999)': 4.0,\n",
       "  'Sling Blade (1996)': 4.0,\n",
       "  'Small Soldiers (1998)': 3.5,\n",
       "  'Snatch (2000)': 4.0,\n",
       "  'Spider-Man 2 (2004)': 4.5,\n",
       "  'Splash (1984)': 4.0,\n",
       "  'Stand by Me (1986)': 4.0,\n",
       "  'Star Kid (1997)': 3.5,\n",
       "  'Star Trek II: The Wrath of Khan (1982)': 4.0,\n",
       "  'Star Wars: Episode I - The Phantom Menace (1999)': 4.0,\n",
       "  'Star Wars: Episode IV - A New Hope (1977)': 4.0,\n",
       "  'Star Wars: Episode V - The Empire Strikes Back (1980)': 4.5,\n",
       "  'Sword and the Sorcerer, The (1982)': 3.5,\n",
       "  'Teenage Mutant Ninja Turtles (1990)': 3.5,\n",
       "  'Terminator 2: Judgment Day (1991)': 3.5,\n",
       "  'Terminator, The (1984)': 4.0,\n",
       "  'Thing, The (1982)': 4.0,\n",
       "  'Time Bandits (1981)': 4.0,\n",
       "  'Time Machine, The (2002)': 4.0,\n",
       "  'Toys (1992)': 3.5,\n",
       "  'Twelve Monkeys (a.k.a. 12 Monkeys) (1995)': 3.5,\n",
       "  'Underworld (2003)': 4.0,\n",
       "  'Unforgiven (1992)': 4.0,\n",
       "  'Untouchables, The (1987)': 3.5,\n",
       "  'Usual Suspects, The (1995)': 3.5,\n",
       "  'Vampire Hunter D: Bloodlust (Banpaia hantâ D) (2000)': 3.5,\n",
       "  'Van Helsing (2004)': 4.0,\n",
       "  'Videodrome (1983)': 4.0,\n",
       "  'Warriors of Virtue (1997)': 3.0,\n",
       "  'Watership Down (1978)': 4.0,\n",
       "  \"What's Eating Gilbert Grape (1993)\": 3.5,\n",
       "  'Wicker Man, The (1973)': 4.0,\n",
       "  'Wilder Napalm (1993)': 3.5,\n",
       "  'Willow (1988)': 4.0,\n",
       "  'Witches of Eastwick, The (1987)': 4.0,\n",
       "  'Witches, The (1990)': 3.5,\n",
       "  'Wizard of Oz, The (1939)': 3.5,\n",
       "  'X2: X-Men United (2003)': 4.0,\n",
       "  'Yojimbo (1961)': 3.0,\n",
       "  'Young Frankenstein (1974)': 4.0},\n",
       " 'Robert': {'Ace Ventura: Pet Detective (1994)': 4.0,\n",
       "  'Babe (1995)': 4.0,\n",
       "  'Beauty and the Beast (1991)': 4.0,\n",
       "  'Brady Bunch Movie, The (1995)': 3.0,\n",
       "  'Braveheart (1995)': 4.0,\n",
       "  'Broken Arrow (1996)': 3.0,\n",
       "  'Cable Guy, The (1996)': 4.0,\n",
       "  'Dances with Wolves (1990)': 3.0,\n",
       "  'Dead Man Walking (1995)': 4.0,\n",
       "  'Dragonheart (1996)': 4.0,\n",
       "  'Dumb & Dumber (Dumb and Dumber) (1994)': 3.0,\n",
       "  'Eraser (1996)': 4.0,\n",
       "  'Executive Decision (1996)': 3.0,\n",
       "  'Fargo (1996)': 5.0,\n",
       "  'Father of the Bride Part II (1995)': 2.0,\n",
       "  'Forrest Gump (1994)': 4.0,\n",
       "  'Grumpier Old Men (1995)': 3.0,\n",
       "  'Happy Gilmore (1996)': 4.0,\n",
       "  'Heat (1995)': 3.0,\n",
       "  'Independence Day (a.k.a. ID4) (1996)': 3.0,\n",
       "  'Jurassic Park (1993)': 3.0,\n",
       "  'Lion King, The (1994)': 4.0,\n",
       "  'Mission: Impossible (1996)': 3.0,\n",
       "  'Nutty Professor, The (1996)': 4.0,\n",
       "  'River Wild, The (1994)': 3.0,\n",
       "  'Rock, The (1996)': 4.0,\n",
       "  'Sabrina (1995)': 3.0,\n",
       "  \"Schindler's List (1993)\": 4.0,\n",
       "  'Sense and Sensibility (1995)': 3.0,\n",
       "  'Star Wars: Episode IV - A New Hope (1977)': 4.0,\n",
       "  'Terminator 2: Judgment Day (1991)': 4.0,\n",
       "  'Toy Story (1995)': 4.0,\n",
       "  'True Lies (1994)': 4.0,\n",
       "  'Twelve Monkeys (a.k.a. 12 Monkeys) (1995)': 3.0,\n",
       "  'Twister (1996)': 3.0,\n",
       "  'Waterworld (1995)': 3.0},\n",
       " 'Ryan': {'About Last Night... (1986)': 3.0,\n",
       "  'Airplane! (1980)': 4.0,\n",
       "  'American Beauty (1999)': 2.0,\n",
       "  'Auntie Mame (1958)': 5.0,\n",
       "  'Being John Malkovich (1999)': 2.0,\n",
       "  'Better Off Dead... (1985)': 2.0,\n",
       "  'Beverly Hills Cop (1984)': 4.0,\n",
       "  'Boomerang (1992)': 4.0,\n",
       "  'Born in East L.A. (1987)': 4.0,\n",
       "  'City Slickers (1991)': 3.0,\n",
       "  'Clerks (1994)': 3.0,\n",
       "  'Clueless (1995)': 4.0,\n",
       "  'Cocoon (1985)': 2.0,\n",
       "  'Crocodile Dundee (1986)': 4.0,\n",
       "  'Dick (1999)': 2.0,\n",
       "  'Drop Dead Fred (1991)': 3.0,\n",
       "  'Drunken Master (Jui kuen) (1978)': 5.0,\n",
       "  'Empire Records (1995)': 3.0,\n",
       "  'Fast Times at Ridgemont High (1982)': 4.0,\n",
       "  'Fatal Attraction (1987)': 3.0,\n",
       "  'Father of the Bride (1950)': 4.0,\n",
       "  \"Ferris Bueller's Day Off (1986)\": 3.0,\n",
       "  'Fletch Lives (1989)': 3.0,\n",
       "  'Forrest Gump (1994)': 4.0,\n",
       "  'Fright Night (1985)': 3.0,\n",
       "  'Ghost (1990)': 5.0,\n",
       "  'Ghostbusters (a.k.a. Ghost Busters) (1984)': 5.0,\n",
       "  'Grease (1978)': 5.0,\n",
       "  'Grosse Pointe Blank (1997)': 5.0,\n",
       "  'Groundhog Day (1993)': 5.0,\n",
       "  'Half Baked (1998)': 5.0,\n",
       "  'Heat (1995)': 3.0,\n",
       "  'Heathers (1989)': 2.0,\n",
       "  'House Party (1990)': 3.0,\n",
       "  \"I'm Gonna Git You Sucka (1988)\": 4.0,\n",
       "  'Keeping the Faith (2000)': 1.0,\n",
       "  'Kentucky Fried Movie, The (1977)': 5.0,\n",
       "  'Little Shop of Horrors, The (1960)': 1.0,\n",
       "  'Lord of the Flies (1963)': 4.0,\n",
       "  'Men in Black (a.k.a. MIB) (1997)': 4.0,\n",
       "  'Monty Python and the Holy Grail (1975)': 3.0,\n",
       "  'Mystery, Alaska (1999)': 3.0,\n",
       "  'Naked Gun: From the Files of Police Squad!, The (1988)': 5.0,\n",
       "  \"Pee-wee's Big Adventure (1985)\": 3.0,\n",
       "  'Princess Bride, The (1987)': 5.0,\n",
       "  'Raising Arizona (1987)': 2.0,\n",
       "  'Roman Holiday (1953)': 5.0,\n",
       "  'Romancing the Stone (1984)': 4.0,\n",
       "  'Sabrina (1954)': 3.0,\n",
       "  'Say Anything... (1989)': 4.0,\n",
       "  'Shakespeare in Love (1998)': 3.0,\n",
       "  'Sixteen Candles (1984)': 4.0,\n",
       "  'Sleepless in Seattle (1993)': 3.0,\n",
       "  'Splash (1984)': 3.0,\n",
       "  'Swingers (1996)': 3.0,\n",
       "  \"There's Something About Mary (1998)\": 4.0,\n",
       "  'Threesome (1994)': 5.0,\n",
       "  'Toy Story (1995)': 3.0,\n",
       "  'When Harry Met Sally... (1989)': 3.0,\n",
       "  'Working Girl (1988)': 3.0},\n",
       " 'Sarah': {'Ace Ventura: When Nature Calls (1995)': 2.5,\n",
       "  'Apocalypse Now (1979)': 4.5,\n",
       "  'Back to the Future Part III (1990)': 3.5,\n",
       "  'Blair Witch Project, The (1999)': 4.0,\n",
       "  'Casino (1995)': 4.0,\n",
       "  'Demolition Man (1993)': 2.0,\n",
       "  'Ed Wood (1994)': 3.5,\n",
       "  'Fear and Loathing in Las Vegas (1998)': 5.0,\n",
       "  'Godfather: Part II, The (1974)': 4.0,\n",
       "  'Godfather: Part III, The (1990)': 4.0,\n",
       "  'Honey, I Shrunk the Kids (1989)': 2.5,\n",
       "  'In the Line of Fire (1993)': 2.0,\n",
       "  'Indiana Jones and the Last Crusade (1989)': 4.0,\n",
       "  'Indiana Jones and the Temple of Doom (1984)': 3.5,\n",
       "  'Lord of the Rings: The Two Towers, The (2002)': 3.5,\n",
       "  'Matrix, The (1999)': 4.0,\n",
       "  \"Monty Python's Life of Brian (1979)\": 4.0,\n",
       "  \"Monty Python's The Meaning of Life (1983)\": 3.5,\n",
       "  'Naked Gun 33 1/3: The Final Insult (1994)': 2.0,\n",
       "  'Point Break (1991)': 3.5,\n",
       "  'Poltergeist (1982)': 4.0,\n",
       "  'Rain Man (1988)': 3.0,\n",
       "  'Scary Movie (2000)': 3.0,\n",
       "  'Shrek (2001)': 3.5,\n",
       "  'Talented Mr. Ripley, The (1999)': 3.0,\n",
       "  'Taxi Driver (1976)': 4.5,\n",
       "  \"There's Something About Mary (1998)\": 2.5,\n",
       "  'Who Framed Roger Rabbit? (1988)': 3.0}}"
      ]
     },
     "execution_count": 24,
     "metadata": {},
     "output_type": "execute_result"
    }
   ],
   "source": [
    "#Make a dictionary of users and the movies they rated\n",
    "all_dict = dict()\n",
    "for usr in ratings_dict.user_name:\n",
    "    one_usr = ratings_dict[ratings_dict.user_name==usr]\n",
    "    usr_dict = dict(zip(one_usr.movie_title, one_usr.rating))\n",
    "    #all_dict = {usr: usr_dict}\n",
    "    all_dict[str(usr)] = usr_dict\n",
    "    \n",
    "all_dict"
   ]
  },
  {
   "cell_type": "code",
   "execution_count": 25,
   "metadata": {
    "slideshow": {
     "slide_type": "subslide"
    }
   },
   "outputs": [],
   "source": [
    "data = all_dict\n",
    "#Function for calculating similarities\n",
    "def euclidean_similarity(person1, person2):\n",
    "\n",
    "    common_ranked_items = [itm for itm in data[person1] if itm in data[person2]]\n",
    "    rankings = [(data[person1][itm], data[person2][itm]) for itm in common_ranked_items]\n",
    "    distance = [pow(rank[0] - rank[1], 2) for rank in rankings]\n",
    "\n",
    "    return 1 / (1 + sum(distance))"
   ]
  },
  {
   "cell_type": "code",
   "execution_count": 26,
   "metadata": {
    "slideshow": {
     "slide_type": "subslide"
    }
   },
   "outputs": [],
   "source": [
    "# This is a recommend function, which we call to recommend movies to users\n",
    "def recommend(person, bound, similarity=euclidean_similarity):\n",
    "    scores = [(similarity(person, other), other) for other in data if other != person]\n",
    "    \n",
    "    scores.sort()\n",
    "    scores.reverse()\n",
    "    scores = scores[0:bound]\n",
    "\n",
    "    #print (scores)\n",
    "\n",
    "    recomms = {}\n",
    "\n",
    "    for sim, other in scores:\n",
    "        ranked = data[other]\n",
    "\n",
    "        for itm in ranked:\n",
    "            if itm not in data[person]:\n",
    "                weight = sim * ranked[itm]\n",
    "\n",
    "                if itm in recomms:\n",
    "                    s, weights = recomms[itm]\n",
    "                    recomms[itm] = (s + sim, weights + [weight])\n",
    "                else:\n",
    "                    recomms[itm] = (sim, [weight])\n",
    "\n",
    "    #print(recomms)               \n",
    "    for r in recomms:\n",
    "        sim, item = recomms[r]\n",
    "        #print(item) \n",
    "        #print(sum(item)) \n",
    "        recomms[r] = sum(item) / sim #predicted ranking for each movie = actual ranking/similarity\n",
    "\n",
    "    #return recomms\n",
    "    return sorted(recomms.items(), key=lambda x: x[1], reverse=True)[0:bound]"
   ]
  },
  {
   "cell_type": "code",
   "execution_count": 27,
   "metadata": {
    "slideshow": {
     "slide_type": "subslide"
    }
   },
   "outputs": [
    {
     "data": {
      "text/plain": [
       "[('Mighty Aphrodite (1995)', 5.0),\n",
       " (\"Mr. Holland's Opus (1995)\", 5.0),\n",
       " ('Fatal Attraction (1987)', 5.0),\n",
       " ('Patriot Games (1992)', 5.0),\n",
       " ('Gladiator (2000)', 5.0)]"
      ]
     },
     "execution_count": 27,
     "metadata": {},
     "output_type": "execute_result"
    }
   ],
   "source": [
    "# Finally, Let's recommend 5 movies to Michael\n",
    "recommend(\"Michael\", 5, euclidean_similarity)"
   ]
  },
  {
   "cell_type": "markdown",
   "metadata": {
    "collapsed": true,
    "slideshow": {
     "slide_type": "slide"
    }
   },
   "source": [
    "### Section 2: Content-Based Approach\n",
    "The code for this section was adapted from:\n",
    "Source: [DataCamp](https://www.datacamp.com/community/tutorials/recommender-systems-python)\n",
    "You can also modify it for other datasets as well.\n"
   ]
  },
  {
   "cell_type": "markdown",
   "metadata": {
    "slideshow": {
     "slide_type": "subslide"
    }
   },
   "source": [
    "### Question:\n",
    "* Can we use the previous dataset for content based filtering or do we need some other attributes?\n"
   ]
  },
  {
   "cell_type": "code",
   "execution_count": 28,
   "metadata": {
    "slideshow": {
     "slide_type": "fragment"
    }
   },
   "outputs": [
    {
     "data": {
      "text/html": [
       "<div>\n",
       "<style scoped>\n",
       "    .dataframe tbody tr th:only-of-type {\n",
       "        vertical-align: middle;\n",
       "    }\n",
       "\n",
       "    .dataframe tbody tr th {\n",
       "        vertical-align: top;\n",
       "    }\n",
       "\n",
       "    .dataframe thead th {\n",
       "        text-align: right;\n",
       "    }\n",
       "</style>\n",
       "<table border=\"1\" class=\"dataframe\">\n",
       "  <thead>\n",
       "    <tr style=\"text-align: right;\">\n",
       "      <th></th>\n",
       "      <th>userId</th>\n",
       "      <th>movieId</th>\n",
       "      <th>rating</th>\n",
       "      <th>timestamp</th>\n",
       "      <th>movie_title</th>\n",
       "      <th>user_name</th>\n",
       "    </tr>\n",
       "  </thead>\n",
       "  <tbody>\n",
       "    <tr>\n",
       "      <th>0</th>\n",
       "      <td>1</td>\n",
       "      <td>2</td>\n",
       "      <td>3.5</td>\n",
       "      <td>1112486027</td>\n",
       "      <td>Jumanji (1995)</td>\n",
       "      <td>Michael</td>\n",
       "    </tr>\n",
       "    <tr>\n",
       "      <th>1</th>\n",
       "      <td>1</td>\n",
       "      <td>29</td>\n",
       "      <td>3.5</td>\n",
       "      <td>1112484676</td>\n",
       "      <td>City of Lost Children, The (Cité des enfants p...</td>\n",
       "      <td>Michael</td>\n",
       "    </tr>\n",
       "    <tr>\n",
       "      <th>2</th>\n",
       "      <td>1</td>\n",
       "      <td>32</td>\n",
       "      <td>3.5</td>\n",
       "      <td>1112484819</td>\n",
       "      <td>Twelve Monkeys (a.k.a. 12 Monkeys) (1995)</td>\n",
       "      <td>Michael</td>\n",
       "    </tr>\n",
       "    <tr>\n",
       "      <th>3</th>\n",
       "      <td>1</td>\n",
       "      <td>47</td>\n",
       "      <td>3.5</td>\n",
       "      <td>1112484727</td>\n",
       "      <td>Seven (a.k.a. Se7en) (1995)</td>\n",
       "      <td>Michael</td>\n",
       "    </tr>\n",
       "    <tr>\n",
       "      <th>4</th>\n",
       "      <td>1</td>\n",
       "      <td>50</td>\n",
       "      <td>3.5</td>\n",
       "      <td>1112484580</td>\n",
       "      <td>Usual Suspects, The (1995)</td>\n",
       "      <td>Michael</td>\n",
       "    </tr>\n",
       "  </tbody>\n",
       "</table>\n",
       "</div>"
      ],
      "text/plain": [
       "   userId  movieId  rating   timestamp  \\\n",
       "0       1        2     3.5  1112486027   \n",
       "1       1       29     3.5  1112484676   \n",
       "2       1       32     3.5  1112484819   \n",
       "3       1       47     3.5  1112484727   \n",
       "4       1       50     3.5  1112484580   \n",
       "\n",
       "                                         movie_title user_name  \n",
       "0                                     Jumanji (1995)   Michael  \n",
       "1  City of Lost Children, The (Cité des enfants p...   Michael  \n",
       "2          Twelve Monkeys (a.k.a. 12 Monkeys) (1995)   Michael  \n",
       "3                        Seven (a.k.a. Se7en) (1995)   Michael  \n",
       "4                         Usual Suspects, The (1995)   Michael  "
      ]
     },
     "execution_count": 28,
     "metadata": {},
     "output_type": "execute_result"
    }
   ],
   "source": [
    "ratings.head()"
   ]
  },
  {
   "cell_type": "markdown",
   "metadata": {
    "slideshow": {
     "slide_type": "subslide"
    }
   },
   "source": [
    "### Answer\n",
    "* We'll need details about the movie because we wanto to recommend a similar movie\n",
    "* Details like: star actors or the movie plot etc."
   ]
  },
  {
   "cell_type": "markdown",
   "metadata": {
    "slideshow": {
     "slide_type": "fragment"
    }
   },
   "source": [
    "#### Here, we'll recommend movies that are similar to a particular movie. To achieve this we compute  pairwise similarity scores for all movies based on their plot descriptions and recommend movies based on that similarity score.\n",
    "\n"
   ]
  },
  {
   "cell_type": "markdown",
   "metadata": {
    "slideshow": {
     "slide_type": "subslide"
    }
   },
   "source": [
    "#### We'll be using a totally different dataset."
   ]
  },
  {
   "cell_type": "markdown",
   "metadata": {
    "slideshow": {
     "slide_type": "fragment"
    }
   },
   "source": [
    "* This dataset is an iMDB movies dataset that contains 45,000 movies"
   ]
  },
  {
   "cell_type": "code",
   "execution_count": 29,
   "metadata": {
    "slideshow": {
     "slide_type": "subslide"
    }
   },
   "outputs": [
    {
     "data": {
      "text/html": [
       "<div>\n",
       "<style scoped>\n",
       "    .dataframe tbody tr th:only-of-type {\n",
       "        vertical-align: middle;\n",
       "    }\n",
       "\n",
       "    .dataframe tbody tr th {\n",
       "        vertical-align: top;\n",
       "    }\n",
       "\n",
       "    .dataframe thead th {\n",
       "        text-align: right;\n",
       "    }\n",
       "</style>\n",
       "<table border=\"1\" class=\"dataframe\">\n",
       "  <thead>\n",
       "    <tr style=\"text-align: right;\">\n",
       "      <th></th>\n",
       "      <th>adult</th>\n",
       "      <th>belongs_to_collection</th>\n",
       "      <th>budget</th>\n",
       "      <th>genres</th>\n",
       "      <th>homepage</th>\n",
       "      <th>id</th>\n",
       "      <th>imdb_id</th>\n",
       "      <th>original_language</th>\n",
       "      <th>original_title</th>\n",
       "      <th>overview</th>\n",
       "      <th>...</th>\n",
       "      <th>release_date</th>\n",
       "      <th>revenue</th>\n",
       "      <th>runtime</th>\n",
       "      <th>spoken_languages</th>\n",
       "      <th>status</th>\n",
       "      <th>tagline</th>\n",
       "      <th>title</th>\n",
       "      <th>video</th>\n",
       "      <th>vote_average</th>\n",
       "      <th>vote_count</th>\n",
       "    </tr>\n",
       "  </thead>\n",
       "  <tbody>\n",
       "    <tr>\n",
       "      <th>0</th>\n",
       "      <td>False</td>\n",
       "      <td>{'id': 10194, 'name': 'Toy Story Collection', ...</td>\n",
       "      <td>30000000</td>\n",
       "      <td>[{'id': 16, 'name': 'Animation'}, {'id': 35, '...</td>\n",
       "      <td>http://toystory.disney.com/toy-story</td>\n",
       "      <td>862</td>\n",
       "      <td>tt0114709</td>\n",
       "      <td>en</td>\n",
       "      <td>Toy Story</td>\n",
       "      <td>Led by Woody, Andy's toys live happily in his ...</td>\n",
       "      <td>...</td>\n",
       "      <td>1995-10-30</td>\n",
       "      <td>373554033.0</td>\n",
       "      <td>81.0</td>\n",
       "      <td>[{'iso_639_1': 'en', 'name': 'English'}]</td>\n",
       "      <td>Released</td>\n",
       "      <td>NaN</td>\n",
       "      <td>Toy Story</td>\n",
       "      <td>False</td>\n",
       "      <td>7.7</td>\n",
       "      <td>5415.0</td>\n",
       "    </tr>\n",
       "    <tr>\n",
       "      <th>1</th>\n",
       "      <td>False</td>\n",
       "      <td>NaN</td>\n",
       "      <td>65000000</td>\n",
       "      <td>[{'id': 12, 'name': 'Adventure'}, {'id': 14, '...</td>\n",
       "      <td>NaN</td>\n",
       "      <td>8844</td>\n",
       "      <td>tt0113497</td>\n",
       "      <td>en</td>\n",
       "      <td>Jumanji</td>\n",
       "      <td>When siblings Judy and Peter discover an encha...</td>\n",
       "      <td>...</td>\n",
       "      <td>1995-12-15</td>\n",
       "      <td>262797249.0</td>\n",
       "      <td>104.0</td>\n",
       "      <td>[{'iso_639_1': 'en', 'name': 'English'}, {'iso...</td>\n",
       "      <td>Released</td>\n",
       "      <td>Roll the dice and unleash the excitement!</td>\n",
       "      <td>Jumanji</td>\n",
       "      <td>False</td>\n",
       "      <td>6.9</td>\n",
       "      <td>2413.0</td>\n",
       "    </tr>\n",
       "    <tr>\n",
       "      <th>2</th>\n",
       "      <td>False</td>\n",
       "      <td>{'id': 119050, 'name': 'Grumpy Old Men Collect...</td>\n",
       "      <td>0</td>\n",
       "      <td>[{'id': 10749, 'name': 'Romance'}, {'id': 35, ...</td>\n",
       "      <td>NaN</td>\n",
       "      <td>15602</td>\n",
       "      <td>tt0113228</td>\n",
       "      <td>en</td>\n",
       "      <td>Grumpier Old Men</td>\n",
       "      <td>A family wedding reignites the ancient feud be...</td>\n",
       "      <td>...</td>\n",
       "      <td>1995-12-22</td>\n",
       "      <td>0.0</td>\n",
       "      <td>101.0</td>\n",
       "      <td>[{'iso_639_1': 'en', 'name': 'English'}]</td>\n",
       "      <td>Released</td>\n",
       "      <td>Still Yelling. Still Fighting. Still Ready for...</td>\n",
       "      <td>Grumpier Old Men</td>\n",
       "      <td>False</td>\n",
       "      <td>6.5</td>\n",
       "      <td>92.0</td>\n",
       "    </tr>\n",
       "    <tr>\n",
       "      <th>3</th>\n",
       "      <td>False</td>\n",
       "      <td>NaN</td>\n",
       "      <td>16000000</td>\n",
       "      <td>[{'id': 35, 'name': 'Comedy'}, {'id': 18, 'nam...</td>\n",
       "      <td>NaN</td>\n",
       "      <td>31357</td>\n",
       "      <td>tt0114885</td>\n",
       "      <td>en</td>\n",
       "      <td>Waiting to Exhale</td>\n",
       "      <td>Cheated on, mistreated and stepped on, the wom...</td>\n",
       "      <td>...</td>\n",
       "      <td>1995-12-22</td>\n",
       "      <td>81452156.0</td>\n",
       "      <td>127.0</td>\n",
       "      <td>[{'iso_639_1': 'en', 'name': 'English'}]</td>\n",
       "      <td>Released</td>\n",
       "      <td>Friends are the people who let you be yourself...</td>\n",
       "      <td>Waiting to Exhale</td>\n",
       "      <td>False</td>\n",
       "      <td>6.1</td>\n",
       "      <td>34.0</td>\n",
       "    </tr>\n",
       "    <tr>\n",
       "      <th>4</th>\n",
       "      <td>False</td>\n",
       "      <td>{'id': 96871, 'name': 'Father of the Bride Col...</td>\n",
       "      <td>0</td>\n",
       "      <td>[{'id': 35, 'name': 'Comedy'}]</td>\n",
       "      <td>NaN</td>\n",
       "      <td>11862</td>\n",
       "      <td>tt0113041</td>\n",
       "      <td>en</td>\n",
       "      <td>Father of the Bride Part II</td>\n",
       "      <td>Just when George Banks has recovered from his ...</td>\n",
       "      <td>...</td>\n",
       "      <td>1995-02-10</td>\n",
       "      <td>76578911.0</td>\n",
       "      <td>106.0</td>\n",
       "      <td>[{'iso_639_1': 'en', 'name': 'English'}]</td>\n",
       "      <td>Released</td>\n",
       "      <td>Just When His World Is Back To Normal... He's ...</td>\n",
       "      <td>Father of the Bride Part II</td>\n",
       "      <td>False</td>\n",
       "      <td>5.7</td>\n",
       "      <td>173.0</td>\n",
       "    </tr>\n",
       "  </tbody>\n",
       "</table>\n",
       "<p>5 rows × 24 columns</p>\n",
       "</div>"
      ],
      "text/plain": [
       "   adult                              belongs_to_collection    budget  \\\n",
       "0  False  {'id': 10194, 'name': 'Toy Story Collection', ...  30000000   \n",
       "1  False                                                NaN  65000000   \n",
       "2  False  {'id': 119050, 'name': 'Grumpy Old Men Collect...         0   \n",
       "3  False                                                NaN  16000000   \n",
       "4  False  {'id': 96871, 'name': 'Father of the Bride Col...         0   \n",
       "\n",
       "                                              genres  \\\n",
       "0  [{'id': 16, 'name': 'Animation'}, {'id': 35, '...   \n",
       "1  [{'id': 12, 'name': 'Adventure'}, {'id': 14, '...   \n",
       "2  [{'id': 10749, 'name': 'Romance'}, {'id': 35, ...   \n",
       "3  [{'id': 35, 'name': 'Comedy'}, {'id': 18, 'nam...   \n",
       "4                     [{'id': 35, 'name': 'Comedy'}]   \n",
       "\n",
       "                               homepage     id    imdb_id original_language  \\\n",
       "0  http://toystory.disney.com/toy-story    862  tt0114709                en   \n",
       "1                                   NaN   8844  tt0113497                en   \n",
       "2                                   NaN  15602  tt0113228                en   \n",
       "3                                   NaN  31357  tt0114885                en   \n",
       "4                                   NaN  11862  tt0113041                en   \n",
       "\n",
       "                original_title  \\\n",
       "0                    Toy Story   \n",
       "1                      Jumanji   \n",
       "2             Grumpier Old Men   \n",
       "3            Waiting to Exhale   \n",
       "4  Father of the Bride Part II   \n",
       "\n",
       "                                            overview    ...     release_date  \\\n",
       "0  Led by Woody, Andy's toys live happily in his ...    ...       1995-10-30   \n",
       "1  When siblings Judy and Peter discover an encha...    ...       1995-12-15   \n",
       "2  A family wedding reignites the ancient feud be...    ...       1995-12-22   \n",
       "3  Cheated on, mistreated and stepped on, the wom...    ...       1995-12-22   \n",
       "4  Just when George Banks has recovered from his ...    ...       1995-02-10   \n",
       "\n",
       "       revenue runtime                                   spoken_languages  \\\n",
       "0  373554033.0    81.0           [{'iso_639_1': 'en', 'name': 'English'}]   \n",
       "1  262797249.0   104.0  [{'iso_639_1': 'en', 'name': 'English'}, {'iso...   \n",
       "2          0.0   101.0           [{'iso_639_1': 'en', 'name': 'English'}]   \n",
       "3   81452156.0   127.0           [{'iso_639_1': 'en', 'name': 'English'}]   \n",
       "4   76578911.0   106.0           [{'iso_639_1': 'en', 'name': 'English'}]   \n",
       "\n",
       "     status                                            tagline  \\\n",
       "0  Released                                                NaN   \n",
       "1  Released          Roll the dice and unleash the excitement!   \n",
       "2  Released  Still Yelling. Still Fighting. Still Ready for...   \n",
       "3  Released  Friends are the people who let you be yourself...   \n",
       "4  Released  Just When His World Is Back To Normal... He's ...   \n",
       "\n",
       "                         title  video vote_average vote_count  \n",
       "0                    Toy Story  False          7.7     5415.0  \n",
       "1                      Jumanji  False          6.9     2413.0  \n",
       "2             Grumpier Old Men  False          6.5       92.0  \n",
       "3            Waiting to Exhale  False          6.1       34.0  \n",
       "4  Father of the Bride Part II  False          5.7      173.0  \n",
       "\n",
       "[5 rows x 24 columns]"
      ]
     },
     "execution_count": 29,
     "metadata": {},
     "output_type": "execute_result"
    }
   ],
   "source": [
    "metadata = pd.read_csv('movies_metadata.csv', low_memory=False)\n",
    "metadata.head(5)\n"
   ]
  },
  {
   "cell_type": "code",
   "execution_count": 30,
   "metadata": {
    "slideshow": {
     "slide_type": "subslide"
    }
   },
   "outputs": [
    {
     "data": {
      "text/plain": [
       "0    Led by Woody, Andy's toys live happily in his ...\n",
       "1    When siblings Judy and Peter discover an encha...\n",
       "2    A family wedding reignites the ancient feud be...\n",
       "3    Cheated on, mistreated and stepped on, the wom...\n",
       "4    Just when George Banks has recovered from his ...\n",
       "Name: overview, dtype: object"
      ]
     },
     "execution_count": 30,
     "metadata": {},
     "output_type": "execute_result"
    }
   ],
   "source": [
    "metadata['overview'].head()"
   ]
  },
  {
   "cell_type": "markdown",
   "metadata": {
    "slideshow": {
     "slide_type": "slide"
    }
   },
   "source": [
    "#### STEP ONE"
   ]
  },
  {
   "cell_type": "markdown",
   "metadata": {
    "slideshow": {
     "slide_type": "fragment"
    }
   },
   "source": [
    "* Compute the pairwise similarity between any two movie plots"
   ]
  },
  {
   "cell_type": "markdown",
   "metadata": {
    "slideshow": {
     "slide_type": "subslide"
    }
   },
   "source": [
    "* To do this we'll need to convert each plots into Term Frequency-Inverse Document Frequency (TF-IDF) vectors\n",
    "\n",
    "* scikit-learn gives you a built-in TfIdfVectorizer class that produces the TF-IDF matrix in a couple of lines."
   ]
  },
  {
   "cell_type": "code",
   "execution_count": 31,
   "metadata": {
    "slideshow": {
     "slide_type": "subslide"
    }
   },
   "outputs": [
    {
     "data": {
      "text/plain": [
       "(45466, 75827)"
      ]
     },
     "execution_count": 31,
     "metadata": {},
     "output_type": "execute_result"
    }
   ],
   "source": [
    "#Import TfIdfVectorizer from scikit-learn\n",
    "from sklearn.feature_extraction.text import TfidfVectorizer\n",
    "\n",
    "#Define a TF-IDF Vectorizer Object. Remove all english stop words such as 'the', 'a'\n",
    "tfidf = TfidfVectorizer(stop_words='english')\n",
    "\n",
    "#Replace NaN with an empty string\n",
    "metadata['overview'] = metadata['overview'].fillna('')\n",
    "\n",
    "#Construct the required TF-IDF matrix by fitting and transforming the data\n",
    "tfidf_matrix = tfidf.fit_transform(metadata['overview'])\n",
    "\n",
    "#Output the shape of tfidf_matrix\n",
    "tfidf_matrix.shape"
   ]
  },
  {
   "cell_type": "markdown",
   "metadata": {
    "collapsed": true,
    "slideshow": {
     "slide_type": "fragment"
    }
   },
   "source": [
    "* over 75,000 different words were used to describe the 45,000 movies in your dataset"
   ]
  },
  {
   "cell_type": "markdown",
   "metadata": {
    "slideshow": {
     "slide_type": "notes"
    }
   },
   "source": [
    "the TF-IDF score is the frequency of a word occurring in a document, down-weighted by the number of documents in which it occurs. This is done to reduce the importance of words that occur frequently in plot overviews and therefore, their significance in computing the final similarity score."
   ]
  },
  {
   "cell_type": "code",
   "execution_count": 32,
   "metadata": {
    "slideshow": {
     "slide_type": "fragment"
    }
   },
   "outputs": [],
   "source": [
    " #Import linear_kernel\n",
    "from sklearn.metrics.pairwise import linear_kernel\n",
    "\n",
    "# Compute the cosine similarity matrix using linear_kernel function\n",
    "cosine_sim = linear_kernel(tfidf_matrix, tfidf_matrix)"
   ]
  },
  {
   "cell_type": "markdown",
   "metadata": {
    "slideshow": {
     "slide_type": "notes"
    }
   },
   "source": [
    "Note that the tf-idf functionality in sklearn.feature_extraction.text can produce normalized vectors, in which case cosine_similarity is equivalent to linear_kernel, only slower.\n",
    "\n",
    "cosine_sim holds the similarity between all our movies"
   ]
  },
  {
   "cell_type": "markdown",
   "metadata": {
    "slideshow": {
     "slide_type": "slide"
    }
   },
   "source": [
    "#### STEP TWO"
   ]
  },
  {
   "cell_type": "markdown",
   "metadata": {
    "slideshow": {
     "slide_type": "subslide"
    }
   },
   "source": [
    "* We'll write a function  called get_recommendations that takes in the movie title and outputs a list of the 10 most similar movies\n",
    "\n",
    "* Remember to give our movie title an index or ID as in:"
   ]
  },
  {
   "cell_type": "code",
   "execution_count": 33,
   "metadata": {
    "slideshow": {
     "slide_type": "fragment"
    }
   },
   "outputs": [],
   "source": [
    "#Construct a reverse map of indices and movie titles\n",
    "indices = pd.Series(metadata.index, index=metadata['title']).drop_duplicates()"
   ]
  },
  {
   "cell_type": "code",
   "execution_count": 34,
   "metadata": {
    "slideshow": {
     "slide_type": "subslide"
    }
   },
   "outputs": [],
   "source": [
    "# Function that takes in movie title as input and outputs most similar movies\n",
    "def get_recommendations(title, cosine_sim=cosine_sim):\n",
    "    # Get the index of the movie that matches the title\n",
    "    idx = indices[title]\n",
    "\n",
    "    # Get the pairwise similarity scores of all movies with that movie\n",
    "    sim_scores = list(enumerate(cosine_sim[idx]))\n",
    "\n",
    "    # Sort the movies based on the similarity scores\n",
    "    sim_scores = sorted(sim_scores, key=lambda x: x[1], reverse=True)\n",
    "\n",
    "    # Get the scores of the 10 most similar movies\n",
    "    sim_scores = sim_scores[1:11]\n",
    "\n",
    "    # Get the movie indices\n",
    "    movie_indices = [i[0] for i in sim_scores]\n",
    "\n",
    "    # Return the top 10 most similar movies\n",
    "    return metadata['title'].iloc[movie_indices]"
   ]
  },
  {
   "cell_type": "markdown",
   "metadata": {
    "slideshow": {
     "slide_type": "notes"
    }
   },
   "source": [
    "\n",
    "\n",
    "Our function get_recommendation does the following:\n",
    "\n",
    "Get the list of cosine similarity scores for that particular movie with all movies.\n",
    "\n",
    "Convert it into a list of tuples where the first element is its position and the second is the similarity score.\n",
    "\n",
    "Sort the aforementioned list of tuples based on the similarity scores; that is, the second element.\n",
    "\n",
    "Get the top 10 elements of this list. \n",
    "\n",
    "Ignore the first element as it refers to self (the movie most similar to a particular movie is the movie itself).\n",
    "\n",
    "Return the titles corresponding to the indices of the top elements."
   ]
  },
  {
   "cell_type": "code",
   "execution_count": 35,
   "metadata": {
    "slideshow": {
     "slide_type": "subslide"
    }
   },
   "outputs": [
    {
     "data": {
      "text/plain": [
       "12481                                      The Dark Knight\n",
       "150                                         Batman Forever\n",
       "1328                                        Batman Returns\n",
       "15511                           Batman: Under the Red Hood\n",
       "585                                                 Batman\n",
       "21194    Batman Unmasked: The Psychology of the Dark Kn...\n",
       "9230                    Batman Beyond: Return of the Joker\n",
       "18035                                     Batman: Year One\n",
       "19792              Batman: The Dark Knight Returns, Part 1\n",
       "3095                          Batman: Mask of the Phantasm\n",
       "Name: title, dtype: object"
      ]
     },
     "execution_count": 35,
     "metadata": {},
     "output_type": "execute_result"
    }
   ],
   "source": [
    "# Get recommendations for people who have watched \"The Dark Knight Rises\"\n",
    "get_recommendations('The Dark Knight Rises')"
   ]
  },
  {
   "cell_type": "markdown",
   "metadata": {
    "slideshow": {
     "slide_type": "fragment"
    }
   },
   "source": [
    "### What do you notice?\n"
   ]
  },
  {
   "cell_type": "markdown",
   "metadata": {
    "slideshow": {
     "slide_type": "subslide"
    }
   },
   "source": [
    "#### Recap"
   ]
  },
  {
   "cell_type": "markdown",
   "metadata": {
    "slideshow": {
     "slide_type": "fragment"
    }
   },
   "source": [
    "* A disadvantage of Content Based approach, which is?"
   ]
  },
  {
   "cell_type": "code",
   "execution_count": 36,
   "metadata": {
    "slideshow": {
     "slide_type": "subslide"
    }
   },
   "outputs": [
    {
     "data": {
      "text/plain": [
       "1178               The Godfather: Part II\n",
       "44030    The Godfather Trilogy: 1972-1990\n",
       "1914              The Godfather: Part III\n",
       "23126                          Blood Ties\n",
       "11297                    Household Saints\n",
       "34717                   Start Liquidation\n",
       "10821                            Election\n",
       "38030            A Mother Should Be Loved\n",
       "17729                   Short Sharp Shock\n",
       "26293                  Beck 28 - Familjen\n",
       "Name: title, dtype: object"
      ]
     },
     "execution_count": 36,
     "metadata": {},
     "output_type": "execute_result"
    }
   ],
   "source": [
    "# Get recommendations for people who have watched \"The Godfather\"\n",
    "get_recommendations('The Godfather')"
   ]
  },
  {
   "cell_type": "markdown",
   "metadata": {
    "slideshow": {
     "slide_type": "slide"
    }
   },
   "source": [
    "<h1>Bonus Tip!</h1>"
   ]
  },
  {
   "cell_type": "markdown",
   "metadata": {
    "slideshow": {
     "slide_type": "subslide"
    }
   },
   "source": [
    "\n",
    "#### False positives are more undesirable than False Negatives.\n",
    "\n",
    "* i.e . its costlier for my recommender system to tell me customer A will like a product whereas, he ends up not liking it than not recommending a product he would like. False positive are detrimental to . So our model should reduce false positives...\n"
   ]
  },
  {
   "cell_type": "markdown",
   "metadata": {},
   "source": [
    "#### Take Home:\n",
    "* Research on ways to evaluate a recommenders system \n",
    "* Research on ways to reduce False Positives"
   ]
  },
  {
   "cell_type": "markdown",
   "metadata": {
    "slideshow": {
     "slide_type": "slide"
    }
   },
   "source": [
    "<h1>Thanks for coming & Happy Recommending!</h1>"
   ]
  },
  {
   "cell_type": "markdown",
   "metadata": {
    "slideshow": {
     "slide_type": "slide"
    }
   },
   "source": [
    "### Resources\n",
    "\n",
    "* Datasets to play with:\n",
    "    - https://grouplens.org/datasets/movielens/\n",
    "    - https://www.kaggle.com\n",
    "* Other useful books and tutorials\n",
    "    - https://www.manning.com/books/practical-recommender-systems\n",
    "    - https://www.kaggle.com/plarmuseau/book-recommender-system"
   ]
  },
  {
   "cell_type": "code",
   "execution_count": null,
   "metadata": {},
   "outputs": [],
   "source": []
  }
 ],
 "metadata": {
  "celltoolbar": "Slideshow",
  "kernelspec": {
   "display_name": "Python 3",
   "language": "python",
   "name": "python3"
  },
  "language_info": {
   "codemirror_mode": {
    "name": "ipython",
    "version": 3
   },
   "file_extension": ".py",
   "mimetype": "text/x-python",
   "name": "python",
   "nbconvert_exporter": "python",
   "pygments_lexer": "ipython3",
   "version": "3.6.8"
  }
 },
 "nbformat": 4,
 "nbformat_minor": 2
}
